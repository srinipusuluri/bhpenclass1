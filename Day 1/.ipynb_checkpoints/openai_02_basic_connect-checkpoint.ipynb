{
 "cells": [
  {
   "cell_type": "code",
   "execution_count": 1,
   "id": "accb671b-45a6-4ab0-834a-bf60a28cdf01",
   "metadata": {},
   "outputs": [],
   "source": [
    "import openai"
   ]
  },
  {
   "cell_type": "code",
   "execution_count": 2,
   "id": "f5337d20-3a8c-4e75-ae84-a654a393765b",
   "metadata": {},
   "outputs": [
    {
     "data": {
      "text/plain": [
       "'1.45.1'"
      ]
     },
     "execution_count": 2,
     "metadata": {},
     "output_type": "execute_result"
    }
   ],
   "source": [
    "openai.__version__"
   ]
  },
  {
   "cell_type": "code",
   "execution_count": 3,
   "id": "2373c214-6fbc-4efc-836a-fe5fffe25a03",
   "metadata": {},
   "outputs": [],
   "source": [
    "from openai import OpenAI\n",
    "import json"
   ]
  },
  {
   "cell_type": "code",
   "execution_count": 4,
   "id": "258cce6c-e8dc-4bf7-9460-1b5a6f313235",
   "metadata": {},
   "outputs": [],
   "source": [
    "# from dotenv import load_dotenv\n",
    "# import os\n",
    "\n",
    "# # Load environment variables from .env file\n",
    "# load_dotenv()\n",
    "\n",
    "# print('OpenAI API Key : ' , os.getenv(\"OPENAI_API_KEY\"))\n",
    "\n",
    "# # Get the OpenAI API key from the environment\n",
    "# # openai_api_key = os.getenv(\"OPENAI_API_KEY\")"
   ]
  },
  {
   "cell_type": "code",
   "execution_count": 5,
   "id": "efd74f76-e7df-4c75-9d67-61fa685e1b52",
   "metadata": {},
   "outputs": [],
   "source": [
    "client = OpenAI(\n",
    "    # defaults to os.environ.get(\"OPENAI_API_KEY\")\n",
    "    # api_key = openai_api_key\n",
    ")"
   ]
  },
  {
   "cell_type": "markdown",
   "id": "047a0506-fd1b-4d40-b07b-af27fd044a8b",
   "metadata": {},
   "source": [
    "Ex 01"
   ]
  },
  {
   "cell_type": "code",
   "execution_count": 6,
   "id": "78479496-2ce7-4621-95e0-8f3f2a222509",
   "metadata": {},
   "outputs": [],
   "source": [
    "response = client.chat.completions.create(\n",
    "                messages=[\n",
    "                    {\"role\": \"user\", \"content\": \"what is Data Science\"}\n",
    "                ],\n",
    "                model=\"gpt-4o-mini\",\n",
    "                max_tokens = 10\n",
    ")"
   ]
  },
  {
   "cell_type": "code",
   "execution_count": 7,
   "id": "c4758a72-26df-4450-b3e6-15b162f5b5d5",
   "metadata": {},
   "outputs": [
    {
     "data": {
      "text/plain": [
       "'Data science is an interdisciplinary field that uses scientific methods'"
      ]
     },
     "execution_count": 7,
     "metadata": {},
     "output_type": "execute_result"
    }
   ],
   "source": [
    "response.choices[0].message.content"
   ]
  },
  {
   "cell_type": "markdown",
   "id": "7804ab90-0982-44d9-8e78-b56fbaad1bb2",
   "metadata": {},
   "source": [
    "Ex 02"
   ]
  },
  {
   "cell_type": "code",
   "execution_count": 8,
   "id": "48a3b2da-fcc2-4eb3-99ac-4d94f4e37fce",
   "metadata": {},
   "outputs": [],
   "source": [
    "response = client.chat.completions.create(\n",
    "                  model=\"gpt-3.5-turbo\",\n",
    "                  messages=[\n",
    "    \n",
    "                    {\"role\": \"user\",   \"content\": \"What is Boltzmann distribution\"}\n",
    "                  ]\n",
    ")"
   ]
  },
  {
   "cell_type": "code",
   "execution_count": 9,
   "id": "39f48dbe-1a43-46e0-ac19-a9babb56ceff",
   "metadata": {},
   "outputs": [
    {
     "data": {
      "text/plain": [
       "'The Boltzmann distribution is a probability distribution that describes the distribution of particles in a system at thermal equilibrium. It is named after the Austrian physicist Ludwig Boltzmann, who derived it in the late 19th century. The Boltzmann distribution states that the probability of finding a particle in a certain energy state is proportional to the exponential of the negative ratio of that energy state to the temperature of the system. This distribution is commonly used in statistical mechanics to describe the thermal equilibrium of a system.'"
      ]
     },
     "execution_count": 9,
     "metadata": {},
     "output_type": "execute_result"
    }
   ],
   "source": [
    "response.choices[0].message.content.replace(\"\\n\", \" \")"
   ]
  },
  {
   "cell_type": "code",
   "execution_count": null,
   "id": "a0caaaa4-8152-40ed-b74f-49f4eab9eda9",
   "metadata": {},
   "outputs": [],
   "source": []
  }
 ],
 "metadata": {
  "kernelspec": {
   "display_name": "Python 3 (ipykernel)",
   "language": "python",
   "name": "python3"
  },
  "language_info": {
   "codemirror_mode": {
    "name": "ipython",
    "version": 3
   },
   "file_extension": ".py",
   "mimetype": "text/x-python",
   "name": "python",
   "nbconvert_exporter": "python",
   "pygments_lexer": "ipython3",
   "version": "3.12.4"
  }
 },
 "nbformat": 4,
 "nbformat_minor": 5
}
