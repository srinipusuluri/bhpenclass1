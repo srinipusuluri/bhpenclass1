{
 "cells": [
  {
   "cell_type": "markdown",
   "id": "be3b114a-df79-4308-9bac-15d4dd3f63cf",
   "metadata": {},
   "source": [
    "--------------------------\n",
    "#### Frequency penalty\n",
    "- default = 0\n",
    "------------------------"
   ]
  },
  {
   "cell_type": "markdown",
   "id": "9e699496-91f8-4653-8113-4004fd4fa801",
   "metadata": {},
   "source": [
    "| **Aspect**                        | **Without Frequency Penalty**                                                                                                     | **With Frequency Penalty**                                                                                                         | **Observation**                                                                                                                    |\n",
    "|-----------------------------------|-------------------------------------------------------------------------------------------------------------------------------------|-------------------------------------------------------------------------------------------------------------------------------------|------------------------------------------------------------------------------------------------------------------------------------|\n",
    "| **Example 1**                     | \"A sunny day at the beach is a great day. The sun shines brightly, and the beach is filled with people. People love to sunbathe on the beach. The beach has beautiful sand, and the waves are calm. A sunny day is perfect for swimming in the ocean. The sun is shining, and everyone enjoys the sunny day.\" | \"A sunny day at the beach is delightful. The bright sun casts warmth on the sand, and visitors flock to the shore. Many choose to relax under colorful umbrellas, while others engage in beach games. The coastline boasts soft sand, and the gentle waves invite swimmers. This beautiful weather creates a perfect atmosphere for making memories.\" | In the first example (without a frequency penalty), the model repeatedly uses phrases like \"sunny day,\" \"beach,\" and \"sun\" multiple times. This repetition may lead to less engaging and monotonous text. In the second example (with a frequency penalty), the output features more varied vocabulary and different expressions. Words like \"delightful,\" \"warmth,\" \"visitors,\" and \"coastline\" are used, resulting in a more interesting and engaging description. |\n",
    "| **Example 2**                     | \"A dog is a loyal pet. Dogs are great companions. Many people love dogs. Dogs can be trained to do tricks. A dog needs exercise and love. Dogs come in various breeds, and each breed has unique characteristics. A dog can be a friend and a protector.\" | \"A dog is known for its loyalty and companionship. These animals are beloved by many for their playful nature. Each breed offers different traits and characteristics. Regular exercise and affection are essential for a dog's well-being. A dog can also serve as a guardian, providing both friendship and protection.\" | In the first example (without a frequency penalty), the model generates repetitive content, which can detract from the overall quality and engagement of the text. In the second example (with a frequency penalty), the model produces more varied and dynamic language, making the text more appealing and coherent. |\n",
    "| **Summary**                       | Without frequency penalty, the model generates repetitive content that can detract from quality and engagement.                     | With frequency penalty, the model produces varied and dynamic language, enhancing the appeal and coherence of the text.            | In contexts where creativity and engagement are essential, using a frequency penalty can significantly enhance the quality of the generated output.                         |\n"
   ]
  },
  {
   "cell_type": "markdown",
   "id": "e9b97eb9-2454-4153-8893-ee76b0581748",
   "metadata": {},
   "source": [
    "#### How frequency penalty works?\n",
    "\n",
    "- The frequency penalty in OpenAI's GPT models works by `modifying the probability distribution` of tokens during text generation to `reduce` the likelihood of repeating tokens that have already been used."
   ]
  },
  {
   "cell_type": "markdown",
   "id": "45e6a00d-9580-4a3f-98a0-63135066f3c7",
   "metadata": {},
   "source": [
    "##### Token Probability Distribution:\n",
    "- When the model generates text, it calculates probabilities for each potential next token (word or phrase) based on the context provided by the prompt and the tokens that have already been generated.\n",
    "- These probabilities determine which token the model will select as the next word in the sequence.\n",
    "\n",
    "##### Applying the Frequency Penalty:\n",
    "- The frequency penalty is applied to tokens that have already been generated. The `penalty reduces the probabilities of these tokens`.\n",
    "- The `amount of reduction` depends on the `frequency penalty` value set by the user:\n",
    "  - **Value of 0**: No penalty is applied, meaning tokens can be repeated freely.\n",
    "  - **Higher Values (1 to 2)**: The penalty is incrementally increased, making previously used tokens less likely to be selected again.\n",
    "\n",
    "##### Effect on Token Selection:\n",
    "- As a result of applying the frequency penalty, the model is incentivized to choose less frequent tokens. This leads to:\n",
    "  - **Reduced Repetition**: Common words or phrases that have already appeared in the text are less likely to be repeated.\n",
    "  - **Increased Vocabulary Diversity**: The model may opt for synonyms or alternative expressions to maintain fluency and engagement in the generated text.\n",
    "\n",
    "##### Adjusting Output Quality:\n",
    "- By tuning the frequency penalty, users can control the style and creativity of the output. A higher penalty generally leads to:\n",
    "  - More varied and engaging text.\n",
    "  - A decrease in repetitive phrases, which can improve the overall quality of creative writing, storytelling, or any context where diverse language is beneficial.\n"
   ]
  },
  {
   "cell_type": "code",
   "execution_count": 1,
   "id": "5f0f4c1f-9cec-436c-b021-439eeb922f7c",
   "metadata": {},
   "outputs": [],
   "source": [
    "import openai"
   ]
  },
  {
   "cell_type": "code",
   "execution_count": 2,
   "id": "7ac87f23-978e-41c6-a08f-b2c7e8c4d0f1",
   "metadata": {},
   "outputs": [],
   "source": [
    "from openai import OpenAI"
   ]
  },
  {
   "cell_type": "code",
   "execution_count": 3,
   "id": "e2f2d62c-eb94-4d73-bb06-e491dcdfa658",
   "metadata": {},
   "outputs": [],
   "source": [
    "client = OpenAI(\n",
    "    # defaults to os.environ.get(\"OPENAI_API_KEY\")\n",
    "    # api_key = openai_api_key\n",
    ")"
   ]
  },
  {
   "cell_type": "code",
   "execution_count": 5,
   "id": "46d78a58-c29b-44ad-b74d-e88a532a2b33",
   "metadata": {},
   "outputs": [],
   "source": [
    "# Function to generate text with different temperatures\n",
    "def generate_story(prompt, freq_penalty=0, max_tokens=100):\n",
    "    response = client.chat.completions.create(\n",
    "        model      = \"gpt-3.5-turbo\",  # You can use other engines like gpt-3.5-turbo\n",
    "        messages   = [\n",
    "        {\"role\": \"user\", \"content\": f'{prompt}'}\n",
    "        ],\n",
    "        max_tokens       = max_tokens,\n",
    "        frequency_penalty= freq_penalty \n",
    "    )\n",
    "    return response.choices[0].message.content"
   ]
  },
  {
   "cell_type": "code",
   "execution_count": 6,
   "id": "09b8ac1f-709e-4b2f-a2c3-6ad8aab2a1b0",
   "metadata": {},
   "outputs": [
    {
     "data": {
      "text/plain": [
       "'Describe a cat using 1000 words'"
      ]
     },
     "execution_count": 6,
     "metadata": {},
     "output_type": "execute_result"
    }
   ],
   "source": [
    "# Prompt\n",
    "max_tokens = 1000\n",
    "prompt = f'''Describe a cat using {max_tokens} words'''\n",
    "prompt"
   ]
  },
  {
   "cell_type": "code",
   "execution_count": 7,
   "id": "7a06e9e7-2c33-44b2-8dd6-e5e807e243af",
   "metadata": {},
   "outputs": [
    {
     "name": "stdout",
     "output_type": "stream",
     "text": [
      "Frequency Penalty = 0\n"
     ]
    }
   ],
   "source": [
    "# Low freq penalty\n",
    "freq_penalty = 0\n",
    "\n",
    "print(f\"Frequency Penalty = {freq_penalty}\")\n",
    "#print(generate_story(prompt, freq_penalty=freq_penalty, max_tokens=max_tokens))\n",
    "\n",
    "text = generate_story(prompt, freq_penalty=freq_penalty, max_tokens=max_tokens)"
   ]
  },
  {
   "cell_type": "code",
   "execution_count": 8,
   "id": "7a113e6f-0f4f-44ba-99a9-95d1b4232962",
   "metadata": {},
   "outputs": [
    {
     "data": {
      "text/plain": [
       "\"A cat is a fascinating creature, a domesticated feline that has been a beloved companion to humans for centuries. With its sleek body, graceful movements, and piercing eyes, the cat is a symbol of elegance and mystery.\\n\\nThe cat's coat is a thing of beauty, often soft and luxurious to the touch. It can come in a variety of colors and patterns, from solid black to striped tabby to calico with patches of white, black, and orange. Some cats have short fur that lies close to their body, while others have long, flowing coats that require regular grooming to keep them looking their best. No matter the type of fur, a cat's coat is always a source of pride for both the cat and its owner.\\n\\nA cat's eyes are another striking feature, windows to its soul that seem to hold a world of wisdom and secrets. They can be any color under the sun, from golden yellow to bright green to deep blue. When a cat stares at you with those mesmerizing eyes, it's as if it can see right through you, reading your thoughts and emotions with uncanny accuracy.\\n\\nThe ears of a cat are another defining characteristic, usually tall and pointed, always alert and swiveling to catch the faintest sound. A cat's hearing is incredibly sharp, able to detect the faintest rustle of a mouse or the subtlest creak of a door opening. Its whiskers are equally sensitive, able to detect even the slightest changes in air currents and help the cat navigate its surroundings with ease.\\n\\nA cat's nose is also a marvel of nature, able to detect scents that are beyond the range of human olfaction. It uses its sense of smell to identify familiar objects and places, as well as to communicate with other cats through scent marking. A cat's sense of smell is so acute that it can even detect the pheromones released by a female cat in heat from miles away.\\n\\nThe cat's mouth is filled with sharp teeth and a raspy tongue that it uses for grooming and eating. Cats are obligate carnivores, meaning that they require a diet high in animal protein to thrive. They are expert hunters, able to stalk and capture prey with incredible speed and agility. A cat's jaw is also incredibly strong, allowing it to deliver a powerful bite when necessary.\\n\\nA cat's paws are another marvel of nature, each one equipped with five sharp claws that can retract and extend as needed. Cats use their claws for grooming, climbing, and hunting, as well as for marking their territory by scratching on objects. A cat's sense of touch is also highly developed, with sensitive pads on the bottom of its paws that allow it to navigate its environment with precision.\\n\\nThe cat's tail is a thing of beauty, long and slender, always twitching and swaying in tune with its emotions. A cat's tail is a barometer of its mood, with a raised tail indicating confidence and contentment, while a low tail signals fear or aggression. Cats use their tails to communicate with other cats, as well as to maintain their balance when walking and climbing.\\n\\nA cat's behavior is another fascinating aspect of its personality, full of quirks and idiosyncrasies that make it endlessly entertaining to watch. Cats are often described as aloof and independent, but they can also be affectionate and playful when they choose to be. They have a reputation for being finicky eaters and picky about their litter boxes, but they are also known for their ability to adapt to new situations and environments with ease.\\n\\nCats are solitary creatures by nature, but they can form strong bonds with their human companions and other animals in the household. They are social animals that enjoy the company of others, whether it's curling up on the couch with their owner or engaging in a game of chase with a fellow feline. Cats are also known for their purring, a soothing sound that they make when they are happy and content.\\n\\nIn conclusion, a cat is a fascinating and enigmatic creature, full of beauty, grace, and intelligence. With its striking appearance, sharp senses, and unpredictable behavior, the cat will always hold a special place in the hearts of humans as a beloved companion and friend.\""
      ]
     },
     "execution_count": 8,
     "metadata": {},
     "output_type": "execute_result"
    }
   ],
   "source": [
    "text"
   ]
  },
  {
   "cell_type": "code",
   "execution_count": 9,
   "id": "464ef84b-1598-4421-895d-b3f45959d404",
   "metadata": {},
   "outputs": [],
   "source": [
    "import re"
   ]
  },
  {
   "cell_type": "code",
   "execution_count": 10,
   "id": "4194e5bf-6888-4b26-a850-49de70b51629",
   "metadata": {},
   "outputs": [],
   "source": [
    "def count_cat_variations(text):\n",
    "    # Define a pattern to match 'cat', 'cats', and 'cat's' (case insensitive)\n",
    "    pattern = r'\\b(cat|cats|cat\\'s)\\b'\n",
    "    \n",
    "    # Find all matches in the text\n",
    "    matches = re.findall(pattern, text, flags=re.IGNORECASE)\n",
    "    \n",
    "    # Count occurrences\n",
    "    counts = {\n",
    "        'cat': matches.count('cat'),\n",
    "        'cats': matches.count('cats'),\n",
    "        \"cat's\": matches.count(\"cat's\")\n",
    "    }\n",
    "    \n",
    "    return counts"
   ]
  },
  {
   "cell_type": "code",
   "execution_count": 11,
   "id": "7cd672f1-a40a-47ed-b0d6-0447920cc22d",
   "metadata": {},
   "outputs": [
    {
     "data": {
      "text/plain": [
       "{'cat': 22, 'cats': 3, \"cat's\": 0}"
      ]
     },
     "execution_count": 11,
     "metadata": {},
     "output_type": "execute_result"
    }
   ],
   "source": [
    "count_cat_variations(text)"
   ]
  },
  {
   "cell_type": "code",
   "execution_count": 12,
   "id": "c9cff329-cbd0-4784-b869-ea0a996ad05c",
   "metadata": {},
   "outputs": [
    {
     "name": "stdout",
     "output_type": "stream",
     "text": [
      "Frequency Penalty = 2\n"
     ]
    }
   ],
   "source": [
    "# High freq penalty\n",
    "freq_penalty = 2\n",
    "\n",
    "print(f\"Frequency Penalty = {freq_penalty}\")\n",
    "#print(generate_story(prompt, freq_penalty=freq_penalty, max_tokens=max_tokens))\n",
    "\n",
    "text = generate_story(prompt, freq_penalty=freq_penalty, max_tokens=max_tokens)"
   ]
  },
  {
   "cell_type": "code",
   "execution_count": 13,
   "id": "74c484f6-b928-45d2-a37e-44e370a2a0a6",
   "metadata": {},
   "outputs": [
    {
     "data": {
      "text/plain": [
       "{'cat': 3, 'cats': 1, \"cat's\": 0}"
      ]
     },
     "execution_count": 13,
     "metadata": {},
     "output_type": "execute_result"
    }
   ],
   "source": [
    "count_cat_variations(text)"
   ]
  },
  {
   "cell_type": "markdown",
   "id": "21cab287-301e-4ab1-b6f5-c5ea302ab6f4",
   "metadata": {},
   "source": [
    "#### Maths behind freq penalty"
   ]
  },
  {
   "cell_type": "markdown",
   "id": "de2765ef-1cbb-49db-9fd6-23d85102069d",
   "metadata": {},
   "source": [
    "#### Basic Concepts\n",
    "\n",
    "**1. Token Probability Distribution**\n",
    "- When generating text, the model calculates the probability $P(t_i)$ of the next token $t_i$ based on the context and previous tokens.\n",
    "\n",
    "**2. Softmax Function**\n",
    "- The model uses a softmax function to convert raw logits (the output scores for each token) into probabilities. \n",
    "- This can be represented as:\n",
    "$$ \\Large P(t_i) = \\frac {e^{(z_i)}} { ∑e^{(z_j)}} $$\n",
    "\n",
    " where $z_i$ is the logit for token $t_i$ and the sum is over all possible tokens $j$."
   ]
  },
  {
   "cell_type": "markdown",
   "id": "4ebbca9c-d02b-48aa-9468-f55c471ac311",
   "metadata": {},
   "source": [
    "#### Applying the Frequency Penalty\n",
    "\n",
    "When a `frequency penalty` is applied, the model modifies the logits for tokens that have already been generated. The adjustment can be represented as follows:\n",
    "\n",
    "**1. Define the Penalty**\n",
    "- Let $f(t)$ be the frequency of token $t$ in the generated text so far. \n",
    "- The frequency penalty $FP(t)$ for a token can be defined as:\n",
    "  \n",
    "$$ \\Large FP(t) = e^{(-λf(t))}$$\n",
    "\n",
    "where λ is a scaling factor (which can vary based on the frequency penalty value, e.g., 0 to 2).\n",
    "\n",
    "**2. Modify the Logits**\n",
    "- The adjusted logit for a token $t_i$ after applying the `frequency penalty` can be expressed as:\n",
    "\n",
    "$$ \\Large z'_i = z_i + log(FP(t_i)) = z_i - λ.f(t_i) $$\n",
    "\n",
    "Here, $z'_i$ is the modified logit that incorporates the penalty for previously used tokens.\n",
    "\n",
    "**3. Recalculate Probabilities**\n",
    "- After adjusting the logits, the new probabilities P'(t_i) for the tokens are recalculated using the softmax function:\n",
    "  \n",
    "$$ \\Large P'(t_i) = e^{(z'_i)} / ∑(e^{(z'_j)}) \n",
    "           = e^{(z_i - λf(t_i))} / ∑(e^{(z_j - λf(t_j))})$$"
   ]
  },
  {
   "cell_type": "code",
   "execution_count": null,
   "id": "10f9fdae-9475-4089-921e-aee318ddedd9",
   "metadata": {},
   "outputs": [],
   "source": []
  }
 ],
 "metadata": {
  "kernelspec": {
   "display_name": "Python 3 (ipykernel)",
   "language": "python",
   "name": "python3"
  },
  "language_info": {
   "codemirror_mode": {
    "name": "ipython",
    "version": 3
   },
   "file_extension": ".py",
   "mimetype": "text/x-python",
   "name": "python",
   "nbconvert_exporter": "python",
   "pygments_lexer": "ipython3",
   "version": "3.12.4"
  }
 },
 "nbformat": 4,
 "nbformat_minor": 5
}
