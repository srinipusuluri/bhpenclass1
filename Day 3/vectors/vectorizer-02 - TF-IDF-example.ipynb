{
 "cells": [
  {
   "cell_type": "code",
   "execution_count": 1,
   "metadata": {},
   "outputs": [],
   "source": [
    "import pandas as pd\n",
    "import numpy as np\n",
    "\n",
    "# import plotting libraries\n",
    "import matplotlib.pyplot as plt\n",
    "%matplotlib inline \n",
    "\n",
    "import seaborn as sns\n",
    "sns.set(style=\"white\", color_codes=True)\n",
    "sns.set(font_scale=1.5)\n",
    "\n",
    "# For text processing\n",
    "from sklearn.feature_extraction.text import CountVectorizer\n",
    "from sklearn.feature_extraction.text import TfidfVectorizer"
   ]
  },
  {
   "cell_type": "code",
   "execution_count": 17,
   "metadata": {},
   "outputs": [],
   "source": [
    "texts = ['His smile was not perfect smile smile sang sang smile smile ', \n",
    "         'His smile was not not not not perfect sang sang smile smile smile smile ', \n",
    "         'she she she she not sang sang sang sang '\n",
    "        ]"
   ]
  },
  {
   "cell_type": "code",
   "execution_count": 18,
   "metadata": {},
   "outputs": [],
   "source": [
    "# default \n",
    "# - n-grams = 1\n",
    "# - stopwords filterations : false\n",
    "# - lowercase : yes\n",
    "\n",
    "# instantiate the vectorizer\n",
    "vect_tfidf = TfidfVectorizer(analyzer='word')"
   ]
  },
  {
   "cell_type": "code",
   "execution_count": 19,
   "metadata": {},
   "outputs": [
    {
     "data": {
      "text/plain": [
       "TfidfVectorizer()"
      ]
     },
     "execution_count": 19,
     "metadata": {},
     "output_type": "execute_result"
    }
   ],
   "source": [
    "# train (Bow) \n",
    "vect_tfidf.fit(texts)"
   ]
  },
  {
   "cell_type": "code",
   "execution_count": 20,
   "metadata": {},
   "outputs": [
    {
     "name": "stdout",
     "output_type": "stream",
     "text": [
      "Vocabulary size: 7\n",
      "['his', 'not', 'perfect', 'sang', 'she', 'smile', 'was']\n",
      "Vocabulary content:\n",
      " {'his': 0, 'smile': 5, 'was': 6, 'not': 1, 'perfect': 2, 'sang': 3, 'she': 4}\n"
     ]
    }
   ],
   "source": [
    "# get all the feature/token names\n",
    "print(\"Vocabulary size: {}\".format(len(vect_tfidf.vocabulary_)))\n",
    "\n",
    "feature_names = vect_tfidf.get_feature_names()\n",
    "print(feature_names)\n",
    "\n",
    "print(\"Vocabulary content:\\n {}\".format(vect_tfidf.vocabulary_))"
   ]
  },
  {
   "cell_type": "code",
   "execution_count": 21,
   "metadata": {},
   "outputs": [],
   "source": [
    "# prepare dtm\n",
    "X_train_tfidf_dtm = vect_tfidf.transform(texts)"
   ]
  },
  {
   "cell_type": "code",
   "execution_count": 22,
   "metadata": {},
   "outputs": [
    {
     "name": "stdout",
     "output_type": "stream",
     "text": [
      "<class 'scipy.sparse.csr.csr_matrix'>\n",
      "[[0.17956055 0.13944479 0.17956055 0.27888957 0.         0.89780275\n",
      "  0.17956055]\n",
      " [0.15799185 0.49077906 0.15799185 0.24538953 0.         0.78995925\n",
      "  0.15799185]\n",
      " [0.         0.1261204  0.         0.50448158 0.85416157 0.\n",
      "  0.        ]]\n"
     ]
    }
   ],
   "source": [
    "print(type(X_train_tfidf_dtm))\n",
    "print(X_train_tfidf_dtm.toarray())"
   ]
  },
  {
   "cell_type": "code",
   "execution_count": 23,
   "metadata": {},
   "outputs": [
    {
     "data": {
      "text/html": [
       "<div>\n",
       "<style scoped>\n",
       "    .dataframe tbody tr th:only-of-type {\n",
       "        vertical-align: middle;\n",
       "    }\n",
       "\n",
       "    .dataframe tbody tr th {\n",
       "        vertical-align: top;\n",
       "    }\n",
       "\n",
       "    .dataframe thead th {\n",
       "        text-align: right;\n",
       "    }\n",
       "</style>\n",
       "<table border=\"1\" class=\"dataframe\">\n",
       "  <thead>\n",
       "    <tr style=\"text-align: right;\">\n",
       "      <th></th>\n",
       "      <th>his</th>\n",
       "      <th>not</th>\n",
       "      <th>perfect</th>\n",
       "      <th>sang</th>\n",
       "      <th>she</th>\n",
       "      <th>smile</th>\n",
       "      <th>was</th>\n",
       "    </tr>\n",
       "  </thead>\n",
       "  <tbody>\n",
       "    <tr>\n",
       "      <th>0</th>\n",
       "      <td>0.179561</td>\n",
       "      <td>0.139445</td>\n",
       "      <td>0.179561</td>\n",
       "      <td>0.278890</td>\n",
       "      <td>0.000000</td>\n",
       "      <td>0.897803</td>\n",
       "      <td>0.179561</td>\n",
       "    </tr>\n",
       "    <tr>\n",
       "      <th>1</th>\n",
       "      <td>0.157992</td>\n",
       "      <td>0.490779</td>\n",
       "      <td>0.157992</td>\n",
       "      <td>0.245390</td>\n",
       "      <td>0.000000</td>\n",
       "      <td>0.789959</td>\n",
       "      <td>0.157992</td>\n",
       "    </tr>\n",
       "    <tr>\n",
       "      <th>2</th>\n",
       "      <td>0.000000</td>\n",
       "      <td>0.126120</td>\n",
       "      <td>0.000000</td>\n",
       "      <td>0.504482</td>\n",
       "      <td>0.854162</td>\n",
       "      <td>0.000000</td>\n",
       "      <td>0.000000</td>\n",
       "    </tr>\n",
       "  </tbody>\n",
       "</table>\n",
       "</div>"
      ],
      "text/plain": [
       "        his       not   perfect      sang       she     smile       was\n",
       "0  0.179561  0.139445  0.179561  0.278890  0.000000  0.897803  0.179561\n",
       "1  0.157992  0.490779  0.157992  0.245390  0.000000  0.789959  0.157992\n",
       "2  0.000000  0.126120  0.000000  0.504482  0.854162  0.000000  0.000000"
      ]
     },
     "execution_count": 23,
     "metadata": {},
     "output_type": "execute_result"
    }
   ],
   "source": [
    "# create a dataframe\n",
    "pd.DataFrame(X_train_tfidf_dtm.toarray(), columns=feature_names)"
   ]
  },
  {
   "cell_type": "code",
   "execution_count": 24,
   "metadata": {},
   "outputs": [],
   "source": [
    "# IDF: The inverse document frequency"
   ]
  },
  {
   "cell_type": "code",
   "execution_count": 25,
   "metadata": {},
   "outputs": [],
   "source": [
    "idf = vect_tfidf.idf_"
   ]
  },
  {
   "cell_type": "code",
   "execution_count": 26,
   "metadata": {},
   "outputs": [
    {
     "data": {
      "text/plain": [
       "array([1.28768207, 1.        , 1.28768207, 1.        , 1.69314718,\n",
       "       1.28768207, 1.28768207])"
      ]
     },
     "execution_count": 26,
     "metadata": {},
     "output_type": "execute_result"
    }
   ],
   "source": [
    "idf"
   ]
  },
  {
   "cell_type": "code",
   "execution_count": 27,
   "metadata": {},
   "outputs": [],
   "source": [
    "X_train_with_idf = dict(zip(vect_tfidf.get_feature_names(), idf))"
   ]
  },
  {
   "cell_type": "code",
   "execution_count": 28,
   "metadata": {},
   "outputs": [
    {
     "data": {
      "text/plain": [
       "{'his': 1.2876820724517808,\n",
       " 'not': 1.0,\n",
       " 'perfect': 1.2876820724517808,\n",
       " 'sang': 1.0,\n",
       " 'she': 1.6931471805599454,\n",
       " 'smile': 1.2876820724517808,\n",
       " 'was': 1.2876820724517808}"
      ]
     },
     "execution_count": 28,
     "metadata": {},
     "output_type": "execute_result"
    }
   ],
   "source": [
    "X_train_with_idf"
   ]
  },
  {
   "cell_type": "code",
   "execution_count": 29,
   "metadata": {},
   "outputs": [],
   "source": [
    "# sorted(X_train_with_idf.values())"
   ]
  },
  {
   "cell_type": "code",
   "execution_count": 30,
   "metadata": {},
   "outputs": [],
   "source": [
    "# We see that the tokens 'sang','she' have the most idf weight because they are the only \n",
    "# tokens that appear in one document only.\n",
    "\n",
    "# The token 'not' appears 6 times but it is also in all documents, so its idf is the lowest"
   ]
  },
  {
   "cell_type": "code",
   "execution_count": 31,
   "metadata": {},
   "outputs": [
    {
     "data": {
      "text/plain": [
       "{'his': 1.2876820724517808,\n",
       " 'not': 1.0,\n",
       " 'perfect': 1.2876820724517808,\n",
       " 'sang': 1.0,\n",
       " 'she': 1.6931471805599454,\n",
       " 'smile': 1.2876820724517808,\n",
       " 'was': 1.2876820724517808}"
      ]
     },
     "execution_count": 31,
     "metadata": {},
     "output_type": "execute_result"
    }
   ],
   "source": [
    "X_train_with_idf"
   ]
  },
  {
   "cell_type": "code",
   "execution_count": 32,
   "metadata": {},
   "outputs": [
    {
     "data": {
      "text/plain": [
       "dict_items([('his', 1.2876820724517808), ('not', 1.0), ('perfect', 1.2876820724517808), ('sang', 1.0), ('she', 1.6931471805599454), ('smile', 1.2876820724517808), ('was', 1.2876820724517808)])"
      ]
     },
     "execution_count": 32,
     "metadata": {},
     "output_type": "execute_result"
    }
   ],
   "source": [
    "X_train_with_idf.items()"
   ]
  },
  {
   "cell_type": "code",
   "execution_count": 33,
   "metadata": {},
   "outputs": [
    {
     "data": {
      "text/plain": [
       "[('not', 1.0),\n",
       " ('sang', 1.0),\n",
       " ('his', 1.2876820724517808),\n",
       " ('perfect', 1.2876820724517808),\n",
       " ('smile', 1.2876820724517808),\n",
       " ('was', 1.2876820724517808),\n",
       " ('she', 1.6931471805599454)]"
      ]
     },
     "execution_count": 33,
     "metadata": {},
     "output_type": "execute_result"
    }
   ],
   "source": [
    "sorted(X_train_with_idf.items(), key = lambda x : x[1])"
   ]
  },
  {
   "cell_type": "code",
   "execution_count": 34,
   "metadata": {},
   "outputs": [
    {
     "data": {
      "text/html": [
       "<div>\n",
       "<style scoped>\n",
       "    .dataframe tbody tr th:only-of-type {\n",
       "        vertical-align: middle;\n",
       "    }\n",
       "\n",
       "    .dataframe tbody tr th {\n",
       "        vertical-align: top;\n",
       "    }\n",
       "\n",
       "    .dataframe thead th {\n",
       "        text-align: right;\n",
       "    }\n",
       "</style>\n",
       "<table border=\"1\" class=\"dataframe\">\n",
       "  <thead>\n",
       "    <tr style=\"text-align: right;\">\n",
       "      <th></th>\n",
       "      <th>token</th>\n",
       "      <th>weight</th>\n",
       "    </tr>\n",
       "  </thead>\n",
       "  <tbody>\n",
       "    <tr>\n",
       "      <th>4</th>\n",
       "      <td>she</td>\n",
       "      <td>1.693147</td>\n",
       "    </tr>\n",
       "    <tr>\n",
       "      <th>0</th>\n",
       "      <td>his</td>\n",
       "      <td>1.287682</td>\n",
       "    </tr>\n",
       "    <tr>\n",
       "      <th>2</th>\n",
       "      <td>perfect</td>\n",
       "      <td>1.287682</td>\n",
       "    </tr>\n",
       "    <tr>\n",
       "      <th>5</th>\n",
       "      <td>smile</td>\n",
       "      <td>1.287682</td>\n",
       "    </tr>\n",
       "    <tr>\n",
       "      <th>6</th>\n",
       "      <td>was</td>\n",
       "      <td>1.287682</td>\n",
       "    </tr>\n",
       "    <tr>\n",
       "      <th>1</th>\n",
       "      <td>not</td>\n",
       "      <td>1.000000</td>\n",
       "    </tr>\n",
       "    <tr>\n",
       "      <th>3</th>\n",
       "      <td>sang</td>\n",
       "      <td>1.000000</td>\n",
       "    </tr>\n",
       "  </tbody>\n",
       "</table>\n",
       "</div>"
      ],
      "text/plain": [
       "     token    weight\n",
       "4      she  1.693147\n",
       "0      his  1.287682\n",
       "2  perfect  1.287682\n",
       "5    smile  1.287682\n",
       "6      was  1.287682\n",
       "1      not  1.000000\n",
       "3     sang  1.000000"
      ]
     },
     "execution_count": 34,
     "metadata": {},
     "output_type": "execute_result"
    }
   ],
   "source": [
    "# Graphing inverse document frequency\n",
    "\n",
    "df_X_idf = pd.DataFrame.from_dict(X_train_with_idf, orient='index').reset_index()\n",
    "df_X_idf.columns=('token','weight')\n",
    "\n",
    "df_X_idf = df_X_idf.sort_values(by='weight', ascending=False)\n",
    "df_X_idf "
   ]
  },
  {
   "cell_type": "code",
   "execution_count": 32,
   "metadata": {},
   "outputs": [
    {
     "data": {
      "image/png": "[encoded data removed]",
      "text/plain": [
       "<matplotlib.figure.Figure at 0x1d4c8dc6940>"
      ]
     },
     "metadata": {},
     "output_type": "display_data"
    }
   ],
   "source": [
    "sns.barplot(x='token', y='weight', data=df_X_idf)            \n",
    "plt.title(\"Inverse Document Frequency(idf) per token\")\n",
    "fig=plt.gcf()\n",
    "fig.set_size_inches(10,5)"
   ]
  },
  {
   "cell_type": "markdown",
   "metadata": {
    "jupyter": {
     "outputs_hidden": true
    }
   },
   "source": [
    "- Summary: the more times a token appears in a document, the more weight it will have. However, the more documents the token appears in, it is 'penalized' and the weight is diminished. \n",
    "\n",
    "- For example, the weight for token 'not' is 4, but if it did not appear in all documents (that is, only in one document) its weight \n",
    "would have been 8.3"
   ]
  },
  {
   "cell_type": "code",
   "execution_count": null,
   "metadata": {},
   "outputs": [],
   "source": []
  }
 ],
 "metadata": {
  "kernelspec": {
   "display_name": "Python 3 (ipykernel)",
   "language": "python",
   "name": "python3"
  },
  "language_info": {
   "codemirror_mode": {
    "name": "ipython",
    "version": 3
   },
   "file_extension": ".py",
   "mimetype": "text/x-python",
   "name": "python",
   "nbconvert_exporter": "python",
   "pygments_lexer": "ipython3",
   "version": "3.9.13"
  }
 },
 "nbformat": 4,
 "nbformat_minor": 4
}
