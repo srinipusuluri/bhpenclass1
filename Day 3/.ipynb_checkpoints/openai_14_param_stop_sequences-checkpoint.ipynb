{
 "cells": [
  {
   "cell_type": "markdown",
   "id": "1cc272e6-eb5c-4146-9e3b-fd4a55e3a09b",
   "metadata": {},
   "source": [
    "----------------------------\n",
    "#### Settings : Stop sequences\n",
    "------------------------------"
   ]
  },
  {
   "cell_type": "markdown",
   "id": "3e7f0d14-9e96-433f-b59f-089973bd313e",
   "metadata": {},
   "source": [
    "#### Definition of Stop Sequences\n",
    "\n",
    "- A stop sequence is a specific string or set of strings provided to an OpenAI GPT model that tells the model to halt its text generation as soon as it encounters that string.\n",
    "  \n",
    "- These are useful in guiding the model to stop at logical endpoints (e.g., a particular punctuation, phrase, or prompt structure), ensuring the output ends in a controlled and meaningful way."
   ]
  },
  {
   "cell_type": "code",
   "execution_count": 1,
   "id": "72b41625-5afd-45eb-8b7d-3a8860ace8c8",
   "metadata": {},
   "outputs": [],
   "source": [
    "import openai\n",
    "import os"
   ]
  },
  {
   "cell_type": "code",
   "execution_count": 2,
   "id": "4f6bb9a1-ef33-4b17-9b33-486229ae1495",
   "metadata": {},
   "outputs": [],
   "source": [
    "from openai import OpenAI"
   ]
  },
  {
   "cell_type": "code",
   "execution_count": 3,
   "id": "e4aaeade-0324-4511-b0e5-186f128b846b",
   "metadata": {},
   "outputs": [],
   "source": [
    "client = OpenAI(\n",
    "    # defaults to os.environ.get(\"OPENAI_API_KEY\")\n",
    "    # api_key = openai_api_key\n",
    ")"
   ]
  },
  {
   "cell_type": "code",
   "execution_count": 4,
   "id": "a5fadd91-4471-4df1-ae2d-795053298650",
   "metadata": {},
   "outputs": [],
   "source": [
    "# Function to generate text \n",
    "def generate_story(prompt, stop_sequences = []):\n",
    "    response = client.chat.completions.create(\n",
    "        model      = \"gpt-3.5-turbo\",  # You can use other engines like gpt-3.5-turbo\n",
    "        messages   = [\n",
    "            {\"role\": \"assistant\", \"content\": 'You are a helpful assistant'},\n",
    "            {\"role\": \"user\", \"content\": f'{prompt}'}\n",
    "        ],\n",
    "        stop =  stop_sequences \n",
    "    )\n",
    "    return response.choices[0].message.content"
   ]
  },
  {
   "cell_type": "code",
   "execution_count": 5,
   "id": "5dd6b939-cdd4-4ea1-b9cb-550f65c78597",
   "metadata": {},
   "outputs": [
    {
     "data": {
      "text/plain": [
       "'What is the capital of France?'"
      ]
     },
     "execution_count": 5,
     "metadata": {},
     "output_type": "execute_result"
    }
   ],
   "source": [
    "# Prompt\n",
    "prompt = f'''What is the capital of France?'''\n",
    "prompt"
   ]
  },
  {
   "cell_type": "code",
   "execution_count": 6,
   "id": "ae7c9ab7-84e1-475c-9f57-511030d7c2a0",
   "metadata": {},
   "outputs": [
    {
     "name": "stdout",
     "output_type": "stream",
     "text": [
      "Stop sequences = []\n"
     ]
    },
    {
     "data": {
      "text/plain": [
       "'The capital of France is Paris.'"
      ]
     },
     "execution_count": 6,
     "metadata": {},
     "output_type": "execute_result"
    }
   ],
   "source": [
    "# stop_sequences = ['kolkata']\n",
    "# stop_sequences = [\"\\n\", \"User:\"]   # The model will stop generating output when it encounters a newline (\\n) or sees the sequence \"User:\".\n",
    "# stop_sequences = [\"\\n\", \".\"]\n",
    "stop_sequences = []                  # Empty stop seqeuence list\n",
    "\n",
    "print(f\"Stop sequences = {stop_sequences}\")\n",
    "\n",
    "text = generate_story(prompt, stop_sequences=stop_sequences)\n",
    "\n",
    "text"
   ]
  },
  {
   "cell_type": "code",
   "execution_count": 8,
   "id": "b01b6083-0eba-428c-a3f9-9ac9d108268f",
   "metadata": {},
   "outputs": [],
   "source": [
    "# Prompt\n",
    "prompt = f'''List movies of Amitabh Bachchan?\n",
    "\n",
    "    Example:\n",
    "    1: Mahaan\n",
    "    2: Gambler\n",
    "\n",
    "'''"
   ]
  },
  {
   "cell_type": "code",
   "execution_count": 9,
   "id": "c488c77b-7191-4560-8632-b46101787d91",
   "metadata": {},
   "outputs": [],
   "source": [
    "stop_sequences = ['11:']"
   ]
  },
  {
   "cell_type": "code",
   "execution_count": 10,
   "id": "485b1a3f-32d9-43c5-8829-3d0ee6f1fcdf",
   "metadata": {},
   "outputs": [
    {
     "name": "stdout",
     "output_type": "stream",
     "text": [
      "Stop sequences = ['11:']\n",
      "1: Sholay\n",
      "2: Zanjeer\n",
      "3: Deewaar\n",
      "4: Amar Akbar Anthony\n",
      "5: Don\n",
      "6: Silsila\n",
      "7: Muqaddar Ka Sikandar\n",
      "8: Agneepath\n",
      "9: Hum\n",
      "10: Black\n"
     ]
    }
   ],
   "source": [
    "print(f\"Stop sequences = {stop_sequences}\")\n",
    "\n",
    "text = generate_story(prompt, stop_sequences=stop_sequences)\n",
    "\n",
    "print(text)"
   ]
  },
  {
   "cell_type": "markdown",
   "id": "e4afdb82-42b1-440b-bcde-d68e8d65cca4",
   "metadata": {},
   "source": [
    "#### Limitations of Stop Sequences\n",
    "\n",
    "- **Over-truncation**: If the stop sequence is too common or too broad (e.g., using `\\n`), it might cause the model to stop prematurely, truncating useful content.\n",
    "\n",
    "- **Exact Matching**: The stop sequence must exactly match what the model generates. Minor deviations or extra spaces can prevent the stop sequence from working as intended.\n",
    "\n",
    "- **Static Nature**: Stop sequences are static and fixed. They cannot dynamically adapt based on the content being generated, which can be limiting in cases where more flexible output control is needed.\n",
    "\n",
    "- **Can’t Control Subtle Text Generation**: Stop sequences help stop the text but cannot control nuanced aspects of the generation, like ensuring the correct tone or coherence in larger outputs.\n"
   ]
  },
  {
   "cell_type": "code",
   "execution_count": null,
   "id": "125cf4d0-3cc3-4680-bb0e-66d5b578d591",
   "metadata": {},
   "outputs": [],
   "source": []
  }
 ],
 "metadata": {
  "kernelspec": {
   "display_name": "Python 3 (ipykernel)",
   "language": "python",
   "name": "python3"
  },
  "language_info": {
   "codemirror_mode": {
    "name": "ipython",
    "version": 3
   },
   "file_extension": ".py",
   "mimetype": "text/x-python",
   "name": "python",
   "nbconvert_exporter": "python",
   "pygments_lexer": "ipython3",
   "version": "3.12.4"
  }
 },
 "nbformat": 4,
 "nbformat_minor": 5
}
