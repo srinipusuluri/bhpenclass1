{
 "cells": [
  {
   "cell_type": "markdown",
   "id": "b9d8bccf-dd37-40f7-b537-bcd9f82b2b72",
   "metadata": {},
   "source": [
    "--------------------\n",
    "#### sample_retriever_direct\n",
    "---------------------"
   ]
  },
  {
   "cell_type": "code",
   "execution_count": 1,
   "id": "5a515100-1a17-494f-a900-7dee3503a136",
   "metadata": {},
   "outputs": [],
   "source": [
    "from llama_index.core import SummaryIndex, SimpleDirectoryReader\n",
    "from llama_index.core.retrievers import SummaryIndexEmbeddingRetriever"
   ]
  },
  {
   "cell_type": "code",
   "execution_count": 2,
   "id": "469fdc00-7543-4319-bf55-94f6269bfa27",
   "metadata": {},
   "outputs": [],
   "source": [
    "documents = SimpleDirectoryReader(\"files\").load_data()"
   ]
  },
  {
   "cell_type": "markdown",
   "id": "3c7cbe55-5cc4-45cc-9ace-00de2e05bbba",
   "metadata": {},
   "source": [
    "#### Difference between VectorStoreIndex and Summary Index in LlamaIndex\n",
    "\n",
    "**• VectorStoreIndex:**\n",
    "   - Designed to store and retrieve document embeddings efficiently.\n",
    "   - Embeddings (vector representations of documents) are stored in a vector database or vector store.\n",
    "   - Useful for semantic search, where queries are embedded, and then similarity between the query vector and document vectors is computed.\n",
    "   - Ideal for applications requiring fast and accurate similarity search across large sets of documents or data points.\n",
    "   - Supports real-time querying where documents are embedded and stored in the index for quick look-up.\n",
    "\n",
    "**• Summary Index:**\n",
    "   - Focuses on summarizing large sets of documents or data.\n",
    "   - Instead of storing vectors for semantic similarity search, it creates high-level summaries of the documents.\n",
    "   - Useful when you want to extract key points, overviews, or condensed versions of large text collections.\n",
    "   - Ideal for cases where you need human-readable summaries rather than vector-based similarity matching.\n",
    "   - Helps in quickly understanding the essence of multiple documents without going into granular detail.\n",
    "\n",
    "**Summary:**\n",
    "   - The **VectorStoreIndex** is built for efficient vector-based document retrieval, enabling fast semantic searches. \n",
    "   - The **Summary Index** focuses on summarizing content, offering concise overviews of documents rather than optimizing for search.\n"
   ]
  },
  {
   "cell_type": "code",
   "execution_count": 3,
   "id": "fe04c283-4869-4770-9789-ec0d5e2c438a",
   "metadata": {},
   "outputs": [],
   "source": [
    "summary_index = SummaryIndex.from_documents(documents)"
   ]
  },
  {
   "cell_type": "code",
   "execution_count": 7,
   "id": "0bc95c7a-2462-4859-8716-4a6ac682566b",
   "metadata": {},
   "outputs": [
    {
     "data": {
      "text/plain": [
       "dict_keys(['84de7af1-4ef1-4fea-b647-b0f81b4f0045', 'eb6366f9-19a5-481b-a076-7fca1198164c'])"
      ]
     },
     "execution_count": 7,
     "metadata": {},
     "output_type": "execute_result"
    }
   ],
   "source": [
    "summary_index.ref_doc_info.keys()"
   ]
  },
  {
   "cell_type": "markdown",
   "id": "d968bc44-5512-45d3-aca5-ba7150d61322",
   "metadata": {},
   "source": [
    "2 documents, hence 2 summaries"
   ]
  },
  {
   "cell_type": "code",
   "execution_count": 8,
   "id": "e4350210-1bc5-4fb1-8604-e5fa4b0b2b2e",
   "metadata": {},
   "outputs": [],
   "source": [
    "retriever = SummaryIndexEmbeddingRetriever(\n",
    "    index=summary_index\n",
    ")"
   ]
  },
  {
   "cell_type": "code",
   "execution_count": 9,
   "id": "1c8a234e-5c40-4aee-8f41-50e544927c38",
   "metadata": {},
   "outputs": [
    {
     "name": "stdout",
     "output_type": "stream",
     "text": [
      "In ancient Rome, the city of Rome itself was the heart of the vast Roman Empire. It was known for its grand architecture, including iconic structures like the Colosseum and the Pantheon. The Romans were skilled engineers and builders, creating an extensive network of roads, aqueducts, and bridges that connected their far-reaching territories. The Roman Republic, with its Senate and elected officials, gave rise to the famous Roman legions, which conquered vast lands and brought them under Roman rule. The Roman civilization's influence on art, law, and governance can still be seen in modern societies today.\n"
     ]
    }
   ],
   "source": [
    "result = retriever.retrieve(\"Tell me about ancient Rome\")\n",
    "print(result[0].text)"
   ]
  },
  {
   "cell_type": "code",
   "execution_count": 10,
   "id": "628d09eb-c560-4846-8e7c-873589c63187",
   "metadata": {},
   "outputs": [
    {
     "name": "stdout",
     "output_type": "stream",
     "text": [
      "Many people consider dogs to be their loyal companions. These furry creatures come in various breeds, each with its own unique traits and personalities. From the energetic and playful Labrador Retriever to the dignified and intelligent German Shepherd, there's a dog for every type of person. Dogs have been known to provide comfort, protection, and unwavering love to their owners, making them one of the most beloved pets worldwide. Whether they're chasing a ball in the park or curling up by the fireplace, dogs bring joy to our lives in countless ways.\n"
     ]
    }
   ],
   "source": [
    "result = retriever.retrieve(\"Tell me about dogs\")\n",
    "print(result[0].text)"
   ]
  },
  {
   "cell_type": "code",
   "execution_count": null,
   "id": "a425097f-0c05-4b16-93ec-79aaf5d86380",
   "metadata": {},
   "outputs": [],
   "source": []
  }
 ],
 "metadata": {
  "kernelspec": {
   "display_name": "Python 3 (ipykernel)",
   "language": "python",
   "name": "python3"
  },
  "language_info": {
   "codemirror_mode": {
    "name": "ipython",
    "version": 3
   },
   "file_extension": ".py",
   "mimetype": "text/x-python",
   "name": "python",
   "nbconvert_exporter": "python",
   "pygments_lexer": "ipython3",
   "version": "3.9.13"
  }
 },
 "nbformat": 4,
 "nbformat_minor": 5
}
