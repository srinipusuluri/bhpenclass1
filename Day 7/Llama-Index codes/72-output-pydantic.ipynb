{
 "cells": [
  {
   "cell_type": "code",
   "execution_count": 1,
   "id": "317b948e-eff8-4105-bcc7-2c28bd7ade96",
   "metadata": {},
   "outputs": [],
   "source": [
    "#!pip install llama-index"
   ]
  },
  {
   "cell_type": "code",
   "execution_count": 2,
   "id": "9d1a30ec-805d-40fe-9e37-4b9c8204fce6",
   "metadata": {},
   "outputs": [],
   "source": [
    "from pydantic import BaseModel\n",
    "from typing import List\n",
    "\n",
    "from llama_index.core.program import LLMTextCompletionProgram"
   ]
  },
  {
   "cell_type": "markdown",
   "id": "bad0501f-a01c-4f8e-92bd-4f3cfc9b6cb0",
   "metadata": {},
   "source": [
    "#### Define output schema"
   ]
  },
  {
   "cell_type": "code",
   "execution_count": 4,
   "id": "c9dc0934-386a-47b1-9dd9-b1f33eeb961f",
   "metadata": {},
   "outputs": [],
   "source": [
    "class Song(BaseModel):\n",
    "    \"\"\"Data model for a song.\"\"\"\n",
    "\n",
    "    title: str\n",
    "    length_seconds: int\n",
    "\n",
    "\n",
    "class Album(BaseModel):\n",
    "    \"\"\"Data model for an album.\"\"\"\n",
    "\n",
    "    name: str\n",
    "    artist: str\n",
    "    songs: List[Song]"
   ]
  },
  {
   "cell_type": "markdown",
   "id": "49220296-3f18-4da6-9e9c-61f8e5e96da6",
   "metadata": {},
   "source": [
    "#### Define LLM pydantic program"
   ]
  },
  {
   "cell_type": "code",
   "execution_count": 5,
   "id": "1aa63ec0-705e-4569-985b-ab48bf2b3a4d",
   "metadata": {},
   "outputs": [],
   "source": [
    "from llama_index.core.program import LLMTextCompletionProgram"
   ]
  },
  {
   "cell_type": "code",
   "execution_count": 6,
   "id": "a82ca943-8daf-4a47-ba29-7b001729b29b",
   "metadata": {},
   "outputs": [],
   "source": [
    "prompt_template_str = \"\"\"\\\n",
    "Generate an example album, with an artist and a list of songs. \\\n",
    "Using the movie {movie_name} as inspiration.\\\n",
    "\"\"\""
   ]
  },
  {
   "cell_type": "code",
   "execution_count": 7,
   "id": "8c715863-196c-4156-925b-6e1ea1306bc3",
   "metadata": {},
   "outputs": [],
   "source": [
    "program = LLMTextCompletionProgram.from_defaults(\n",
    "    output_cls         = Album,\n",
    "    prompt_template_str= prompt_template_str,\n",
    "    verbose            = True,\n",
    ")"
   ]
  },
  {
   "cell_type": "markdown",
   "id": "d24422fc-72c2-40bb-8b86-e11798ce0e95",
   "metadata": {},
   "source": [
    "#### Run program to get structured output."
   ]
  },
  {
   "cell_type": "code",
   "execution_count": 16,
   "id": "56a191b5-f22b-450c-a727-6f5dc50ee08c",
   "metadata": {},
   "outputs": [
    {
     "data": {
      "text/plain": [
       "Album(name='Redrum', artist='The Overlook Hotel', songs=[Song(title=\"Here's Johnny\", length_seconds=240), Song(title='All Work and No Play', length_seconds=180), Song(title='Room 237', length_seconds=300), Song(title='The Shining', length_seconds=360), Song(title='Forever and Ever and Ever', length_seconds=420)])"
      ]
     },
     "execution_count": 16,
     "metadata": {},
     "output_type": "execute_result"
    }
   ],
   "source": [
    "output = program(movie_name=\"The Shining\")\n",
    "output"
   ]
  },
  {
   "cell_type": "markdown",
   "id": "8a2e0b4e-1bcc-4b29-8e8e-d2b5ab190def",
   "metadata": {},
   "source": [
    "Initialize with Pydantic Output Parser\n",
    "\n",
    "The above is equivalent to defining a Pydantic output parser and passing that in instead of the output_cls directly."
   ]
  },
  {
   "cell_type": "code",
   "execution_count": 17,
   "id": "04ad7520-506d-4174-b03b-c552e489f655",
   "metadata": {},
   "outputs": [],
   "source": [
    "from llama_index.core.output_parsers import PydanticOutputParser\n",
    "\n",
    "program = LLMTextCompletionProgram.from_defaults(\n",
    "    output_parser=PydanticOutputParser(output_cls=Album),\n",
    "    prompt_template_str=prompt_template_str,\n",
    "    verbose=True,\n",
    ")"
   ]
  },
  {
   "cell_type": "code",
   "execution_count": 20,
   "id": "c57344dd-5367-4f51-a1ae-ae4862850cc8",
   "metadata": {},
   "outputs": [
    {
     "data": {
      "text/plain": [
       "Album(name='Jo Jeeta Wohi Sikandar', artist='Various Artists', songs=[Song(title='Pehla Nasha', length_seconds=240), Song(title='Yahaan Ke Hum Sikandar', length_seconds=210), Song(title='Rooth Ke Humse', length_seconds=195), Song(title='Shehar Ki Pariyon', length_seconds=220), Song(title='Naam Hai Mera Fonseca', length_seconds=180)])"
      ]
     },
     "execution_count": 20,
     "metadata": {},
     "output_type": "execute_result"
    }
   ],
   "source": [
    "\n",
    "output = program(movie_name=\"Jo Jeeta wohi sikandar\")\n",
    "output"
   ]
  },
  {
   "cell_type": "markdown",
   "id": "ddab58d5-ffe9-4a70-9531-12c6de52e498",
   "metadata": {},
   "source": [
    "#### Define a Custom Output Parser\n",
    "\n",
    "Sometimes you may want to parse an output your own way into a JSON object."
   ]
  },
  {
   "cell_type": "code",
   "execution_count": 21,
   "id": "27daa3cb-8dc9-4177-b337-9511f4888be9",
   "metadata": {},
   "outputs": [],
   "source": [
    "from llama_index.core.output_parsers import ChainableOutputParser"
   ]
  },
  {
   "cell_type": "code",
   "execution_count": 22,
   "id": "6938bb2a-ed99-450d-9bfa-728ff469359c",
   "metadata": {},
   "outputs": [],
   "source": [
    "class CustomAlbumOutputParser(ChainableOutputParser):\n",
    "    \"\"\"Custom Album output parser.\n",
    "\n",
    "    Assume first line is name and artist.\n",
    "\n",
    "    Assume each subsequent line is the song.\n",
    "\n",
    "    \"\"\"\n",
    "\n",
    "    def __init__(self, verbose: bool = False):\n",
    "        self.verbose = verbose\n",
    "\n",
    "    def parse(self, output: str) -> Album:\n",
    "        \"\"\"Parse output.\"\"\"\n",
    "        if self.verbose:\n",
    "            print(f\"> Raw output: {output}\")\n",
    "        lines = output.split(\"\\n\")\n",
    "        name, artist = lines[0].split(\",\")\n",
    "        songs = []\n",
    "        for i in range(1, len(lines)):\n",
    "            title, length_seconds = lines[i].split(\",\")\n",
    "            songs.append(Song(title=title, length_seconds=length_seconds))\n",
    "\n",
    "        return Album(name=name, artist=artist, songs=songs)"
   ]
  },
  {
   "cell_type": "code",
   "execution_count": 23,
   "id": "022c3ec6-e0a0-48db-8ad7-14686656340c",
   "metadata": {},
   "outputs": [],
   "source": [
    "prompt_template_str = \"\"\"\\\n",
    "Generate an example album, with an artist and a list of songs. \\\n",
    "Using the movie {movie_name} as inspiration.\\\n",
    "\n",
    "Return answer in following format.\n",
    "The first line is:\n",
    "<album_name>, <album_artist>\n",
    "Every subsequent line is a song with format:\n",
    "<song_title>, <song_length_seconds>\n",
    "\n",
    "\"\"\""
   ]
  },
  {
   "cell_type": "code",
   "execution_count": 24,
   "id": "14de351a-a9ba-447f-ba1e-f676e4c6ffe6",
   "metadata": {},
   "outputs": [],
   "source": [
    "program = LLMTextCompletionProgram.from_defaults(\n",
    "    output_parser=CustomAlbumOutputParser(verbose=True),\n",
    "    output_cls=Album,\n",
    "    prompt_template_str=prompt_template_str,\n",
    "    verbose=True,\n",
    ")"
   ]
  },
  {
   "cell_type": "code",
   "execution_count": 25,
   "id": "9906e9ff-25e1-4391-99e9-af816da14ed2",
   "metadata": {},
   "outputs": [
    {
     "name": "stdout",
     "output_type": "stream",
     "text": [
      "> Raw output: Gotham's Reckoning, The Joker\n",
      "Chaos Unleashed, 180\n",
      "The Dark Knight Rises, 210\n",
      "Gotham's Savior, 195\n",
      "Harvey's Descent, 160\n",
      "The Bat Signal, 175\n",
      "The Clown Prince of Crime, 190\n",
      "The Caped Crusader, 200\n",
      "Gotham City Under Siege, 185\n",
      "The Dark Knight's Triumph, 220\n"
     ]
    }
   ],
   "source": [
    "output = program(movie_name=\"The Dark Knight\")"
   ]
  },
  {
   "cell_type": "code",
   "execution_count": null,
   "id": "916be207-375b-4849-8e64-ce9911bc30e5",
   "metadata": {},
   "outputs": [],
   "source": []
  }
 ],
 "metadata": {
  "kernelspec": {
   "display_name": "Python 3 (ipykernel)",
   "language": "python",
   "name": "python3"
  },
  "language_info": {
   "codemirror_mode": {
    "name": "ipython",
    "version": 3
   },
   "file_extension": ".py",
   "mimetype": "text/x-python",
   "name": "python",
   "nbconvert_exporter": "python",
   "pygments_lexer": "ipython3",
   "version": "3.12.4"
  }
 },
 "nbformat": 4,
 "nbformat_minor": 5
}
