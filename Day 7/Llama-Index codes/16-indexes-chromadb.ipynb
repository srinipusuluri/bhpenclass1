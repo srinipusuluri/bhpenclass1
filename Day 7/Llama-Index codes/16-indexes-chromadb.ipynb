{
 "cells": [
  {
   "cell_type": "code",
   "execution_count": null,
   "id": "e767293c-83f6-42fd-9cf0-25c427a9b08f",
   "metadata": {},
   "outputs": [],
   "source": [
    "#!pip install chromadb"
   ]
  },
  {
   "cell_type": "code",
   "execution_count": 20,
   "id": "76091a3c-e56f-47c1-8517-99c0b29505fd",
   "metadata": {},
   "outputs": [],
   "source": [
    "import chromadb\n",
    "from llama_index.vector_stores.chroma import ChromaVectorStore"
   ]
  },
  {
   "cell_type": "code",
   "execution_count": 21,
   "id": "f8c1ac27-1a07-4841-b7c3-59197d5bcaf3",
   "metadata": {},
   "outputs": [],
   "source": [
    "from llama_index.core import VectorStoreIndex, SimpleDirectoryReader, StorageContext"
   ]
  },
  {
   "cell_type": "code",
   "execution_count": 27,
   "id": "6c2605aa-10e5-4935-aa0b-2950fbedc0be",
   "metadata": {},
   "outputs": [],
   "source": [
    "# Creates a persistent instance of Chroma that saves to disk. \n",
    "# This is useful for testing and development, but not recommended for production use.\n",
    "db = chromadb.PersistentClient(path = r\"D:\\AI-DATASETS\\02-MISC-large\\GenAI-LLMs\\chromadb\\llamaindex-chroma_database-bks\")"
   ]
  },
  {
   "cell_type": "code",
   "execution_count": 32,
   "id": "e6f12c73-d942-4819-9d18-4c5224a11224",
   "metadata": {},
   "outputs": [],
   "source": [
    "chroma_collection = db.get_or_create_collection(\n",
    "    \"my_chroma_store-bks\"\n",
    ")"
   ]
  },
  {
   "cell_type": "code",
   "execution_count": 33,
   "id": "7392ec9d-2ac7-41b8-bd75-52ab6e87b0ca",
   "metadata": {},
   "outputs": [],
   "source": [
    "vector_store = ChromaVectorStore(\n",
    "    chroma_collection=chroma_collection\n",
    ")"
   ]
  },
  {
   "cell_type": "code",
   "execution_count": 34,
   "id": "06a6d27d-a664-4c14-89cf-62b2d948c4a2",
   "metadata": {},
   "outputs": [],
   "source": [
    "storage_context = StorageContext.from_defaults(\n",
    "    vector_store=vector_store\n",
    ")"
   ]
  },
  {
   "cell_type": "code",
   "execution_count": 35,
   "id": "8acea95f-14d2-441f-ae30-92df11d1037b",
   "metadata": {},
   "outputs": [],
   "source": [
    "documents = SimpleDirectoryReader(\"files\").load_data()\n",
    "\n",
    "index = VectorStoreIndex.from_documents(\n",
    "    documents      = documents, \n",
    "    storage_context= storage_context\n",
    ")"
   ]
  },
  {
   "cell_type": "code",
   "execution_count": 37,
   "id": "8b433b8e-ac0b-48c5-8065-ec6e31cc7319",
   "metadata": {},
   "outputs": [
    {
     "data": {
      "text/plain": [
       "{'ids': ['d7831a9c-f341-4894-824a-7a361486ece0',\n",
       "  '894195b1-8638-4604-974d-6a3fc8c7efb9',\n",
       "  '7637b4d0-672b-4940-9014-2f694db7e9de',\n",
       "  '0298de2d-15c9-4c5f-b6ed-cb5428c0339d'],\n",
       " 'embeddings': None,\n",
       " 'metadatas': [{'_node_content': '{\"id_\": \"d7831a9c-f341-4894-824a-7a361486ece0\", \"embedding\": null, \"metadata\": {\"file_path\": \"D:\\\\\\\\gridflowAI\\\\\\\\00-ALL COURSES REPO\\\\\\\\Innovative-AI\\\\\\\\01-GenAI\\\\\\\\06-LLMs\\\\\\\\code\\\\\\\\05-various LLMs\\\\\\\\10-LlamaIndex\\\\\\\\01-step wise examples\\\\\\\\files\\\\\\\\sample_document1.txt\", \"file_name\": \"sample_document1.txt\", \"file_type\": \"text/plain\", \"file_size\": 612, \"creation_date\": \"2024-09-14\", \"last_modified_date\": \"2024-09-07\"}, \"excluded_embed_metadata_keys\": [\"file_name\", \"file_type\", \"file_size\", \"creation_date\", \"last_modified_date\", \"last_accessed_date\"], \"excluded_llm_metadata_keys\": [\"file_name\", \"file_type\", \"file_size\", \"creation_date\", \"last_modified_date\", \"last_accessed_date\"], \"relationships\": {\"1\": {\"node_id\": \"abbafe9e-4c35-4a5a-8947-15363f2c5272\", \"node_type\": \"4\", \"metadata\": {\"file_path\": \"D:\\\\\\\\gridflowAI\\\\\\\\00-ALL COURSES REPO\\\\\\\\Innovative-AI\\\\\\\\01-GenAI\\\\\\\\06-LLMs\\\\\\\\code\\\\\\\\05-various LLMs\\\\\\\\10-LlamaIndex\\\\\\\\01-step wise examples\\\\\\\\files\\\\\\\\sample_document1.txt\", \"file_name\": \"sample_document1.txt\", \"file_type\": \"text/plain\", \"file_size\": 612, \"creation_date\": \"2024-09-14\", \"last_modified_date\": \"2024-09-07\"}, \"hash\": \"ebf72f62ecc6f5c4b74b533c5da03e4856eb38b2f94d155b6968870454bffce0\", \"class_name\": \"RelatedNodeInfo\"}}, \"text\": \"\", \"mimetype\": \"text/plain\", \"start_char_idx\": 0, \"end_char_idx\": 612, \"text_template\": \"{metadata_str}\\\\n\\\\n{content}\", \"metadata_template\": \"{key}: {value}\", \"metadata_seperator\": \"\\\\n\", \"class_name\": \"TextNode\"}',\n",
       "   '_node_type': 'TextNode',\n",
       "   'creation_date': '2024-09-14',\n",
       "   'doc_id': 'abbafe9e-4c35-4a5a-8947-15363f2c5272',\n",
       "   'document_id': 'abbafe9e-4c35-4a5a-8947-15363f2c5272',\n",
       "   'file_name': 'sample_document1.txt',\n",
       "   'file_path': 'D:\\\\gridflowAI\\\\00-ALL COURSES REPO\\\\Innovative-AI\\\\01-GenAI\\\\06-LLMs\\\\code\\\\05-various LLMs\\\\10-LlamaIndex\\\\01-step wise examples\\\\files\\\\sample_document1.txt',\n",
       "   'file_size': 612,\n",
       "   'file_type': 'text/plain',\n",
       "   'last_modified_date': '2024-09-07',\n",
       "   'ref_doc_id': 'abbafe9e-4c35-4a5a-8947-15363f2c5272'},\n",
       "  {'_node_content': '{\"id_\": \"894195b1-8638-4604-974d-6a3fc8c7efb9\", \"embedding\": null, \"metadata\": {\"file_path\": \"D:\\\\\\\\gridflowAI\\\\\\\\00-ALL COURSES REPO\\\\\\\\Innovative-AI\\\\\\\\01-GenAI\\\\\\\\06-LLMs\\\\\\\\code\\\\\\\\05-various LLMs\\\\\\\\10-LlamaIndex\\\\\\\\01-step wise examples\\\\\\\\files\\\\\\\\sample_document2.txt\", \"file_name\": \"sample_document2.txt\", \"file_type\": \"text/plain\", \"file_size\": 556, \"creation_date\": \"2024-09-14\", \"last_modified_date\": \"2024-09-07\"}, \"excluded_embed_metadata_keys\": [\"file_name\", \"file_type\", \"file_size\", \"creation_date\", \"last_modified_date\", \"last_accessed_date\"], \"excluded_llm_metadata_keys\": [\"file_name\", \"file_type\", \"file_size\", \"creation_date\", \"last_modified_date\", \"last_accessed_date\"], \"relationships\": {\"1\": {\"node_id\": \"6e7a9e71-63ea-4800-a41b-8df7fcc3a154\", \"node_type\": \"4\", \"metadata\": {\"file_path\": \"D:\\\\\\\\gridflowAI\\\\\\\\00-ALL COURSES REPO\\\\\\\\Innovative-AI\\\\\\\\01-GenAI\\\\\\\\06-LLMs\\\\\\\\code\\\\\\\\05-various LLMs\\\\\\\\10-LlamaIndex\\\\\\\\01-step wise examples\\\\\\\\files\\\\\\\\sample_document2.txt\", \"file_name\": \"sample_document2.txt\", \"file_type\": \"text/plain\", \"file_size\": 556, \"creation_date\": \"2024-09-14\", \"last_modified_date\": \"2024-09-07\"}, \"hash\": \"b62318dffd58104b9fe4aa396a96abc4bd6102f76803309202703ffe3b56fcdd\", \"class_name\": \"RelatedNodeInfo\"}}, \"text\": \"\", \"mimetype\": \"text/plain\", \"start_char_idx\": 0, \"end_char_idx\": 556, \"text_template\": \"{metadata_str}\\\\n\\\\n{content}\", \"metadata_template\": \"{key}: {value}\", \"metadata_seperator\": \"\\\\n\", \"class_name\": \"TextNode\"}',\n",
       "   '_node_type': 'TextNode',\n",
       "   'creation_date': '2024-09-14',\n",
       "   'doc_id': '6e7a9e71-63ea-4800-a41b-8df7fcc3a154',\n",
       "   'document_id': '6e7a9e71-63ea-4800-a41b-8df7fcc3a154',\n",
       "   'file_name': 'sample_document2.txt',\n",
       "   'file_path': 'D:\\\\gridflowAI\\\\00-ALL COURSES REPO\\\\Innovative-AI\\\\01-GenAI\\\\06-LLMs\\\\code\\\\05-various LLMs\\\\10-LlamaIndex\\\\01-step wise examples\\\\files\\\\sample_document2.txt',\n",
       "   'file_size': 556,\n",
       "   'file_type': 'text/plain',\n",
       "   'last_modified_date': '2024-09-07',\n",
       "   'ref_doc_id': '6e7a9e71-63ea-4800-a41b-8df7fcc3a154'},\n",
       "  {'_node_content': '{\"id_\": \"7637b4d0-672b-4940-9014-2f694db7e9de\", \"embedding\": null, \"metadata\": {\"file_path\": \"D:\\\\\\\\gridflowAI\\\\\\\\00-ALL COURSES REPO\\\\\\\\Innovative-AI\\\\\\\\01-GenAI\\\\\\\\06-LLMs\\\\\\\\code\\\\\\\\05-various LLMs\\\\\\\\10-LlamaIndex\\\\\\\\01-step wise examples\\\\\\\\files\\\\\\\\sample_document1.txt\", \"file_name\": \"sample_document1.txt\", \"file_type\": \"text/plain\", \"file_size\": 612, \"creation_date\": \"2024-09-14\", \"last_modified_date\": \"2024-09-07\"}, \"excluded_embed_metadata_keys\": [\"file_name\", \"file_type\", \"file_size\", \"creation_date\", \"last_modified_date\", \"last_accessed_date\"], \"excluded_llm_metadata_keys\": [\"file_name\", \"file_type\", \"file_size\", \"creation_date\", \"last_modified_date\", \"last_accessed_date\"], \"relationships\": {\"1\": {\"node_id\": \"330e1add-32ea-493a-910b-bd000cd69a37\", \"node_type\": \"4\", \"metadata\": {\"file_path\": \"D:\\\\\\\\gridflowAI\\\\\\\\00-ALL COURSES REPO\\\\\\\\Innovative-AI\\\\\\\\01-GenAI\\\\\\\\06-LLMs\\\\\\\\code\\\\\\\\05-various LLMs\\\\\\\\10-LlamaIndex\\\\\\\\01-step wise examples\\\\\\\\files\\\\\\\\sample_document1.txt\", \"file_name\": \"sample_document1.txt\", \"file_type\": \"text/plain\", \"file_size\": 612, \"creation_date\": \"2024-09-14\", \"last_modified_date\": \"2024-09-07\"}, \"hash\": \"ebf72f62ecc6f5c4b74b533c5da03e4856eb38b2f94d155b6968870454bffce0\", \"class_name\": \"RelatedNodeInfo\"}}, \"text\": \"\", \"mimetype\": \"text/plain\", \"start_char_idx\": 0, \"end_char_idx\": 612, \"text_template\": \"{metadata_str}\\\\n\\\\n{content}\", \"metadata_template\": \"{key}: {value}\", \"metadata_seperator\": \"\\\\n\", \"class_name\": \"TextNode\"}',\n",
       "   '_node_type': 'TextNode',\n",
       "   'creation_date': '2024-09-14',\n",
       "   'doc_id': '330e1add-32ea-493a-910b-bd000cd69a37',\n",
       "   'document_id': '330e1add-32ea-493a-910b-bd000cd69a37',\n",
       "   'file_name': 'sample_document1.txt',\n",
       "   'file_path': 'D:\\\\gridflowAI\\\\00-ALL COURSES REPO\\\\Innovative-AI\\\\01-GenAI\\\\06-LLMs\\\\code\\\\05-various LLMs\\\\10-LlamaIndex\\\\01-step wise examples\\\\files\\\\sample_document1.txt',\n",
       "   'file_size': 612,\n",
       "   'file_type': 'text/plain',\n",
       "   'last_modified_date': '2024-09-07',\n",
       "   'ref_doc_id': '330e1add-32ea-493a-910b-bd000cd69a37'},\n",
       "  {'_node_content': '{\"id_\": \"0298de2d-15c9-4c5f-b6ed-cb5428c0339d\", \"embedding\": null, \"metadata\": {\"file_path\": \"D:\\\\\\\\gridflowAI\\\\\\\\00-ALL COURSES REPO\\\\\\\\Innovative-AI\\\\\\\\01-GenAI\\\\\\\\06-LLMs\\\\\\\\code\\\\\\\\05-various LLMs\\\\\\\\10-LlamaIndex\\\\\\\\01-step wise examples\\\\\\\\files\\\\\\\\sample_document2.txt\", \"file_name\": \"sample_document2.txt\", \"file_type\": \"text/plain\", \"file_size\": 556, \"creation_date\": \"2024-09-14\", \"last_modified_date\": \"2024-09-07\"}, \"excluded_embed_metadata_keys\": [\"file_name\", \"file_type\", \"file_size\", \"creation_date\", \"last_modified_date\", \"last_accessed_date\"], \"excluded_llm_metadata_keys\": [\"file_name\", \"file_type\", \"file_size\", \"creation_date\", \"last_modified_date\", \"last_accessed_date\"], \"relationships\": {\"1\": {\"node_id\": \"018193d2-ca40-4d42-b7c0-11d4a556acfb\", \"node_type\": \"4\", \"metadata\": {\"file_path\": \"D:\\\\\\\\gridflowAI\\\\\\\\00-ALL COURSES REPO\\\\\\\\Innovative-AI\\\\\\\\01-GenAI\\\\\\\\06-LLMs\\\\\\\\code\\\\\\\\05-various LLMs\\\\\\\\10-LlamaIndex\\\\\\\\01-step wise examples\\\\\\\\files\\\\\\\\sample_document2.txt\", \"file_name\": \"sample_document2.txt\", \"file_type\": \"text/plain\", \"file_size\": 556, \"creation_date\": \"2024-09-14\", \"last_modified_date\": \"2024-09-07\"}, \"hash\": \"b62318dffd58104b9fe4aa396a96abc4bd6102f76803309202703ffe3b56fcdd\", \"class_name\": \"RelatedNodeInfo\"}}, \"text\": \"\", \"mimetype\": \"text/plain\", \"start_char_idx\": 0, \"end_char_idx\": 556, \"text_template\": \"{metadata_str}\\\\n\\\\n{content}\", \"metadata_template\": \"{key}: {value}\", \"metadata_seperator\": \"\\\\n\", \"class_name\": \"TextNode\"}',\n",
       "   '_node_type': 'TextNode',\n",
       "   'creation_date': '2024-09-14',\n",
       "   'doc_id': '018193d2-ca40-4d42-b7c0-11d4a556acfb',\n",
       "   'document_id': '018193d2-ca40-4d42-b7c0-11d4a556acfb',\n",
       "   'file_name': 'sample_document2.txt',\n",
       "   'file_path': 'D:\\\\gridflowAI\\\\00-ALL COURSES REPO\\\\Innovative-AI\\\\01-GenAI\\\\06-LLMs\\\\code\\\\05-various LLMs\\\\10-LlamaIndex\\\\01-step wise examples\\\\files\\\\sample_document2.txt',\n",
       "   'file_size': 556,\n",
       "   'file_type': 'text/plain',\n",
       "   'last_modified_date': '2024-09-07',\n",
       "   'ref_doc_id': '018193d2-ca40-4d42-b7c0-11d4a556acfb'}],\n",
       " 'documents': [\"In ancient Rome, the city of Rome itself was the heart of the vast Roman Empire. It was known for its grand architecture, including iconic structures like the Colosseum and the Pantheon. The Romans were skilled engineers and builders, creating an extensive network of roads, aqueducts, and bridges that connected their far-reaching territories. The Roman Republic, with its Senate and elected officials, gave rise to the famous Roman legions, which conquered vast lands and brought them under Roman rule. The Roman civilization's influence on art, law, and governance can still be seen in modern societies today.\",\n",
       "  \"Many people consider dogs to be their loyal companions. These furry creatures come in various breeds, each with its own unique traits and personalities. From the energetic and playful Labrador Retriever to the dignified and intelligent German Shepherd, there's a dog for every type of person. Dogs have been known to provide comfort, protection, and unwavering love to their owners, making them one of the most beloved pets worldwide. Whether they're chasing a ball in the park or curling up by the fireplace, dogs bring joy to our lives in countless ways.\",\n",
       "  \"In ancient Rome, the city of Rome itself was the heart of the vast Roman Empire. It was known for its grand architecture, including iconic structures like the Colosseum and the Pantheon. The Romans were skilled engineers and builders, creating an extensive network of roads, aqueducts, and bridges that connected their far-reaching territories. The Roman Republic, with its Senate and elected officials, gave rise to the famous Roman legions, which conquered vast lands and brought them under Roman rule. The Roman civilization's influence on art, law, and governance can still be seen in modern societies today.\",\n",
       "  \"Many people consider dogs to be their loyal companions. These furry creatures come in various breeds, each with its own unique traits and personalities. From the energetic and playful Labrador Retriever to the dignified and intelligent German Shepherd, there's a dog for every type of person. Dogs have been known to provide comfort, protection, and unwavering love to their owners, making them one of the most beloved pets worldwide. Whether they're chasing a ball in the park or curling up by the fireplace, dogs bring joy to our lives in countless ways.\"],\n",
       " 'uris': None,\n",
       " 'data': None,\n",
       " 'included': ['metadatas', 'documents']}"
      ]
     },
     "execution_count": 37,
     "metadata": {},
     "output_type": "execute_result"
    }
   ],
   "source": [
    "#the following part displays the entire contents of the ChromaDB collection\n",
    "results = chroma_collection.get()\n",
    "results"
   ]
  },
  {
   "cell_type": "code",
   "execution_count": 17,
   "id": "0762e2d4-74da-4fa8-b00d-97036bd07acc",
   "metadata": {},
   "outputs": [],
   "source": [
    "index = VectorStoreIndex.from_vector_store(\n",
    "    vector_store   = vector_store, \n",
    "    storage_context= storage_context\n",
    ")"
   ]
  },
  {
   "cell_type": "markdown",
   "id": "59627706-80da-47c6-9433-f33179df0db1",
   "metadata": {},
   "source": [
    "#### Difference between Vector Stores and Vector Databases\n",
    "\n",
    "**• Vector Store:**\n",
    "   - Refers to a storage system where vectors are stored.\n",
    "   - Vectors are high-dimensional representations of data (text, images, audio) used by machine learning models.\n",
    "   - Focuses on efficient storage, not necessarily on querying or analyzing the vectors.\n",
    "   - Mainly used to maintain a large repository of vectors that can be retrieved for machine learning tasks.\n",
    "\n",
    "**• Vector Database:**\n",
    "   - A more sophisticated system that stores vectors and provides advanced querying and analysis capabilities.\n",
    "   - Includes the ability to perform similarity searches and other complex operations.\n",
    "   - Designed to handle the challenges of high-dimensional vector data, offering specialized indexing for efficient search and retrieval.\n",
    "   - Encompasses both storage and querying, making it ideal for applications requiring fast and accurate searches through large volumes of vectorized data.\n",
    "\n",
    "**Summary:**\n",
    "   - A **vector store** focuses on storage, while a **vector database** combines storage with advanced querying functionalities.\n"
   ]
  },
  {
   "cell_type": "markdown",
   "id": "2bb263e9-0f39-4c7a-aba1-65fc43a331b6",
   "metadata": {},
   "source": [
    "https://learn.microsoft.com/en-us/semantic-kernel/memories/vector-db."
   ]
  },
  {
   "cell_type": "code",
   "execution_count": null,
   "id": "90f2430c-b3f4-481f-8e2c-64fef74e0779",
   "metadata": {},
   "outputs": [],
   "source": []
  }
 ],
 "metadata": {
  "kernelspec": {
   "display_name": "Python 3 (ipykernel)",
   "language": "python",
   "name": "python3"
  },
  "language_info": {
   "codemirror_mode": {
    "name": "ipython",
    "version": 3
   },
   "file_extension": ".py",
   "mimetype": "text/x-python",
   "name": "python",
   "nbconvert_exporter": "python",
   "pygments_lexer": "ipython3",
   "version": "3.12.4"
  }
 },
 "nbformat": 4,
 "nbformat_minor": 5
}
