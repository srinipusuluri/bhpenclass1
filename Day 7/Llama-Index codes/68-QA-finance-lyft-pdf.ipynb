{
 "cells": [
  {
   "cell_type": "markdown",
   "id": "1919554a-cf1c-42dd-a021-6624816ac19e",
   "metadata": {},
   "source": [
    "-------------------------------------\n",
    "#### Financial document analysis with LlamaIndex\n",
    "------------------------------------"
   ]
  },
  {
   "cell_type": "code",
   "execution_count": 1,
   "id": "5ce18af4-fc51-48ef-ad2f-f325144c0d6a",
   "metadata": {},
   "outputs": [],
   "source": [
    "from llama_parse import LlamaParse"
   ]
  },
  {
   "cell_type": "code",
   "execution_count": 2,
   "id": "96c1c026-4c9b-411a-b652-585021b6e77c",
   "metadata": {},
   "outputs": [],
   "source": [
    "from llama_index.core import SimpleDirectoryReader"
   ]
  },
  {
   "cell_type": "code",
   "execution_count": 3,
   "id": "daec43c1-ba35-429d-a9bf-b917e8bb93f9",
   "metadata": {},
   "outputs": [
    {
     "name": "stdout",
     "output_type": "stream",
     "text": [
      "llx-Lwr1JXNjYe06r1xaPX3vGC0Mbspq2d575l47JFahjs7o1CYO\n"
     ]
    }
   ],
   "source": [
    "import os\n",
    "\n",
    "print(os.getenv('LLAMA_CLOUD_API_KEY'))"
   ]
  },
  {
   "cell_type": "code",
   "execution_count": 4,
   "id": "d4140fe8-e44a-483e-b6e5-e2cc57542630",
   "metadata": {},
   "outputs": [],
   "source": [
    "parser = LlamaParse(result_type=\"text\")"
   ]
  },
  {
   "cell_type": "code",
   "execution_count": 5,
   "id": "4c972797-6a20-4956-95b9-bef57d830d77",
   "metadata": {},
   "outputs": [],
   "source": [
    "file_extractor = {\".pdf\": parser}"
   ]
  },
  {
   "cell_type": "code",
   "execution_count": 6,
   "id": "1a38ccc2-8cef-4fa2-bd08-db5b04f8530d",
   "metadata": {},
   "outputs": [],
   "source": [
    "# Load files from file directory.\n",
    "# Automatically select the best file reader given file extensions.\n",
    "\n",
    "reader = SimpleDirectoryReader(\n",
    "    input_files    = ['./fin-10K-data/lyft_2021.pdf'],\n",
    "    file_extractor = file_extractor\n",
    ")"
   ]
  },
  {
   "cell_type": "code",
   "execution_count": 7,
   "id": "fc977966-cd3a-409f-9c82-698700e558d4",
   "metadata": {},
   "outputs": [],
   "source": [
    "import nest_asyncio\n",
    "nest_asyncio.apply()"
   ]
  },
  {
   "cell_type": "code",
   "execution_count": 10,
   "id": "125e3e32-0f4b-4619-bccb-0e5513f8a5ab",
   "metadata": {},
   "outputs": [
    {
     "name": "stderr",
     "output_type": "stream",
     "text": [
      "Loading files:   0%|                                                                  | 0/1 [00:00<?, ?file/s]"
     ]
    },
    {
     "name": "stdout",
     "output_type": "stream",
     "text": [
      "Started parsing the file under job_id bd0ace5a-a283-4472-a659-d3353692058f\n"
     ]
    },
    {
     "name": "stderr",
     "output_type": "stream",
     "text": [
      "Loading files: 100%|██████████████████████████████████████████████████████████| 1/1 [00:38<00:00, 38.85s/file]\n"
     ]
    }
   ],
   "source": [
    "docs = reader.load_data(show_progress=True)"
   ]
  },
  {
   "cell_type": "code",
   "execution_count": 10,
   "id": "d178ad81-801f-4d8d-8738-366b373d008b",
   "metadata": {},
   "outputs": [
    {
     "data": {
      "text/plain": [
       "238"
      ]
     },
     "execution_count": 10,
     "metadata": {},
     "output_type": "execute_result"
    }
   ],
   "source": [
    "len(docs)"
   ]
  },
  {
   "cell_type": "code",
   "execution_count": 12,
   "id": "85c82432-3b77-46ed-87df-b537a254fa92",
   "metadata": {},
   "outputs": [],
   "source": [
    "from llama_index.core import VectorStoreIndex"
   ]
  },
  {
   "cell_type": "code",
   "execution_count": 13,
   "id": "8d890d37-2b35-46bf-94c1-2d43755cbe7e",
   "metadata": {},
   "outputs": [],
   "source": [
    "index = VectorStoreIndex.from_documents(docs)"
   ]
  },
  {
   "cell_type": "code",
   "execution_count": 15,
   "id": "6dcbed62-9864-4c1f-b841-edf3adfb7d44",
   "metadata": {},
   "outputs": [
    {
     "data": {
      "text/plain": [
       "305"
      ]
     },
     "execution_count": 15,
     "metadata": {},
     "output_type": "execute_result"
    }
   ],
   "source": [
    "# Access chunks from the index\n",
    "index_chunks = index.docstore.docs\n",
    "len(index_chunks)"
   ]
  },
  {
   "cell_type": "code",
   "execution_count": 23,
   "id": "2bc9acf5-be99-45e0-862e-c033a8edc857",
   "metadata": {},
   "outputs": [
    {
     "name": "stdout",
     "output_type": "stream",
     "text": [
      "Chunk 1\n",
      "--------------------------------------------------------------------------------\n",
      "UNITED STATES\n",
      "                                                            SECURITIES AND EXCHANGE COMMISSIONWashington, D.C. 20549\n",
      "\n",
      "                                                                                                        FORM 10-K\n",
      "(Mark One)\n",
      "☒        ANNUAL REPORT PURSUANT TO SECTION 13 OR 15(d) OF THE SECURITIES EXCHANGE ACT OF 1934\n",
      "                                                                                        For the fiscal year ended December 31, 2021\n",
      "                                                                                                                      OR\n",
      "☐       TRANSITION REPORT PURSUANT TO SECTION 13 OR 15(d) OF THE SECURITIES EXCHANGE ACT OF 1934 FOR THE TRANSITION PERIOD\n",
      "        FROM                           TO\n",
      "                                                                                              Commission File Number 001-38846\n",
      "\n",
      "                                                                                 (Exact name of Registrant as specified in its Charter)Lyft, Inc.\n",
      "\n",
      "                                                     Delaware                                                                                                                 20-8809830\n",
      "                                            (State or other jurisdiction of                                                                                                  (I.R.S. Employer\n",
      "                                            incorporation or organization)                                                                                                   Identification No.)\n",
      "\n",
      "                                        185 Berry Street, Suite 5000San Francisco, California                                                                                      94107\n",
      "                                          (Address of principal executive offices)                                                                                                (Zip Code)\n",
      "\n",
      "                                                                      Registrant’s telephone number, including area code: (844) 250-2773\n",
      "Securities registered pursuant to Section 12(b) of the Act:\n",
      "                                                                                                            Trading\n",
      "                                 Title of each class                                                       Symbol(s)                                              Name of each exchange on which registered\n",
      "           Class A common stock, par value of $0.00001 per share                                              LYFT                                                           Nasdaq Global Select Market\n",
      "Securities registered pursuant to Section 12(g) of the Act:None\n",
      "Indicate by check mark if the Registrant is a well-known seasoned issuer, as defined in Rule 405 of the Securities Act. Yes☒                           No☐\n",
      "Indicate by check mark if the Registrant is not required to file reports pursuant to Section 13 or 15(d) of the Act. Yes☐No                          ☒\n",
      "Indicate by check mark whether the Registrant: (1) has filed all reports required to be filed by Section 13 or 15(d) of the Securities Exchange Act of 1934 during the preceding 12 months (or for such\n",
      "shorter period that the Registrant was required to file such reports), and (2) has been subject to such filing requirements for the past 90 days. Yes☒No☐\n",
      "Indicate by check mark whether the Registrant has submitted electronically every Interactive Data File required to be submitted pursuant to Rule 405 of Regulation S-T (§232.405 of this chapter) during\n",
      "the preceding 12 months (or for such shorter period that the Registrant was required to submit such files). Yes☒No☐\n",
      "Indicate by check mark whether the registrant is a large accelerated filer, an accelerated filer, a non-accelerated filer, smaller reporting company, or an emerging growth company. See the definitions of\n",
      "“large accelerated filer,” “accelerated filer,” “smaller reporting company,” and “emerging growth company” in Rule 12b-2 of the Exchange Act.\n",
      "Large accelerated filer                                                    ☒                              Accelerated filer                                                                          ☐\n",
      "Non-accelerated filer                                                      ☐                              Smaller reporting company                                                                  ☐\n",
      "Emerging growth company                                                    ☐\n",
      "If an emerging growth company, indicate by check mark if the registrant has elected not to use the extended transition period for complying with any new or revised financial accounting standards\n",
      "provided pursuant to Section 13(a) of the Exchange Act.              ☐\n",
      "Indicate by check mark whether the registrant has filed a report on and attestation to its management’s assessment of the effectiveness of its internal control over financial reporting under Section 404(b)\n",
      "of the Sarbanes-Oxley Act (15 U.S.C. 7262(b)) by the registered public accounting firm that prepared or issued its audit report.☒\n",
      "Indicate by check mark whether the Registrant is a shell company (as defined in Rule 12b-2 of the Exchange Act). Yes☐No☒\n",
      "The aggregate market value of the Registrant’s common stock held by non-affiliates of the Registrant on June 30, 2021, the last business day of its most recently completed second fiscal quarter, was\n",
      "$19.6 billion based on the closing sales price of the Registrant’s Class A common stock on that date.\n",
      "On February 22, 2022, the Registrant had 339,954,714 shares of Class A common stock and 8,602,629 shares of Class B common stock outstanding.\n",
      "Chunk 2\n",
      "--------------------------------------------------------------------------------\n",
      "7262(b)) by the registered public accounting firm that prepared or issued its audit report.☒\n",
      "Indicate by check mark whether the Registrant is a shell company (as defined in Rule 12b-2 of the Exchange Act). Yes☐No☒\n",
      "The aggregate market value of the Registrant’s common stock held by non-affiliates of the Registrant on June 30, 2021, the last business day of its most recently completed second fiscal quarter, was\n",
      "$19.6 billion based on the closing sales price of the Registrant’s Class A common stock on that date.\n",
      "On February 22, 2022, the Registrant had 339,954,714 shares of Class A common stock and 8,602,629 shares of Class B common stock outstanding.\n",
      "\n",
      "                                                                                         DOCUMENTS INCORPORATED BY REFERENCE\n",
      "\n",
      "Portions of the registrant’s Proxy Statement for the 2022 Annual Meeting of Stockholders are incorporated herein by reference in Part III of this Annual Report on Form 10-K to the extent stated herein.\n",
      "Such proxy statement will be filed with the Securities and Exchange Commission within 120 days of the registrant’s fiscal year ended December 31, 2021.\n",
      "Chunk 3\n",
      "--------------------------------------------------------------------------------\n",
      "Table of Contents\n",
      "\n",
      "                                                                                                                           Page\n",
      "PART I\n",
      "   Item 1.   Business                                                                                                              5\n",
      "   Item 1A.  Risk Factors                                                                                                         15\n",
      "   Item 1B.  Unresolved Staff Comments                                                                                            53\n",
      "   Item 2.   Properties                                                                                                           53\n",
      "   Item 3.   Legal Proceedings                                                                                                    54\n",
      "   Item 4.   Mine Safety Disclosures                                                                                              54\n",
      "\n",
      "PART II\n",
      "   Item 5.   Market for Registrant’s Common Equity, Related Stockholder Matters and Issuer Purchases of Equity Securities         55\n",
      "   Item 6.   [Reserved]                                                                                                           56\n",
      "   Item 7.   Management’s Discussion and Analysis of Financial Condition and Results of Operations                                56\n",
      "   Item 7A.  Quantitative and Qualitative Disclosures About Market Risk                                                           73\n",
      "   Item 8.   Financial Statements and Supplementary Data                                                                          74\n",
      "   Item 9.   Changes in and Disagreements With Accountants on Accounting and Financial Disclosure                               123\n",
      "   Item 9A.  Controls and Procedures                                                                                            123\n",
      "   Item 9B.  Other Information                                                                                                  123\n",
      "   Item 9C.  Disclosure Regarding Foreign Jurisdictions that Prevent Inspections                                                123\n",
      "\n",
      "PART III\n",
      "   Item 10.  Directors, Executive Officers and Corporate Governance                                                             124\n",
      "   Item 11.  Executive Compensation                                                                                             124\n",
      "   Item 12.  Security Ownership of Certain Beneficial Owners and Management and Related Stockholder Matters                     124\n",
      "   Item 13.  Certain Relationships and Related Transactions, and Director Independence                                          124\n",
      "   Item 14.  Principal Accounting Fees and Services                                                                             124\n",
      "\n",
      "PART IV\n",
      "   Item 15.  Exhibits, Financial Statement Schedules                                                                            125\n",
      "   Item 16.  Form 10-K Summary                                                                                                  127\n",
      "\n",
      "                                                                              2\n",
      "Chunk 4\n",
      "--------------------------------------------------------------------------------\n",
      "NOTE ABOUT FORWARD-LOOKING STATEMENTS\n",
      "            This Annual Report on Form 10-K contains forward-looking statements within the meaning of the federal securities laws, which statements involve substantial\n",
      "risks and uncertainties. Forward-looking statements generally relate to future events or our future financial or operating performance. In some cases, you can identify\n",
      "forward-looking statements because they contain words such as “may,” “will,” “should,” “expect,” “plan,” “anticipate,” “could,” “intend,” “target,” “project,”\n",
      "“contemplate,” “believe,” “estimate,” “predict,” “potential” or “continue” or the negative of these words or other similar terms or expressions that concern our expectations,\n",
      "strategy, plans or intentions. Forward-looking statements contained in this Annual Report on Form 10-K include statements about:\n",
      "         •        our future financial performance, including our expectations regarding our revenue, cost of revenue, operating expenses, capital expenditures, our ability to\n",
      "                  determine insurance, legal and other reserves and our ability to achieve and maintain future profitability;\n",
      "         •        the sufficiency of our cash, cash equivalents and short-term investments to meet our liquidity needs;\n",
      "         •        the impact of the COVID-19 pandemic and related responses of businesses and governments to the pandemic on our operations and personnel, on commercial\n",
      "                  activity and demand across our platform, on our business and results of operations, and on our ability to forecast our financial and operating results;\n",
      "         •        the demand for our platform or for Transportation-as-a-Service networks in general;\n",
      "         •        our ability to attract and retain drivers and riders;\n",
      "         •        our ability to develop new offerings and bring them to market in a timely manner and update and make enhancements to our platform;\n",
      "         •        our ability to compete with existing and new competitors in existing and new markets and offerings;\n",
      "         •        our expectations regarding outstanding and potential litigation, including with respect to the classification of drivers on our platform;\n",
      "         •        our expectations regarding the effects of existing and developing laws and regulations, including with respect to the classification of drivers on our platform,\n",
      "                  taxation, privacy and data protection;\n",
      "         •        our ability to manage and insure risks associated with our Transportation-as-a-Service network, including auto-related and operations-related risks, and our\n",
      "                  expectations regarding estimated insurance reserves;\n",
      "         •        our expectations regarding new and evolving markets and our efforts to address these markets, including Lyft Autonomous, Light Vehicles, Driver Centers\n",
      "                  and Lyft Mobile Services, Flexdrive, Express Drive, and Lyft Rentals;\n",
      "         •        our ability to develop and protect our brand;\n",
      "         •        our ability to maintain the security and availability of our platform;\n",
      "         •        our expectations and management of future growth and business operations, including our prior plan of termination;\n",
      "         •        our expectations concerning relationships with third parties;\n",
      "         •        our ability to maintain, protect and enhance our intellectual property;\n",
      "         •        our ability to service our existing debt; and\n",
      "         •        our ability to successfully acquire and integrate companies and assets.\n",
      "            We caution you that the foregoing list may not contain all of the forward-looking statements made in this Annual Report on Form 10-K.\n",
      "            You should not rely upon forward-looking statements as predictions of future events. We have based the forward-looking statements contained in this Annual\n",
      "Report on Form 10-K primarily on our current expectations and projections about future events and trends that we believe may affect our business, financial condition,\n",
      "results of operations and prospects. The outcome of the events described in these forward-looking statements is subject to risks, uncertainties and other factors, including\n",
      "those described in the section titled “Risk Factors” and elsewhere inthis Annual Report on Form 10-K. Moreover, we operate in a very competitive and rapidly changing\n",
      "environment. New risks and uncertainties emerge from time to time and it is not possible for us to predict all risks and uncertainties that could have an impact on the\n",
      "forward-looking statements contained in this Annual Report on Form 10-K. We cannot assure you that the results, events and circumstances reflected in the forward-\n",
      "looking statements will be achieved or occur, and actual results, events or circumstances could differ materially from those described in the forward-looking statements.\n",
      "\n",
      "                                                                                                                3\n",
      "Chunk 5\n",
      "--------------------------------------------------------------------------------\n",
      "The forward-looking statements made in this Annual Report on Form 10-K relate only to events as of the date on which the statements are made. We undertake no\n",
      "obligation to update any forward-looking statements made in this Annual Report on Form 10-K to reflect events or circumstances after the date of this Annual Report on\n",
      "Form 10-K or to reflect new information or the occurrence of unanticipated events, except as required by law. We may not actually achieve the plans, intentions or\n",
      "expectations disclosed in our forward-looking statements and you should not place undue reliance on our forward-looking statements. Our forward-looking statements do\n",
      "not reflect the potential impact of any future acquisitions, mergers, dispositions, joint ventures or investments we may make.\n",
      "            In addition, statements that “we believe” and similar statements reflect our beliefs and opinions on the relevant subject. These statements are based upon\n",
      "information available to us as of the date of this Annual Report on Form 10-K, and while we believe such information forms a reasonable basis for such statements, such\n",
      "information may be limited or incomplete, and our statements should not be read to indicate that we have conducted an exhaustive inquiry into, or review of, all potentially\n",
      "available relevant information. These statements are inherently uncertain and investors are cautioned not to unduly rely upon these statements.\n",
      "\n",
      "                                                                                                               4\n"
     ]
    }
   ],
   "source": [
    "# Display a few chunks\n",
    "for i, chunk in enumerate(list(index_chunks.values())[:5]):  # Show first 5 chunks\n",
    "    print(f\"Chunk {i+1}\")\n",
    "    print(\"-\"*80)    \n",
    "    print(f\"{chunk.text}\")\n",
    "    "
   ]
  },
  {
   "cell_type": "code",
   "execution_count": 24,
   "id": "1cfef0fc-2267-4d70-8cb0-15817771b4c8",
   "metadata": {},
   "outputs": [],
   "source": [
    "# Convert the index to a query engine.\n",
    "qe = index.as_query_engine(similarity_top_k=3)"
   ]
  },
  {
   "cell_type": "code",
   "execution_count": 25,
   "id": "7706026e-b2e4-4087-9bf3-443a225ef440",
   "metadata": {},
   "outputs": [
    {
     "name": "stdout",
     "output_type": "stream",
     "text": [
      "The revenue of Lyft in 2021 was $3,208.3 million. (Page reference: fin-10K-data\\lyft_2021.pdf, Results of Operations)\n"
     ]
    }
   ],
   "source": [
    "response = await qe.aquery('What is the revenue of Lyft in 2021? Answer in millions with page reference')\n",
    "print(response)"
   ]
  },
  {
   "cell_type": "code",
   "execution_count": 26,
   "id": "0058cb40-915e-443a-a214-ffdc3f8833fa",
   "metadata": {},
   "outputs": [
    {
     "name": "stdout",
     "output_type": "stream",
     "text": [
      "Lyft offers a variety of transportation networks including a ridesharing marketplace, Express Drive for flexible car rentals, Lyft Rentals for long-distance trips, Light Vehicles such as shared bikes and scooters, Public Transit integration in select cities, and Lyft Autonomous partnerships for autonomous vehicles. These details can be found on page 1 of the provided document.\n"
     ]
    }
   ],
   "source": [
    "response = await qe.aquery('What are various transportation networks offereed by Lyft? Provide answers, with page reference')\n",
    "print(response)"
   ]
  },
  {
   "cell_type": "code",
   "execution_count": 27,
   "id": "ca91a07d-7deb-47a9-95f4-20cc048d509f",
   "metadata": {},
   "outputs": [
    {
     "name": "stdout",
     "output_type": "stream",
     "text": [
      "Operations and support expenses in 2020 were $453,963 thousand and in 2021 were $402,233 thousand. The expenses decreased by $51.7 million, or 11%, in 2021 compared to 2020. This information can be found on page 64 of the provided document.\n"
     ]
    }
   ],
   "source": [
    "response = await qe.aquery('What Operations and support expenses in 2020 & 2021? Provide answers if the expenses improved in 2021, with page reference')\n",
    "print(response)"
   ]
  },
  {
   "cell_type": "markdown",
   "id": "2753fd33-8e7b-45ef-9576-f7db0dde0143",
   "metadata": {},
   "source": [
    "#### 1. Income Statement/Profitability Questions\n",
    "- What were the company's total revenues and net income for the fiscal year?\n",
    "- How did the company’s gross profit margin change compared to the previous year?\n",
    "- What are the key factors driving the company's increase or decrease in operating income?\n",
    "- How did the company’s cost of goods sold (COGS) fluctuate during the year?\n",
    "\n",
    "#### 2. Balance Sheet Questions\n",
    "- What were the company’s total assets, liabilities, and shareholders' equity at the end of the fiscal year?\n",
    "- How has the company’s debt-to-equity ratio changed compared to previous years?\n",
    "- What percentage of the company's assets are held in cash or cash equivalents?\n",
    "\n",
    "#### 3. Cash Flow Statement Questions\n",
    "- What were the company’s net cash flows from operating, investing, and financing activities?\n",
    "- Did the company have any significant capital expenditures during the year? If so, what were they?\n",
    "- How does the company’s free cash flow compare to the previous year?\n",
    "\n",
    "#### 4. Risk Factors and Legal Proceedings\n",
    "- What are the primary risks outlined by the company that could impact its financial performance?\n",
    "- Are there any ongoing legal proceedings that may have a material adverse effect on the company’s financial position?\n",
    "- How does the company assess its exposure to foreign exchange risk, interest rate risk, or commodity price risk?\n",
    "\n",
    "#### 5. Management’s Discussion and Analysis (MD&A)\n",
    "- What are the key growth strategies discussed by management for the upcoming fiscal year?\n",
    "- How does the company explain any significant trends in its revenue, expenses, or profitability?\n",
    "- What steps is the company taking to address any challenges or adverse market conditions?\n",
    "\n",
    "#### 6. Debt and Financing\n",
    "- What is the total amount of the company’s long-term debt, and what are the terms of its major borrowings?\n",
    "- Has the company issued any new debt or repurchased any outstanding debt during the year?\n",
    "- How does the company plan to manage its debt obligations over the next few years?\n",
    "\n",
    "#### 7. Stockholder Information\n",
    "- How many shares of common stock are outstanding, and how has this number changed during the year?\n",
    "- Did the company issue any dividends to shareholders, and what was the dividend payout ratio?\n",
    "- Are there any stock repurchase programs in place, and how much stock did the company buy back during the year?\n",
    "\n",
    "#### 8. Segment Information\n",
    "- How are the company’s operating segments performing, and which segment is the most profitable?\n",
    "- What geographic regions contribute the most to the company’s revenue and income?\n",
    "- How do the performance metrics differ between the company’s business segments?\n",
    "\n",
    "#### 9. Liquidity and Capital Resources\n",
    "- What does the company say about its liquidity position, and how does it plan to meet its short-term and long-term capital needs?\n",
    "- What are the major sources of funding for the company’s operations?\n",
    "- Are there any liquidity risks that the company has highlighted for the upcoming year?\n",
    "\n",
    "#### 10. Acquisitions and Mergers\n",
    "- Has the company made any significant acquisitions or mergers during the year?\n",
    "- What were the financial impacts of any mergers or acquisitions on the company’s balance sheet and income statement?\n",
    "- How does the company expect these acquisitions to contribute to future growth?\n"
   ]
  },
  {
   "cell_type": "code",
   "execution_count": 28,
   "id": "97205c23-d023-4383-99f6-0f3a3420e9f6",
   "metadata": {},
   "outputs": [
    {
     "name": "stdout",
     "output_type": "stream",
     "text": [
      "The key factors that drive LYFT's increase or decrease in operating income include the ability to forecast revenue and manage expenses effectively, attract and retain drivers and riders cost-effectively, comply with laws and regulations, manage capital expenditures for current and future offerings, develop and maintain business assets, respond to macroeconomic changes, manage growth and operations efficiently, expand geographically, hire and retain talented personnel, develop new platform features, and optimize real estate portfolio. These factors are detailed on pages 19 and 58 of the provided document.\n"
     ]
    }
   ],
   "source": [
    "qs = '''\n",
    "What are the key factors driving LYFT's increase or decrease in operating income?\n",
    "provide relevant page numbers for reference\n",
    "'''\n",
    "\n",
    "response = await qe.aquery(qs)\n",
    "print(response)"
   ]
  },
  {
   "cell_type": "code",
   "execution_count": 29,
   "id": "7914363e-41b3-4ec6-b21f-bca76aac3f42",
   "metadata": {},
   "outputs": [
    {
     "name": "stdout",
     "output_type": "stream",
     "text": [
      "The company has made significant acquisitions, including the acquisition of Flexdrive in February 2020. Additionally, in July 2021, the company closed the sale of its Level 5 self-driving vehicle division. Relevant page numbers for reference are page 48 and page 90 of the provided document.\n"
     ]
    }
   ],
   "source": [
    "qs = '''\n",
    "Has the company made any significant acquisitions or mergers during the year?\n",
    "provide relevant page numbers for reference\n",
    "'''\n",
    "\n",
    "response = await qe.aquery(qs)\n",
    "print(response)"
   ]
  },
  {
   "cell_type": "code",
   "execution_count": 30,
   "id": "b6433b89-0345-4b26-a61f-46989637dc2d",
   "metadata": {},
   "outputs": [
    {
     "name": "stdout",
     "output_type": "stream",
     "text": [
      "The customer segments that grew the fastest were likely the ones related to ridesharing, bike and scooter sharing, and consumer vehicle rentals. Geographically, the growth was likely prominent in the United States and Canada, where Lyft's main competitors are located.\n"
     ]
    }
   ],
   "source": [
    "qs = '''\n",
    "Compare and contrast the customer segments and geographies that grew the fastest\n",
    "'''\n",
    "\n",
    "response = await qe.aquery(qs)\n",
    "print(response)"
   ]
  },
  {
   "cell_type": "code",
   "execution_count": 31,
   "id": "7581d0e7-0ad2-43df-a2e3-e1e28a0e6191",
   "metadata": {},
   "outputs": [
    {
     "name": "stdout",
     "output_type": "stream",
     "text": [
      "Lyft's revenue grew by 36% from 2020 to 2021.\n"
     ]
    }
   ],
   "source": [
    "qs = '''\n",
    "Compare revenue growth of Uber and Lyft from 2020 to 2021\n",
    "'''\n",
    "\n",
    "response = await qe.aquery(qs)\n",
    "print(response)"
   ]
  },
  {
   "cell_type": "code",
   "execution_count": 32,
   "id": "151abc42-da54-4e05-84c3-a1bee55d60aa",
   "metadata": {},
   "outputs": [],
   "source": [
    "financial_questions = {\n",
    "    \"Income Statement/Profitability Questions\": [\n",
    "        \"What were the company's total revenues and net income for the fiscal year?\",\n",
    "        \"How did the company’s gross profit margin change compared to the previous year?\",\n",
    "        \"What are the key factors driving the company's increase or decrease in operating income?\",\n",
    "        \"How did the company’s cost of goods sold (COGS) fluctuate during the year?\"\n",
    "    ],\n",
    "    \"Balance Sheet Questions\": [\n",
    "        \"What were the company’s total assets, liabilities, and shareholders' equity at the end of the fiscal year?\",\n",
    "        \"How has the company’s debt-to-equity ratio changed compared to previous years?\",\n",
    "        \"What percentage of the company's assets are held in cash or cash equivalents?\"\n",
    "    ],\n",
    "    \"Cash Flow Statement Questions\": [\n",
    "        \"What were the company’s net cash flows from operating, investing, and financing activities?\",\n",
    "        \"Did the company have any significant capital expenditures during the year? If so, what were they?\",\n",
    "        \"How does the company’s free cash flow compare to the previous year?\"\n",
    "    ],\n",
    "    \"Risk Factors and Legal Proceedings\": [\n",
    "        \"What are the primary risks outlined by the company that could impact its financial performance?\",\n",
    "        \"Are there any ongoing legal proceedings that may have a material adverse effect on the company’s financial position?\",\n",
    "        \"How does the company assess its exposure to foreign exchange risk, interest rate risk, or commodity price risk?\"\n",
    "    ],\n",
    "    \"Management’s Discussion and Analysis (MD&A)\": [\n",
    "        \"What are the key growth strategies discussed by management for the upcoming fiscal year?\",\n",
    "        \"How does the company explain any significant trends in its revenue, expenses, or profitability?\",\n",
    "        \"What steps is the company taking to address any challenges or adverse market conditions?\"\n",
    "    ],\n",
    "    \"Debt and Financing\": [\n",
    "        \"What is the total amount of the company’s long-term debt, and what are the terms of its major borrowings?\",\n",
    "        \"Has the company issued any new debt or repurchased any outstanding debt during the year?\",\n",
    "        \"How does the company plan to manage its debt obligations over the next few years?\"\n",
    "    ],\n",
    "    \"Stockholder Information\": [\n",
    "        \"How many shares of common stock are outstanding, and how has this number changed during the year?\",\n",
    "        \"Did the company issue any dividends to shareholders, and what was the dividend payout ratio?\",\n",
    "        \"Are there any stock repurchase programs in place, and how much stock did the company buy back during the year?\"\n",
    "    ],\n",
    "    \"Segment Information\": [\n",
    "        \"How are the company’s operating segments performing, and which segment is the most profitable?\",\n",
    "        \"What geographic regions contribute the most to the company’s revenue and income?\",\n",
    "        \"How do the performance metrics differ between the company’s business segments?\"\n",
    "    ],\n",
    "    \"Liquidity and Capital Resources\": [\n",
    "        \"What does the company say about its liquidity position, and how does it plan to meet its short-term and long-term capital needs?\",\n",
    "        \"What are the major sources of funding for the company’s operations?\",\n",
    "        \"Are there any liquidity risks that the company has highlighted for the upcoming year?\"\n",
    "    ],\n",
    "    \"Acquisitions and Mergers\": [\n",
    "        \"Has the company made any significant acquisitions or mergers during the year?\",\n",
    "        \"What were the financial impacts of any mergers or acquisitions on the company’s balance sheet and income statement?\",\n",
    "        \"How does the company expect these acquisitions to contribute to future growth?\"\n",
    "    ]\n",
    "}\n"
   ]
  },
  {
   "cell_type": "code",
   "execution_count": 34,
   "id": "def50e02-7ce9-415f-9c50-595e53f41fe4",
   "metadata": {},
   "outputs": [],
   "source": [
    "# Main function to process the questions\n",
    "def process_questions(financial_questions):\n",
    "    responses = []\n",
    "\n",
    "    for header, questions in financial_questions.items():\n",
    "        for question in questions:\n",
    "            qs = f\"<question> {question} Obtain response, relevant page numbers, chunk text span +-50 chars in a dict format\"\n",
    "            response = qe.query(qs)\n",
    "            \n",
    "            # Constructing the response dictionary\n",
    "            response_dict = {\n",
    "                \"header\": header,\n",
    "                \"question\": question,\n",
    "                \"answer\": response[\"answer\"],\n",
    "                \"relevant_pages\": response[\"relevant_pages\"],\n",
    "                \"chunk_text_span\": response[\"chunk_text_span\"]\n",
    "            }\n",
    "            responses.append(response_dict)\n",
    "    \n",
    "    return responses"
   ]
  },
  {
   "cell_type": "code",
   "execution_count": 39,
   "id": "60b20289-635d-459b-80c3-af8291a6da23",
   "metadata": {},
   "outputs": [],
   "source": [
    "question = \"Has the company made any significant acquisitions or mergers during the year?\""
   ]
  },
  {
   "cell_type": "code",
   "execution_count": 40,
   "id": "1781d0e8-d684-470c-bb84-564487854898",
   "metadata": {},
   "outputs": [],
   "source": [
    "qs = f\"<question> {question} Obtain response, relevant page numbers, chunk text span +-50 chars in a dict format\""
   ]
  },
  {
   "cell_type": "code",
   "execution_count": 42,
   "id": "ae2018b1-a4d2-4a47-ae09-54369e62c441",
   "metadata": {},
   "outputs": [],
   "source": [
    "response = qe.query(qs)"
   ]
  },
  {
   "cell_type": "code",
   "execution_count": 60,
   "id": "75985b26-f93e-407c-8ee1-436eb4150494",
   "metadata": {},
   "outputs": [],
   "source": [
    "import json\n",
    "import pandas as pd"
   ]
  },
  {
   "cell_type": "code",
   "execution_count": 61,
   "id": "66e8edbf-fe01-4652-8758-22033111b93c",
   "metadata": {},
   "outputs": [
    {
     "data": {
      "text/html": [
       "<div>\n",
       "<style scoped>\n",
       "    .dataframe tbody tr th:only-of-type {\n",
       "        vertical-align: middle;\n",
       "    }\n",
       "\n",
       "    .dataframe tbody tr th {\n",
       "        vertical-align: top;\n",
       "    }\n",
       "\n",
       "    .dataframe thead th {\n",
       "        text-align: right;\n",
       "    }\n",
       "</style>\n",
       "<table border=\"1\" class=\"dataframe\">\n",
       "  <thead>\n",
       "    <tr style=\"text-align: right;\">\n",
       "      <th></th>\n",
       "      <th>response</th>\n",
       "      <th>relevant_page_numbers</th>\n",
       "      <th>relevant_text_chunks</th>\n",
       "    </tr>\n",
       "  </thead>\n",
       "  <tbody>\n",
       "    <tr>\n",
       "      <th>0</th>\n",
       "      <td>Yes, the company has made significant acquisit...</td>\n",
       "      <td>48</td>\n",
       "      <td>As part of our business strategy, we will cont...</td>\n",
       "    </tr>\n",
       "  </tbody>\n",
       "</table>\n",
       "</div>"
      ],
      "text/plain": [
       "                                            response  relevant_page_numbers  \\\n",
       "0  Yes, the company has made significant acquisit...                     48   \n",
       "\n",
       "                                relevant_text_chunks  \n",
       "0  As part of our business strategy, we will cont...  "
      ]
     },
     "execution_count": 61,
     "metadata": {},
     "output_type": "execute_result"
    }
   ],
   "source": [
    "pd.DataFrame(json.loads(response.response))"
   ]
  },
  {
   "cell_type": "code",
   "execution_count": null,
   "id": "f61f5a6f-357f-4d39-978f-02f62f9f9c6a",
   "metadata": {},
   "outputs": [],
   "source": []
  }
 ],
 "metadata": {
  "kernelspec": {
   "display_name": "Python 3 (ipykernel)",
   "language": "python",
   "name": "python3"
  },
  "language_info": {
   "codemirror_mode": {
    "name": "ipython",
    "version": 3
   },
   "file_extension": ".py",
   "mimetype": "text/x-python",
   "name": "python",
   "nbconvert_exporter": "python",
   "pygments_lexer": "ipython3",
   "version": "3.9.13"
  }
 },
 "nbformat": 4,
 "nbformat_minor": 5
}
