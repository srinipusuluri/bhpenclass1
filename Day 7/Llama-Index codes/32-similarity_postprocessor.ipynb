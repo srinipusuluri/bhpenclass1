{
 "cells": [
  {
   "cell_type": "markdown",
   "id": "a4b0952c-dc2e-4e9d-9726-3c4f7277b821",
   "metadata": {},
   "source": [
    "#### SimilarityPostprocessor Overview\n",
    "- **SimilarityPostprocessor** filters nodes based on a similarity score threshold.\n",
    "- Nodes scoring below the threshold are removed, ensuring only relevant and similar content remains.\n",
    "- This process ensures that nodes passed to the language model for response generation are highly semantically correlated with the query.\n",
    "- It enhances response relevance by retaining only nodes with a high similarity to the query.\n"
   ]
  },
  {
   "cell_type": "code",
   "execution_count": 1,
   "id": "d29411e7-865a-47e3-a634-943cd5822aa0",
   "metadata": {},
   "outputs": [],
   "source": [
    "from llama_index.core.postprocessor import SimilarityPostprocessor\n",
    "from llama_index.core import VectorStoreIndex, SimpleDirectoryReader"
   ]
  },
  {
   "cell_type": "code",
   "execution_count": 3,
   "id": "66f2ca41-09b7-4e54-85bf-325bbd3b0a53",
   "metadata": {},
   "outputs": [],
   "source": [
    "reader = SimpleDirectoryReader('files/postprocessors')"
   ]
  },
  {
   "cell_type": "code",
   "execution_count": 4,
   "id": "b4b7ab50-5900-4f9a-8673-befc7779a018",
   "metadata": {},
   "outputs": [],
   "source": [
    "documents = reader.load_data()"
   ]
  },
  {
   "cell_type": "code",
   "execution_count": 5,
   "id": "991b959a-3db6-4da5-aa76-a0844a8d1000",
   "metadata": {},
   "outputs": [
    {
     "data": {
      "text/plain": [
       "1"
      ]
     },
     "execution_count": 5,
     "metadata": {},
     "output_type": "execute_result"
    }
   ],
   "source": [
    "len(documents)"
   ]
  },
  {
   "cell_type": "code",
   "execution_count": 7,
   "id": "aadca277-6a7d-4e9c-a28c-a33eb9856aa8",
   "metadata": {},
   "outputs": [],
   "source": [
    "#documents"
   ]
  },
  {
   "cell_type": "markdown",
   "id": "d666cdb5-d957-46d2-9d25-b247a1677032",
   "metadata": {},
   "source": [
    "#### How LlamaIndex divides documents into nodes\n",
    "\n",
    "1. **Document Loading**:\n",
    "   - `SimpleDirectoryReader('files/postprocessors')` loads documents from a specified directory.\n",
    "   - Each document may be large (e.g., a long article or text file).\n",
    "\n",
    "2. **Document Chunking**:\n",
    "   - When `documents = reader.load_data()` is called, the `SimpleDirectoryReader` processes documents by splitting them into smaller pieces called \"nodes.\"\n",
    "   - Chunking is often based on the length of the text (number of words, tokens, or paragraphs) to ensure each node is manageable for the language model.\n",
    "\n",
    "3. **Nodes**:\n",
    "   - A node consists of a contiguous section of the document, such as a paragraph, a few sentences, or a fixed number of tokens.\n",
    "   - These nodes are later indexed or processed by `VectorStoreIndex`, enabling efficient search and retrieval.\n",
    "\n",
    "**Customization:** The chunking process ensures that large documents are broken into smaller, manageable parts (nodes) for the language model.\n"
   ]
  },
  {
   "cell_type": "code",
   "execution_count": 8,
   "id": "b11fb9f0-76c9-4620-965e-62488e2b4744",
   "metadata": {},
   "outputs": [],
   "source": [
    "# Create an index from the documents (this will chunk them into nodes)\n",
    "index = VectorStoreIndex.from_documents(documents)"
   ]
  },
  {
   "cell_type": "code",
   "execution_count": 10,
   "id": "4eaef411-5d14-415f-8565-b211e51cdf37",
   "metadata": {},
   "outputs": [
    {
     "name": "stdout",
     "output_type": "stream",
     "text": [
      "Node ID: e9f253fb-6554-4113-a7fd-49291bd96059\n",
      "Node Content:\n",
      "In the quaint village of Lavender Hollow, nestled snugly within the embrace of towering trees and rolling hills, a ginger tabby cat named Fluffy resided in a cozy cottage that exuded warmth and tranquility. Fluffy, with her enchanting amber eyes and majestic ginger fur, had become an integral part of the tapestry of life that unfolded within the village.\n",
      "\n",
      "It was a beautiful morning, with ethereal rays of sunlight streaming through the curtains, casting a soft golden glow upon Fluffy's slumbering form. As her eyes fluttered open, Fluffy could sense the promise of excitement and adventure that awaited her just outside the window. It was a tranquil Wednesday morning, February 7th, 2024, and the world outside seemed to beckon her with promises of new discoveries and delightful escapades.\n",
      "\n",
      "With a graceful stretch, Fluffy emerged from her cozy bed and padded over to the kitchen, where the Joneses, a family known for their unwavering love for animals, awaited her arrival. Mr. and Mrs. Jones, along with their daughter Lucy, had showered Fluffy with love and care ever since she had entered their lives as a tiny, fragile kitten. Lucy, a sprightly 7-year-old with an infectious giggle and a boundless spirit, was Fluffy's cherished companion in mischief and merriment. Together, they embarked on countless adventures, their spirits intertwining like threads in a beautiful tapestry.\n",
      "\n",
      "After indulging in a leisurely breakfast of tender morsels, handpicked by Mr. Jones from their vibrant vegetable patch, Fluffy sauntered gracefully through the cat door. The world outside awaited her arrival, a realm ripe for exploration and adventure. The backyard, an oasis of green nestled beside a meandering brook, lay before her like an undiscovered paradise.\n",
      "\n",
      "Passing by the vibrant flower beds, where bees hummed with joy amidst the intoxicating scent of lavender and roses, Fluffy made her way towards the beckoning melody of the babbling stream. Its crystalline waters flowed gently, winding through the picturesque landscape like a silver ribbon, whispering secrets of forgotten tales. Fluffy felt a familiar tug at her heart, a longing to immerse herself in the tranquil beauty that awaited her there.\n",
      "\n",
      "At the water's edge, Fluffy embarked on her daily ritual of discovery. With nimble paws, she playfully batted at darting fish, observed the graceful dance of dragonflies, and relished in the warmth of sun-kissed rocks. Every day brought new wonders and hidden surprises, as if the stream itself delighted in revealing its secrets to the curious feline explorer.\n",
      "\n",
      "As Fluffy ambled along the brook's gentle curve, a splash disrupted the tranquility, drawing her curious gaze downstream. There, amidst the shallows, Lucy Jones frolicked in the crystalline waters, her youthful exuberance evident as she eagerly overturned stones in search of aquatic critters. Lucy, with her vibrant personality and infectious laughter, was the perfect companion for Fluffy's more daring escapades.\n",
      "\n",
      "A glimmer of silver caught Fluffy's eye, its brilliance beckoning her closer. With cautious steps, she approached the water's edge, her senses attuned to the mysterious allure. Nestled between two mossy stones lay a treasure—a delicate silver pendant in the shape of a crescent moon, suspended from a gossamer chain. Its radiance remained undiminished despite its watery resting place. Fluffy's keen eyes widened in awe as she recognized this delicate piece of jewelry.\n",
      "\n",
      "With a deft motion, Fluffy extended her paw, retrieving the pendant from its aqueous sanctuary. Admiring the intricate craftsmanship and the iridescence of tiny diamonds that adorned its surface, Fluffy marveled at the beauty of this lost trinket. Yet, her joy was tempered by a realization—a notion that this exquisite jewel held significance beyond its aesthetic allure.\n",
      "\n",
      "A cry of distress echoed down the stream, drawing Fluffy's attention back to Lucy, whose frantic gestures betrayed her anguish. Rocks were upturned, and sandy depths were scrutinized as Lucy desperately searched for something precious—something lost amidst the playful ripples of the brook.\n",
      "\n",
      "\"It must be hers,\" Fluffy mused, her feline intuition guiding her actions. With purposeful strides, she approached Lucy, the pendant cradled gently in her jaws. A soft meow escaped her lips as she deposited the treasure at Lucy's feet, a silent offering of solace and reassurance.\n",
      "\n",
      "Node ID: cad53f45-9515-4e42-b442-888cf275f749\n",
      "Node Content:\n",
      "Admiring the intricate craftsmanship and the iridescence of tiny diamonds that adorned its surface, Fluffy marveled at the beauty of this lost trinket. Yet, her joy was tempered by a realization—a notion that this exquisite jewel held significance beyond its aesthetic allure.\n",
      "\n",
      "A cry of distress echoed down the stream, drawing Fluffy's attention back to Lucy, whose frantic gestures betrayed her anguish. Rocks were upturned, and sandy depths were scrutinized as Lucy desperately searched for something precious—something lost amidst the playful ripples of the brook.\n",
      "\n",
      "\"It must be hers,\" Fluffy mused, her feline intuition guiding her actions. With purposeful strides, she approached Lucy, the pendant cradled gently in her jaws. A soft meow escaped her lips as she deposited the treasure at Lucy's feet, a silent offering of solace and reassurance.\n",
      "\n",
      "Lucy's eyes widened in disbelief as she beheld the pendant, her expression a mixture of astonishment and gratitude. \"My necklace! Fluffy, you found it!\" she exclaimed, her voice tinged with relief and elation. With trembling fingers, she retrieved the pendant, its familiar weight a comforting reminder of her mother's love and affection.\n",
      "\n",
      "In that moment, a bond of camaraderie and trust was forged between cat and child—a testament to the enduring power of friendship and empathy. As Lucy embraced her feline companion with a fierce hug, tears of gratitude glistening in her eyes, Fluffy purred contentedly, her heart aglow with a sense of fulfillment and belonging.\n",
      "\n",
      "As the years passed, Fluffy and Lucy would continue their escapades along the idyllic waters of their beloved village stream. The pendant, now lovingly displayed around Lucy's neck, became a symbol of their unbreakable bond and a reminder of the fateful day Fluffy had crossed paths with destiny itself.\n",
      "\n",
      "Fluffy, with her adventurous spirit and deep well of wisdom, became a legend in Lavender Hollow. Whenever village children gathered along the stream's edge, they would regale one another with tales of Fluffy's courage and her unwavering loyalty to Lucy. And though Fluffy's physical form eventually returned to the embrace of nature, her spirit, forever intertwined with the gentle stream, continued to inspire every living creature that graced Lavender Hollow.\n",
      "\n",
      "And so, the story of Fluffy, the ginger tabby cat who awakened to the call of adventure and wandered alongside the murmuring stream, became etched into the tapestry of the village's history. Her story served as a reminder to all who heard it, that love transcends species, and true friendship can be found in the most unexpected of souls.\n",
      "\n"
     ]
    }
   ],
   "source": [
    "# Access the nodes (documents) from the index's docstore\n",
    "nodes = index.docstore.docs\n",
    "\n",
    "# Iterate over the nodes and print them\n",
    "for node_id, node in nodes.items():\n",
    "    print(f\"Node ID: {node_id}\")\n",
    "    print(f\"Node Content:\\n{node.get_text()}\\n\")"
   ]
  },
  {
   "cell_type": "markdown",
   "id": "4c3d184a-db54-49ef-a7b0-6552c644f8d5",
   "metadata": {},
   "source": [
    "#### How Chunking is Done:\n",
    "\n",
    "- When you load documents using `SimpleDirectoryReader` and pass them to `VectorStoreIndex`, \n",
    "  the documents are split (or chunked) into smaller pieces called **nodes**.\n",
    "- The purpose of this chunking is to ensure that large documents are broken into manageable sections \n",
    "  that the model can process efficiently.\n",
    "\n",
    "#### Default Chunking:\n",
    "\n",
    "- By default, LlamaIndex uses simple heuristics to chunk documents.\n",
    "- It might split based on a fixed number of tokens (e.g., 512 tokens) or based on logical breaks like paragraphs or sentences.\n",
    "\n",
    "#### Custom Chunking:\n",
    "\n",
    "- You can customize how documents are chunked by using a different `TextSplitter` or setting chunking parameters.\n",
    "- For example, you can define how long each chunk should be or how the splits should happen (e.g., by sentences or by tokens).\n"
   ]
  },
  {
   "cell_type": "markdown",
   "id": "2309cac8-0e1f-47f3-b36a-bf45e945cbd5",
   "metadata": {},
   "source": [
    "#### Using custom chunking (TextSplitter)"
   ]
  },
  {
   "cell_type": "code",
   "execution_count": 12,
   "id": "fe55d9f7-d842-49e8-9864-b235aa79423a",
   "metadata": {},
   "outputs": [],
   "source": [
    "from llama_index.core.text_splitter import TokenTextSplitter"
   ]
  },
  {
   "cell_type": "code",
   "execution_count": 13,
   "id": "3228ddb6-d60e-4d0e-8160-47de40b710c0",
   "metadata": {},
   "outputs": [],
   "source": [
    "reader = SimpleDirectoryReader('files/postprocessors')"
   ]
  },
  {
   "cell_type": "code",
   "execution_count": 27,
   "id": "b6f04b8e-491c-4dd6-bd37-4a6ddc1797c4",
   "metadata": {},
   "outputs": [],
   "source": [
    "documents = reader.load_data()"
   ]
  },
  {
   "cell_type": "code",
   "execution_count": 32,
   "id": "568307f9-6bc9-432c-956f-f3f968ec4cf2",
   "metadata": {},
   "outputs": [],
   "source": [
    "# Customize chunking using TokenTextSplitter\n",
    "#text_splitter = TokenTextSplitter(chunk_size=256, chunk_overlap=20)  # Customize chunk size and overlap"
   ]
  },
  {
   "cell_type": "code",
   "execution_count": 33,
   "id": "6cf58cfd-0e5e-48fb-b034-da3503456f4c",
   "metadata": {},
   "outputs": [],
   "source": [
    "from llama_index.core.node_parser import SimpleNodeParser"
   ]
  },
  {
   "cell_type": "code",
   "execution_count": 38,
   "id": "ad1e5d97-594a-4d1e-94de-5488a61cbc2c",
   "metadata": {},
   "outputs": [],
   "source": [
    "# Initialize the parser\n",
    "parser = SimpleNodeParser.from_defaults(chunk_size=200, chunk_overlap=20)\n",
    "\n",
    "# Parse documents into nodes\n",
    "nodes = parser.get_nodes_from_documents(documents)"
   ]
  },
  {
   "cell_type": "code",
   "execution_count": 39,
   "id": "526f8792-61e9-475c-a6bb-f5cd5a79b297",
   "metadata": {},
   "outputs": [
    {
     "data": {
      "text/plain": [
       "11"
      ]
     },
     "execution_count": 39,
     "metadata": {},
     "output_type": "execute_result"
    }
   ],
   "source": [
    "len(nodes)"
   ]
  },
  {
   "cell_type": "markdown",
   "id": "69413e64-8fca-46f9-a7e2-75077396cae3",
   "metadata": {},
   "source": [
    "...back to the main code"
   ]
  },
  {
   "cell_type": "code",
   "execution_count": 40,
   "id": "648544f2-98ad-4847-b604-8d07a5f0308c",
   "metadata": {},
   "outputs": [],
   "source": [
    "reader    = SimpleDirectoryReader('files/postprocessors')\n",
    "documents = reader.load_data()\n",
    "\n",
    "index     = VectorStoreIndex.from_documents(documents)"
   ]
  },
  {
   "cell_type": "code",
   "execution_count": 41,
   "id": "bfc705f0-7f3d-420d-a2be-c400ce7b99da",
   "metadata": {},
   "outputs": [],
   "source": [
    "retriever = index.as_retriever(retriever_mode='default')"
   ]
  },
  {
   "cell_type": "code",
   "execution_count": 42,
   "id": "491a7975-8b21-4bd5-a0a0-d6ca145d0658",
   "metadata": {},
   "outputs": [],
   "source": [
    "nodes = retriever.retrieve(\n",
    "    \"What did Fluffy found in the gentle stream?\"\n",
    ")"
   ]
  },
  {
   "cell_type": "code",
   "execution_count": 43,
   "id": "1d0f437f-7eec-4d8a-a9e7-7fc07392cda5",
   "metadata": {},
   "outputs": [
    {
     "name": "stdout",
     "output_type": "stream",
     "text": [
      "Initial nodes:\n",
      "Node: 329318c0-ed03-450e-8fb2-25dd75221023 - Score: 0.8739163932659445\n",
      "Node: ff128de5-4559-4ac8-ac1a-4eb518cae11d - Score: 0.855709528796912\n"
     ]
    }
   ],
   "source": [
    "print('Initial nodes:')\n",
    "for node in nodes:\n",
    "    print(f\"Node: {node.node_id} - Score: {node.score}\")"
   ]
  },
  {
   "cell_type": "code",
   "execution_count": 44,
   "id": "d0d3d544-99ac-42c7-bbd2-cac11ac8aa4d",
   "metadata": {},
   "outputs": [],
   "source": [
    "pp = SimilarityPostprocessor(\n",
    "    nodes            =nodes, \n",
    "    similarity_cutoff=0.86\n",
    ")"
   ]
  },
  {
   "cell_type": "code",
   "execution_count": 45,
   "id": "678f1ad3-aca3-4895-837a-2fa24556edbb",
   "metadata": {},
   "outputs": [],
   "source": [
    "remaining_nodes = pp.postprocess_nodes(nodes)"
   ]
  },
  {
   "cell_type": "code",
   "execution_count": 46,
   "id": "a3bb28fe-1b44-410e-9ef3-5713ba47f2f8",
   "metadata": {},
   "outputs": [
    {
     "name": "stdout",
     "output_type": "stream",
     "text": [
      "Remaining nodes:\n",
      "Node: 329318c0-ed03-450e-8fb2-25dd75221023 - Score: 0.8739163932659445\n"
     ]
    }
   ],
   "source": [
    "print('Remaining nodes:')\n",
    "for node in remaining_nodes:\n",
    "    print(f\"Node: {node.node_id} - Score: {node.score}\")"
   ]
  },
  {
   "cell_type": "code",
   "execution_count": null,
   "id": "ea38fc42-1a6b-43bc-9bda-fe636e46f4bc",
   "metadata": {},
   "outputs": [],
   "source": []
  }
 ],
 "metadata": {
  "kernelspec": {
   "display_name": "Python 3 (ipykernel)",
   "language": "python",
   "name": "python3"
  },
  "language_info": {
   "codemirror_mode": {
    "name": "ipython",
    "version": 3
   },
   "file_extension": ".py",
   "mimetype": "text/x-python",
   "name": "python",
   "nbconvert_exporter": "python",
   "pygments_lexer": "ipython3",
   "version": "3.9.13"
  }
 },
 "nbformat": 4,
 "nbformat_minor": 5
}
