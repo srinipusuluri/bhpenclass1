{
 "cells": [
  {
   "cell_type": "markdown",
   "id": "3075f37a-0413-4270-8d46-d4ada42a06a0",
   "metadata": {},
   "source": [
    "-------------------------------\n",
    "#### Understanding the simple text splitters\n",
    "------------------------------\n",
    "\n",
    "- **Text splitters** break down the document into **smaller pieces** at the raw text level.\n",
    "- They are useful when the content has a **flat structure** and does not come in a specific format.\n"
   ]
  },
  {
   "cell_type": "markdown",
   "id": "9e84fc59-daf8-4a3d-a73d-5243e0a50d15",
   "metadata": {},
   "source": [
    "#### SimpleFileNodeParser"
   ]
  },
  {
   "cell_type": "markdown",
   "id": "22863799-68be-4c57-910f-b19045f7250c",
   "metadata": {},
   "source": [
    "- **SimpleFileNodeParser** automatically selects the appropriate node parser based on file types.\n",
    "- It can handle and transform various file formats into nodes, simplifying the interaction with different types of content.\n",
    "- The file formats it can manage include:\n",
    "  - **PDFs**\n",
    "  - **DOCX** (Word documents)\n",
    "  - **CSVs** (Comma-Separated Values)\n",
    "  - **Plain text files**\n"
   ]
  },
  {
   "cell_type": "code",
   "execution_count": 20,
   "id": "ca0af1d0-8297-4b76-861d-9c79c4a73094",
   "metadata": {},
   "outputs": [],
   "source": [
    "from llama_index.readers.file import FlatReader"
   ]
  },
  {
   "cell_type": "code",
   "execution_count": 21,
   "id": "1accf9d6-5179-4791-921f-12cff63d653b",
   "metadata": {},
   "outputs": [],
   "source": [
    "from pathlib import Path"
   ]
  },
  {
   "cell_type": "code",
   "execution_count": 22,
   "id": "591c503d-4576-43c3-a0bb-e20ee82f5c8a",
   "metadata": {},
   "outputs": [],
   "source": [
    "reader = FlatReader()"
   ]
  },
  {
   "cell_type": "code",
   "execution_count": 23,
   "id": "e4abc64a-0a6f-4525-b591-2a77c272ca72",
   "metadata": {},
   "outputs": [],
   "source": [
    "document = reader.load_data(Path(\"files/sample_document1.txt\"))"
   ]
  },
  {
   "cell_type": "code",
   "execution_count": 24,
   "id": "3613db9f-f99c-4131-ab42-68f5f6416ee7",
   "metadata": {},
   "outputs": [
    {
     "data": {
      "text/plain": [
       "[Document(id_='89023799-860a-4c30-8b1c-11ade2d2e0e6', embedding=None, metadata={'filename': 'sample_document1.txt', 'extension': '.txt'}, excluded_embed_metadata_keys=[], excluded_llm_metadata_keys=[], relationships={}, text=\"In ancient Rome, the city of Rome itself was the heart of the vast Roman Empire. It was known for its grand architecture, including iconic structures like the Colosseum and the Pantheon. The Romans were skilled engineers and builders, creating an extensive network of roads, aqueducts, and bridges that connected their far-reaching territories. The Roman Republic, with its Senate and elected officials, gave rise to the famous Roman legions, which conquered vast lands and brought them under Roman rule. The Roman civilization's influence on art, law, and governance can still be seen in modern societies today.\", mimetype='text/plain', start_char_idx=None, end_char_idx=None, text_template='{metadata_str}\\n\\n{content}', metadata_template='{key}: {value}', metadata_seperator='\\n')]"
      ]
     },
     "execution_count": 24,
     "metadata": {},
     "output_type": "execute_result"
    }
   ],
   "source": [
    "document"
   ]
  },
  {
   "cell_type": "code",
   "execution_count": 25,
   "id": "05f22143-3fc5-4817-809a-b4675d905255",
   "metadata": {},
   "outputs": [
    {
     "name": "stdout",
     "output_type": "stream",
     "text": [
      "Metadata: {'filename': 'sample_document1.txt', 'extension': '.txt'}\n",
      "Text: In ancient Rome, the city of Rome itself was the heart of the vast Roman Empire. It was known for its grand architecture, including iconic structures like the Colosseum and the Pantheon. The Romans were skilled engineers and builders, creating an extensive network of roads, aqueducts, and bridges that connected their far-reaching territories. The Roman Republic, with its Senate and elected officials, gave rise to the famous Roman legions, which conquered vast lands and brought them under Roman rule. The Roman civilization's influence on art, law, and governance can still be seen in modern societies today.\n"
     ]
    }
   ],
   "source": [
    "print(f\"Metadata: {document[0].metadata}\")\n",
    "print(f\"Text: {document[0].text}\")"
   ]
  },
  {
   "cell_type": "markdown",
   "id": "8b5ab0bf-6bc5-4889-9b9b-f8dad9989c51",
   "metadata": {},
   "source": [
    "#### HTMLNodeParser"
   ]
  },
  {
   "cell_type": "code",
   "execution_count": 26,
   "id": "5201904f-109e-444b-9000-c212107c3a3e",
   "metadata": {},
   "outputs": [],
   "source": [
    "from llama_index.core.node_parser import HTMLNodeParser\n",
    "from llama_index.readers.file import FlatReader\n",
    "from pathlib import Path"
   ]
  },
  {
   "cell_type": "code",
   "execution_count": 27,
   "id": "6b031e80-1e8e-4c7c-9d42-90cc33bf1beb",
   "metadata": {},
   "outputs": [],
   "source": [
    "reader = FlatReader()\n",
    "document = reader.load_data(Path(\"files/others/sample.html\"))"
   ]
  },
  {
   "cell_type": "code",
   "execution_count": 28,
   "id": "96b0a718-d9d1-43b2-994d-2bb383d0f660",
   "metadata": {},
   "outputs": [],
   "source": [
    "my_tags = [\"p\", \"span\"]  \n",
    "html_parser = HTMLNodeParser(tags=my_tags)\n",
    "nodes = html_parser.get_nodes_from_documents(document)"
   ]
  },
  {
   "cell_type": "code",
   "execution_count": 29,
   "id": "07b252ea-36f1-4e88-984d-3e137657cba9",
   "metadata": {},
   "outputs": [
    {
     "name": "stdout",
     "output_type": "stream",
     "text": [
      "<span> elements:\n",
      "Example:\n"
     ]
    }
   ],
   "source": [
    "print('<span> elements:')\n",
    "for node in nodes:\n",
    "    if node.metadata['tag']=='span':\n",
    "        print(node.text)"
   ]
  },
  {
   "cell_type": "code",
   "execution_count": 30,
   "id": "4b414197-df16-4ae2-8c1c-b543d693ce2e",
   "metadata": {},
   "outputs": [
    {
     "name": "stdout",
     "output_type": "stream",
     "text": [
      "<p> elements:\n",
      "First line\n",
      "Second line\n",
      "Third line\n"
     ]
    }
   ],
   "source": [
    "print('<p> elements:') \n",
    "for node in nodes:\n",
    "    if node.metadata['tag']=='p':\n",
    "        print(node.text)"
   ]
  },
  {
   "cell_type": "markdown",
   "id": "d26fd2a9-55fe-47b6-8023-705488dad112",
   "metadata": {},
   "source": [
    "#### MarkdownNodeParser\n",
    "- This parser processes raw markdown text and generates nodes reflecting its structure and content. \n",
    "- The markdown node parser divides the content into nodes for each header encountered in the file and incorporates the header hierarchy into the metadata. "
   ]
  },
  {
   "cell_type": "code",
   "execution_count": 31,
   "id": "50cd13c0-54c6-4b53-a437-521751ff70c7",
   "metadata": {},
   "outputs": [],
   "source": [
    "from llama_index.core.node_parser import MarkdownNodeParser\n",
    "from llama_index.readers.file import FlatReader\n",
    "from pathlib import Path"
   ]
  },
  {
   "cell_type": "code",
   "execution_count": 32,
   "id": "4c974f66-0c1b-4bf7-b318-41bc4c6a9b0a",
   "metadata": {},
   "outputs": [],
   "source": [
    "reader = FlatReader()\n",
    "document = reader.load_data(Path(\"files/others/sample.md\"))"
   ]
  },
  {
   "cell_type": "code",
   "execution_count": 33,
   "id": "d7d88ccd-267a-40de-8e3c-c1ecd24203cc",
   "metadata": {},
   "outputs": [],
   "source": [
    "parser = MarkdownNodeParser.from_defaults()\n",
    "nodes  = parser.get_nodes_from_documents(document)"
   ]
  },
  {
   "cell_type": "code",
   "execution_count": 34,
   "id": "f8c1a0b2-059f-4b98-b064-5491ac11a986",
   "metadata": {},
   "outputs": [
    {
     "name": "stdout",
     "output_type": "stream",
     "text": [
      "Metadata {'filename': 'sample.md', 'extension': '.md'} \n",
      "Text: An h1 header\n",
      "============\n",
      "\n",
      "Paragraphs are separated by a blank line.\n",
      "\n",
      "2nd paragraph. *Italic*, **bold**, and `monospace`. Itemized lists\n",
      "look like:\n",
      "\n",
      "  * this one\n",
      "  * that one\n",
      "  * the other one\n",
      "\n",
      "Note that --- not considering the asterisk --- the actual text\n",
      "content starts at 4-columns in.\n",
      "\n",
      "> Block quotes are\n",
      "> written like so.\n",
      ">\n",
      "> They can span multiple paragraphs,\n",
      "> if you like.\n",
      "\n",
      "Use 3 dashes for an em-dash. Use 2 dashes for ranges (ex., \"it's all\n",
      "in chapters 12--14\"). Three dots ... will be converted to an ellipsis.\n",
      "Unicode is supported. ☺\n",
      "\n",
      "\n",
      "\n",
      "An h2 header\n",
      "------------\n",
      "\n",
      "Here's a numbered list:\n",
      "\n",
      " 1. first item\n",
      " 2. second item\n",
      " 3. third item\n",
      "\n",
      "Note again how the actual text starts at 4 columns in (4 characters\n",
      "from the left side). Here's a code sample:\n",
      "\n",
      "    # Let me re-iterate ...\n",
      "    for i in 1 .. 10 { do-something(i) }\n",
      "\n",
      "As you probably guessed, indented 4 spaces. By the way, instead of\n",
      "indenting the block, you can use delimited blocks, if you like:\n",
      "\n",
      "~~~\n",
      "define foobar() {\n",
      "    print \"Welcome to flavor country!\";\n",
      "}\n",
      "~~~\n",
      "\n",
      "(which makes copying & pasting easier). You can optionally mark the\n",
      "delimited block for Pandoc to syntax highlight it:\n",
      "\n",
      "~~~python\n",
      "import time\n",
      "Metadata {'filename': 'sample.md', 'extension': '.md', 'Header_1': 'Quick, count to ten!'} \n",
      "Text: Quick, count to ten!\n",
      "for i in range(10):\n",
      "    # (but not *too* quick)\n",
      "    time.sleep(0.5)\n",
      "    print i\n",
      "~~~\n",
      "Metadata {'filename': 'sample.md', 'extension': '.md', 'Header_1': 'Quick, count to ten!', 'Header_3': 'An h3 header ###'} \n",
      "Text: An h3 header ###\n",
      "\n",
      "Now a nested list:\n",
      "\n",
      " 1. First, get these ingredients:\n",
      "\n",
      "      * carrots\n",
      "      * celery\n",
      "      * lentils\n",
      "\n",
      " 2. Boil some water.\n",
      "\n",
      " 3. Dump everything in the pot and follow\n",
      "    this algorithm:\n",
      "\n",
      "        find wooden spoon\n",
      "        uncover pot\n",
      "        stir\n",
      "        cover pot\n",
      "        balance wooden spoon precariously on pot handle\n",
      "        wait 10 minutes\n",
      "        goto first step (or shut off burner when done)\n",
      "\n",
      "    Do not bump wooden spoon or it will fall.\n",
      "\n",
      "Notice again how text always lines up on 4-space indents (including\n",
      "that last line which continues item 3 above).\n",
      "\n",
      "Here's a link to [a website](http://foo.bar), to a [local\n",
      "doc](local-doc.html), and to a [section heading in the current\n",
      "doc](#an-h2-header). Here's a footnote [^1].\n",
      "\n",
      "[^1]: Footnote text goes here.\n",
      "\n",
      "Tables can look like this:\n",
      "\n",
      "size  material      color\n",
      "----  ------------  ------------\n",
      "9     leather       brown\n",
      "10    hemp canvas   natural\n",
      "11    glass         transparent\n",
      "\n",
      "Table: Shoes, their sizes, and what they're made of\n",
      "\n",
      "(The above is the caption for the table.) Pandoc also supports\n",
      "multi-line tables:\n",
      "\n",
      "--------  -----------------------\n",
      "keyword   text\n",
      "--------  -----------------------\n",
      "red       Sunsets, apples, and\n",
      "          other red or reddish\n",
      "          things.\n",
      "\n",
      "green     Leaves, grass, frogs\n",
      "          and other things it's\n",
      "          not easy being.\n",
      "--------  -----------------------\n",
      "\n",
      "A horizontal rule follows.\n",
      "\n",
      "***\n",
      "\n",
      "Here's a definition list:\n",
      "\n",
      "apples\n",
      "  : Good for making applesauce.\n",
      "oranges\n",
      "  : Citrus!\n",
      "tomatoes\n",
      "  : There's no \"e\" in tomatoe.\n",
      "\n",
      "Again, text is indented 4 spaces. (Put a blank line between each\n",
      "term/definition pair to spread things out more.)\n",
      "\n",
      "Here's a \"line block\":\n",
      "\n",
      "| Line one\n",
      "|   Line too\n",
      "| Line tree\n",
      "\n",
      "and images can be specified like so:\n",
      "\n",
      "![example image](example-image.jpg \"An exemplary image\")\n",
      "\n",
      "Inline math equations go in like so: $\\omega = d\\phi / dt$. Display\n",
      "math should get its own line and be put in in double-dollarsigns:\n",
      "\n",
      "$$I = \\int \\rho R^{2} dV$$\n",
      "\n",
      "And note that you can backslash-escape any punctuation characters\n",
      "which you wish to be displayed literally, ex.: \\`foo\\`, \\*bar\\*, etc.\n"
     ]
    }
   ],
   "source": [
    "for node in nodes:\n",
    "    print(f\"Metadata {node.metadata} \\nText: {node.text}\")"
   ]
  },
  {
   "cell_type": "markdown",
   "id": "8224b06a-538b-4600-836a-c0a1aa9f2517",
   "metadata": {},
   "source": [
    "#### JSONNodeParser\n",
    "\n",
    "This parser is specialized in processing and querying structured data in JSON format. In a similar\n",
    "way to the Markdown parser, the JSON parser can be used like this:"
   ]
  },
  {
   "cell_type": "code",
   "execution_count": 35,
   "id": "eb375bae-ccd0-4988-b494-23c2f0a9debc",
   "metadata": {},
   "outputs": [],
   "source": [
    "from llama_index.core.node_parser import JSONNodeParser\n",
    "from llama_index.readers.file import FlatReader\n",
    "from pathlib import Path"
   ]
  },
  {
   "cell_type": "code",
   "execution_count": 17,
   "id": "92817eff-3070-410f-b48c-15a5ee40e2be",
   "metadata": {},
   "outputs": [],
   "source": [
    "reader = FlatReader()\n",
    "document = reader.load_data(Path(\"files/others/sample.json\"))"
   ]
  },
  {
   "cell_type": "code",
   "execution_count": 18,
   "id": "bcb0c982-081a-46a7-a272-a09a6d6b9e45",
   "metadata": {},
   "outputs": [],
   "source": [
    "json_parser = JSONNodeParser.from_defaults()\n",
    "nodes = json_parser.get_nodes_from_documents(document)"
   ]
  },
  {
   "cell_type": "code",
   "execution_count": 19,
   "id": "e1886d7d-3056-4f3e-bda7-d8714b514896",
   "metadata": {},
   "outputs": [
    {
     "name": "stdout",
     "output_type": "stream",
     "text": [
      "Metadata {'filename': 'sample.json', 'extension': '.json'} \n",
      "Text: quiz sport q1 question Which one is correct team name in NBA?\n",
      "quiz sport q1 options New York Bulls\n",
      "quiz sport q1 options Los Angeles Kings\n",
      "quiz sport q1 options Golden State Warriros\n",
      "quiz sport q1 options Huston Rocket\n",
      "quiz sport q1 answer Huston Rocket\n",
      "quiz maths q1 question 5 + 7 = ?\n",
      "quiz maths q1 options 10\n",
      "quiz maths q1 options 11\n",
      "quiz maths q1 options 12\n",
      "quiz maths q1 options 13\n",
      "quiz maths q1 answer 12\n",
      "quiz maths q2 question 12 - 8 = ?\n",
      "quiz maths q2 options 1\n",
      "quiz maths q2 options 2\n",
      "quiz maths q2 options 3\n",
      "quiz maths q2 options 4\n",
      "quiz maths q2 answer 4\n"
     ]
    }
   ],
   "source": [
    "for node in nodes:\n",
    "    print(f\"Metadata {node.metadata} \\nText: {node.text}\")"
   ]
  },
  {
   "cell_type": "code",
   "execution_count": null,
   "id": "f99498a0-6251-4d13-8432-cf54f14e0b3e",
   "metadata": {},
   "outputs": [],
   "source": []
  }
 ],
 "metadata": {
  "kernelspec": {
   "display_name": "Python 3 (ipykernel)",
   "language": "python",
   "name": "python3"
  },
  "language_info": {
   "codemirror_mode": {
    "name": "ipython",
    "version": 3
   },
   "file_extension": ".py",
   "mimetype": "text/x-python",
   "name": "python",
   "nbconvert_exporter": "python",
   "pygments_lexer": "ipython3",
   "version": "3.12.4"
  }
 },
 "nbformat": 4,
 "nbformat_minor": 5
}
