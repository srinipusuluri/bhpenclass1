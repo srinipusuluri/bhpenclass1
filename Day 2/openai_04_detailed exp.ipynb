{
 "cells": [
  {
   "cell_type": "code",
   "execution_count": 3,
   "id": "36ae9fb6-5d7b-4e54-899a-63b61393719f",
   "metadata": {},
   "outputs": [],
   "source": [
    "import os\n",
    "import openai"
   ]
  },
  {
   "cell_type": "markdown",
   "id": "98b3a9a8-1c75-4830-891d-f1645876f886",
   "metadata": {},
   "source": [
    "#### models in openAI\n",
    "------------------------------------\n",
    "\n",
    "OpenAI provides a variety of models, each suited for different use cases, ranging from text generation, code generation, to specific tasks like question answering, summarization, and more.\n",
    "\n",
    "| Model Type               | Description                                                                                       | Model ID               | Variants/Use Cases                                           |\n",
    "|--------------------------|---------------------------------------------------------------------------------------------------|------------------------|-------------------------------------------------------------|\n",
    "| **GPT-4 Models**         | The most advanced language model, designed for a wide range of tasks, including text completion and complex reasoning. | `gpt-4`                | Variants: `gpt-4`, `gpt-4-32k` (larger context window)     |\n",
    "| **GPT-3.5 Models**       | A slightly earlier version of the GPT-4 model, used for efficient and high-quality completions across various tasks. | `gpt-3.5-turbo`        |                                                             |\n",
    "| **Codex Models**         | Specialized for code generation tasks, including programming in multiple languages.              | `code-davinci-002`, `code-cushman-001` | Use cases: Autocomplete for code, bug fixes, code explanations. |\n",
    "| **Text-Davinci Models**  | One of the most capable models for text generation, document completion, and more.              | `text-davinci-003`     | Use cases: Writing, summarization, text generation.         |\n",
    "\n",
    "\n"
   ]
  },
  {
   "cell_type": "markdown",
   "id": "4d9721bf-006d-431e-a7b3-b98d36f60aca",
   "metadata": {},
   "source": [
    "##### Key Properties of Models:\n",
    "- **Token Limit**: Defines how much input and output the model can handle in a single request. For example:\n",
    "  - GPT-4 has a context length limit of 8,192 tokens, and `gpt-4-32k` can handle up to 32,768 tokens.\n",
    "- **Training Data**: The models are trained on a mixture of publicly available and licensed datasets but have a knowledge cutoff (e.g., GPT-4 has a cutoff in September 2021).\n",
    "\n",
    "Each model has a balance of capability, efficiency, and cost, and you can select the right one depending on the task you need to perform."
   ]
  },
  {
   "cell_type": "markdown",
   "id": "698efb7d-0236-49b2-8b34-6b97113b1836",
   "metadata": {},
   "source": [
    "#### Endpoints\n",
    "-----------------------------\n",
    "\n",
    "- OpenAI provides several API endpoints that enable developers to interact with their models for various tasks such as `text generation`, `conversation`, `code completion`, `embedding generation`, and more.\n",
    "\n",
    "- Each endpoint serves a different purpose and can be accessed via HTTP requests."
   ]
  },
  {
   "cell_type": "code",
   "execution_count": 4,
   "id": "e6319975-cfda-4b44-aa87-db386998ef7d",
   "metadata": {},
   "outputs": [],
   "source": [
    "# for older 0.28 API\n",
    "# Make a request to the Completions Endpoint\n",
    "# response = openai.Completion.create(\n",
    "#   model       = \"gpt-3.5-turbo\",                                # Specify the model you want to use\n",
    "#   prompt      = \"Once upon a time, there was a wise owl that\",  # Input prompt\n",
    "#   max_tokens  = 50,                                             # The maximum number of tokens to generate\n",
    "#   temperature = 0.7,                                            # Controls randomness (0.7 = moderate creativity)\n",
    "#   n           = 1,                                              # The number of completions to generate\n",
    "#   stop        = None                                            # Optional stop sequence\n",
    "# )"
   ]
  },
  {
   "cell_type": "code",
   "execution_count": 5,
   "id": "045a6097-8ca1-42f8-9ead-33b1d33b0532",
   "metadata": {},
   "outputs": [],
   "source": [
    "# Print the generated completion\n",
    "# print(response['choices'][0]['message']['content'])"
   ]
  },
  {
   "cell_type": "markdown",
   "id": "4cb3a040-0ba3-49ea-8193-dc683cf59966",
   "metadata": {},
   "source": [
    "#### 2. Chat Completion Endpoint (/v1/chat/completions)\n",
    "\n",
    "**Purpose**: Designed for GPT models (GPT-3.5, GPT-4) to handle conversation-like inputs, but can be used for tasks similar to text generation.\n",
    "\n",
    "**API Endpoint**: POST https://api.openai.com/v1/chat/completions"
   ]
  },
  {
   "cell_type": "markdown",
   "id": "11c26bd8-034d-4d69-a9a1-5f43f0abd7b0",
   "metadata": {},
   "source": [
    "\n",
    "**Usage**: It’s the recommended endpoint for most tasks, including text completion, Q&A, summarization, etc., by providing a chat history as input.\n",
    "\n",
    "**Key Parameters**:\n",
    "\n",
    "- **model**: Specifies the model to be used (e.g., gpt-4 or gpt-3.5-turbo).\n",
    "- **messages**: A list of messages, where each message contains:\n",
    "  - **role**: Either \"system\", \"user\", or \"assistant\".\n",
    "  - **content**: The text for the message.\n",
    "- **max_tokens**: Controls how many tokens to generate.\n",
    "- **temperature**: Controls randomness in the output (higher value = more random).\n"
   ]
  },
  {
   "cell_type": "code",
   "execution_count": 6,
   "id": "b5e571e8-49ac-4e33-8d94-de869faa31a3",
   "metadata": {},
   "outputs": [],
   "source": [
    "from openai import OpenAI"
   ]
  },
  {
   "cell_type": "code",
   "execution_count": 7,
   "id": "3b7d35b0-8280-49a3-bcb2-de3ebe2366a7",
   "metadata": {},
   "outputs": [],
   "source": [
    "client = OpenAI(\n",
    "    # defaults to os.environ.get(\"OPENAI_API_KEY\")\n",
    "    # api_key = openai_api_key\n",
    ")"
   ]
  },
  {
   "cell_type": "code",
   "execution_count": 8,
   "id": "58eeb229-08d8-45d8-b061-f730ee5b3de1",
   "metadata": {},
   "outputs": [],
   "source": [
    "# Make a request to the Chat Completion Endpoint\n",
    "response = client.chat.completions.create(\n",
    "    model=\"gpt-3.5-turbo\",  # Specify the model\n",
    "    messages=[\n",
    "        {\"role\": \"user\", \"content\": \"Can you summarize the key parameters for the Chat Completion Endpoint?\"}\n",
    "    ],\n",
    "    max_tokens=50,\n",
    "    temperature=0.1\n",
    ")"
   ]
  },
  {
   "cell_type": "code",
   "execution_count": 9,
   "id": "6dd5b2dd-3b0e-40a6-918c-10a9e8b411f0",
   "metadata": {},
   "outputs": [
    {
     "name": "stdout",
     "output_type": "stream",
     "text": [
      "Sure! The key parameters for the Chat Completion Endpoint typically include:\n",
      "\n",
      "1. Chat ID: A unique identifier for the chat session that needs to be completed.\n",
      "2. Completion Status: A flag indicating whether the chat session was successfully completed or not.\n",
      "3\n"
     ]
    }
   ],
   "source": [
    "print(response.choices[0].message.content)"
   ]
  },
  {
   "cell_type": "markdown",
   "id": "97e7597b-5688-47df-9815-5e733a9c9c68",
   "metadata": {},
   "source": [
    "In OpenAI's API for language models, messages are the fundamental building blocks of prompts. \n",
    "\n",
    "Each message typically consists of two main components: the `role` of the sender and the `content` of the message. \n",
    "\n",
    "| **Role**   | **Description**                                                                                                                                                 | **Example**                                                                                                                  |\n",
    "|------------|-----------------------------------------------------------------------------------------------------------------------------------------------------------------|------------------------------------------------------------------------------------------------------------------------------|\n",
    "| User       | Represents the end user or the application initiating the conversation. Sends input messages, asking questions or providing information for the model's response. | If a user asks, \"What is machine learning?\", the message is sent with the role of \"user\".                                  |\n",
    "| Assistant  | Represents the AI model's responses to the user’s queries. Generates replies based on the context and content of previous messages, aiming to be helpful and informative. | After the user asks about machine learning, the assistant might respond, \"Machine learning is a subset of artificial intelligence that focuses on building systems that learn from data.\" |\n",
    "| System     | Provides initial instructions or context to the assistant to guide its behavior throughout the interaction. Typically used to set the tone, rules, or constraints of the assistant’s responses. | A system message might state, \"You are a friendly and informative assistant.\"                                              |\n"
   ]
  },
  {
   "cell_type": "code",
   "execution_count": 10,
   "id": "492db523-c152-43de-83ba-4cf5a94995d9",
   "metadata": {},
   "outputs": [
    {
     "data": {
      "text/plain": [
       "[{'role': 'system', 'content': 'You are a knowledgeable assistant.'},\n",
       " {'role': 'user', 'content': 'Can you tell me about neural networks?'},\n",
       " {'role': 'assistant',\n",
       "  'content': 'Neural networks are a series of algorithms that mimic                                     the operations of a human brain to recognize relationships in a set of data.'}]"
      ]
     },
     "execution_count": 10,
     "metadata": {},
     "output_type": "execute_result"
    }
   ],
   "source": [
    "[\n",
    "  {\"role\": \"system\",    \"content\": \"You are a knowledgeable assistant.\"},\n",
    "  {\"role\": \"user\",      \"content\": \"Can you tell me about neural networks?\"},\n",
    "  {\"role\": \"assistant\", \"content\": \"Neural networks are a series of algorithms that mimic \\\n",
    "                                    the operations of a human brain to recognize relationships in a set of data.\"}\n",
    "]\n"
   ]
  },
  {
   "cell_type": "code",
   "execution_count": 11,
   "id": "faeb7a47-5318-481b-b504-9ade8cc2a7db",
   "metadata": {},
   "outputs": [],
   "source": [
    "client = openai.OpenAI(\n",
    "    #api_key=openai_api_key\n",
    ")"
   ]
  },
  {
   "cell_type": "code",
   "execution_count": 12,
   "id": "9746244a-16c7-4b4f-8c21-910e14f33fd7",
   "metadata": {},
   "outputs": [],
   "source": [
    "completion = client.chat.completions.create (\n",
    "  model=\"gpt-3.5-turbo\",\n",
    "  messages=[\n",
    "    {\"role\": \"system\", \"content\": \"You are a poetic assistant, skilled in explaining complex programming concepts \\\n",
    "                                   with creative flair.\"},\n",
    "    {\"role\": \"user\",   \"content\": \"Compose a poem that explains the concept of recursion in programming, \\\n",
    "                                   in max 50 words\"}\n",
    "  ]\n",
    ")"
   ]
  },
  {
   "cell_type": "code",
   "execution_count": 13,
   "id": "f5209083-3a1a-45d5-a459-fa847494855c",
   "metadata": {},
   "outputs": [
    {
     "data": {
      "text/plain": [
       "ChatCompletion(id='chatcmpl-AFMZ0LsuJ0rrK6k3r0m8mFuZULNEM', choices=[Choice(finish_reason='stop', index=0, logprobs=None, message=ChatCompletionMessage(content=\"In the world of code, a looping mystery,\\nRecursion dances in a spiral symphony.\\nA function that calls itself, oh so sublime,\\nRepeating tasks 'til the end of time.\\nLike a mirror reflecting a mirrored reflection,\\nInfinite beauty in recursive perfection.\", refusal=None, role='assistant', function_call=None, tool_calls=None))], created=1728225018, model='gpt-3.5-turbo-0125', object='chat.completion', service_tier=None, system_fingerprint=None, usage=CompletionUsage(completion_tokens=54, prompt_tokens=46, total_tokens=100, completion_tokens_details=CompletionTokensDetails(reasoning_tokens=0), prompt_tokens_details={'cached_tokens': 0}))"
      ]
     },
     "execution_count": 13,
     "metadata": {},
     "output_type": "execute_result"
    }
   ],
   "source": [
    "completion"
   ]
  },
  {
   "cell_type": "code",
   "execution_count": 14,
   "id": "d92e3474-dfcf-46b2-a34a-d1c678700488",
   "metadata": {},
   "outputs": [],
   "source": [
    "import json\n",
    "from pprint import pprint"
   ]
  },
  {
   "cell_type": "code",
   "execution_count": 15,
   "id": "10e4538e-7988-4f39-aa63-f7b4f7b8510a",
   "metadata": {},
   "outputs": [
    {
     "name": "stdout",
     "output_type": "stream",
     "text": [
      "{'choices': [{'finish_reason': 'length',\n",
      "              'index': 0,\n",
      "              'logprobs': None,\n",
      "              'message': {'content': 'Sure! The key parameters for the Chat '\n",
      "                                     'Completion Endpoint typically include:\\n'\n",
      "                                     '\\n'\n",
      "                                     '1. Chat ID: A unique identifier for the '\n",
      "                                     'chat session that needs to be '\n",
      "                                     'completed.\\n'\n",
      "                                     '2. Completion Status: A flag indicating '\n",
      "                                     'whether the chat session was '\n",
      "                                     'successfully completed or not.\\n'\n",
      "                                     '3',\n",
      "                          'refusal': None,\n",
      "                          'role': 'assistant'}}],\n",
      " 'created': 1728225017,\n",
      " 'id': 'chatcmpl-AFMYz8czY9Q0UyvK7ARMp7X45C5je',\n",
      " 'model': 'gpt-3.5-turbo-0125',\n",
      " 'object': 'chat.completion',\n",
      " 'system_fingerprint': None,\n",
      " 'usage': {'completion_tokens': 50,\n",
      "           'completion_tokens_details': {'reasoning_tokens': 0},\n",
      "           'prompt_tokens': 19,\n",
      "           'prompt_tokens_details': {'cached_tokens': 0},\n",
      "           'total_tokens': 69}}\n"
     ]
    }
   ],
   "source": [
    "# Pretty print the response using pprint\n",
    "pprint(response.to_dict())"
   ]
  },
  {
   "cell_type": "markdown",
   "id": "19db51b1-edfa-45b7-a42e-f722c3849ac5",
   "metadata": {},
   "source": [
    "**Choices**\n",
    "\n",
    "| Attribute               | Description                                                                                              |\n",
    "|-------------------------|----------------------------------------------------------------------------------------------------------|\n",
    "| **finish_reason**        | The reason the completion finished (e.g., `'stop'`).                                                     |\n",
    "| **index**                | The index of the choice in the list.                                                                     |\n",
    "| **logprobs**             | Any associated log probabilities (in this case, it's `None`).                                            |\n",
    "| **message**              | An instance of `ChatCompletionMessage` that contains:                                                    |\n",
    "| - **content**            | The actual text generated by the model (e.g., a poem about recursion).                                   |\n",
    "| - **role**               | The role of the entity that generated the message (e.g., `'assistant'`).                                 |\n",
    "| - **function_call**      | Information if the message included a function call (in this case, it's `None`).                         |\n",
    "| - **tool_calls**         | Information if there were any tool calls (also `None` in this case).                                     |"
   ]
  },
  {
   "cell_type": "code",
   "execution_count": null,
   "id": "926fe314-f578-46ad-b92b-84ddaeec8bd7",
   "metadata": {},
   "outputs": [],
   "source": []
  },
  {
   "cell_type": "code",
   "execution_count": null,
   "id": "00f54539-fb0a-4419-a493-4f362e4232bc",
   "metadata": {},
   "outputs": [],
   "source": []
  },
  {
   "cell_type": "markdown",
   "id": "dc6e3674-08b0-4c8b-b394-984343d736de",
   "metadata": {},
   "source": [
    "#### Exercise - 01 \n",
    "\n",
    "- (extract pieces of info from the completion response)"
   ]
  },
  {
   "cell_type": "markdown",
   "id": "5620a096-3aa3-4489-8bf1-21eb2a415836",
   "metadata": {},
   "source": [
    "Qs : Extract the model name from the response object."
   ]
  },
  {
   "cell_type": "code",
   "execution_count": 16,
   "id": "5cb2d552-39cb-4193-85a8-b89fe4bcb1b5",
   "metadata": {},
   "outputs": [],
   "source": [
    "response = client.chat.completions.create(\n",
    "    model=\"gpt-3.5-turbo\",\n",
    "    messages=[\n",
    "        {\"role\": \"system\", \"content\": \"You are a helpful assistant.\"},\n",
    "        {\"role\": \"user\",   \"content\": \"Who won the world series in 2020?\"},\n",
    "    ]\n",
    ")"
   ]
  },
  {
   "cell_type": "code",
   "execution_count": 17,
   "id": "fa32315a-6025-42fb-afce-b5cb40e4e833",
   "metadata": {},
   "outputs": [
    {
     "name": "stdout",
     "output_type": "stream",
     "text": [
      "Model used: gpt-3.5-turbo-0125\n"
     ]
    }
   ],
   "source": [
    "# Expected solution\n",
    "model_name = response.to_dict()['model']\n",
    "print(\"Model used:\", model_name)"
   ]
  },
  {
   "cell_type": "markdown",
   "id": "e67d5d57-ea4e-4f47-a621-860b8c57f22e",
   "metadata": {},
   "source": [
    "Qs : Extract the content of the assistant’s reply from the response object."
   ]
  },
  {
   "cell_type": "code",
   "execution_count": 18,
   "id": "68995355-32e1-489b-964c-bf031402b351",
   "metadata": {},
   "outputs": [
    {
     "name": "stdout",
     "output_type": "stream",
     "text": [
      "Assistant's reply: The Los Angeles Dodgers won the World Series in 2020 by defeating the Tampa Bay Rays.\n"
     ]
    }
   ],
   "source": [
    "# Expected solution\n",
    "assistant_reply = response.to_dict()['choices'][0]['message']['content']\n",
    "print(\"Assistant's reply:\", assistant_reply)"
   ]
  },
  {
   "cell_type": "code",
   "execution_count": 19,
   "id": "d101a5f2-a99e-434e-899d-a1df63440927",
   "metadata": {},
   "outputs": [],
   "source": [
    "response = client.chat.completions.create(\n",
    "    model=\"gpt-4o-mini\",\n",
    "    messages=[\n",
    "        {\"role\": \"system\", \"content\": \"You are a helpful assistant.\"},\n",
    "        {\"role\": \"user\",   \"content\": \"Who won the world series in 2020, 2021, 2022, 2023 ?\"},\n",
    "    ]\n",
    ")"
   ]
  },
  {
   "cell_type": "markdown",
   "id": "017c8706-1ba2-42c1-b95b-026d8212ee29",
   "metadata": {},
   "source": [
    "Qs : Create a dictionary of World Series winners by year from the assistant’s reply."
   ]
  },
  {
   "cell_type": "code",
   "execution_count": 20,
   "id": "5361ffca-0a2a-4488-8a98-a23e0c1270d2",
   "metadata": {},
   "outputs": [
    {
     "name": "stdout",
     "output_type": "stream",
     "text": [
      "The winners of the World Series for those years are as follows:\n",
      "\n",
      "- **2020**: Los Angeles Dodgers\n",
      "- **2021**: Atlanta Braves\n",
      "- **2022**: Houston Astros\n",
      "- **2023**: Texas Rangers\n",
      "\n",
      "If you have any more questions about these championships or anything else, feel free to ask!\n"
     ]
    }
   ],
   "source": [
    "# Example solution\n",
    "winners_by_year = response.to_dict()['choices'][0]['message']['content']\n",
    "print(winners_by_year)"
   ]
  },
  {
   "cell_type": "markdown",
   "id": "561901af-93af-42eb-b359-6f0985ef0d00",
   "metadata": {},
   "source": [
    "Get the output in a dictionary format, year : winner name"
   ]
  },
  {
   "cell_type": "code",
   "execution_count": 21,
   "id": "4f7002c3-ee55-4d08-b683-51333fd5a5d5",
   "metadata": {},
   "outputs": [],
   "source": [
    "response = client.chat.completions.create(\n",
    "    model=\"gpt-4o-mini\",\n",
    "    messages=[\n",
    "        {\"role\": \"system\", \"content\": \"You are a helpful assistant.\"},\n",
    "        {\"role\": \"user\",   \"content\": \"Who won the world series in 2020, 2021, 2022, 2023 ? \\\n",
    "                                       Provide the answer in a dictionary format as below \\\n",
    "                                       year : winner name \\\n",
    "                                       \"},\n",
    "    ]\n",
    ")"
   ]
  },
  {
   "cell_type": "code",
   "execution_count": 22,
   "id": "163d9bf0-5392-4919-9dd6-f63e0268d069",
   "metadata": {},
   "outputs": [
    {
     "name": "stdout",
     "output_type": "stream",
     "text": [
      "Here is the information in the requested dictionary format:\n",
      "\n",
      "```python\n",
      "{\n",
      "    2020: \"Los Angeles Dodgers\",\n",
      "    2021: \"Atlanta Braves\",\n",
      "    2022: \"Houston Astros\",\n",
      "    2023: \"Texas Rangers\"\n",
      "}\n",
      "```\n"
     ]
    }
   ],
   "source": [
    "# Example solution\n",
    "winners_by_year = response.to_dict()['choices'][0]['message']['content']\n",
    "print(winners_by_year)"
   ]
  },
  {
   "cell_type": "code",
   "execution_count": 23,
   "id": "0ce26a81-b0ed-4745-82de-3aced42c1e53",
   "metadata": {},
   "outputs": [],
   "source": [
    "response = client.chat.completions.create(\n",
    "    model=\"gpt-4o-mini\",\n",
    "    messages=[\n",
    "        {\"role\": \"system\", \"content\": \"You are a helpful assistant.\"},\n",
    "        {\"role\": \"user\",   \"content\": '''Who won the world series in 2020, 2021, 2022, 2023 ? \\\n",
    "                                       Provide the answer in a dictionary format as below \\\n",
    "                                       {\n",
    "                                           year : winner name \n",
    "                                       }\n",
    "                                       without any extra text\n",
    "                                       \\\n",
    "                                       '''},\n",
    "    ]\n",
    ")"
   ]
  },
  {
   "cell_type": "markdown",
   "id": "4f29d688-8bb1-4af0-979d-f061ad80daa0",
   "metadata": {},
   "source": [
    "Qs : load the output in dataframe format"
   ]
  },
  {
   "cell_type": "markdown",
   "id": "dec3fd63-2e3e-443c-a746-574eac87916d",
   "metadata": {},
   "source": [
    "| Year | Winner                |\n",
    "|------|-----------------------|\n",
    "| 2020 | Los Angeles Dodgers   |\n",
    "| 2021 | Atlanta Braves        |\n",
    "| 2022 | Houston Astros        |\n",
    "| 2023 | Texas Rangers         |"
   ]
  },
  {
   "cell_type": "code",
   "execution_count": 24,
   "id": "1f7433b2-7732-4890-80ed-2de891a2d61f",
   "metadata": {},
   "outputs": [
    {
     "data": {
      "text/plain": [
       "'{\\n    2020: \"Los Angeles Dodgers\",\\n    2021: \"Atlanta Braves\",\\n    2022: \"Houston Astros\",\\n    2023: \"Texas Rangers\"\\n}'"
      ]
     },
     "execution_count": 24,
     "metadata": {},
     "output_type": "execute_result"
    }
   ],
   "source": [
    "# Example solution\n",
    "winners_by_year = response.to_dict()['choices'][0]['message']['content']\n",
    "winners_by_year"
   ]
  },
  {
   "cell_type": "code",
   "execution_count": 25,
   "id": "b406c896-26e1-454a-9a6c-2bf74fbc192e",
   "metadata": {},
   "outputs": [],
   "source": [
    "import pandas as pd\n",
    "import ast"
   ]
  },
  {
   "cell_type": "code",
   "execution_count": 26,
   "id": "4e9b5304-b9c3-4913-bc67-8cb1481fed63",
   "metadata": {},
   "outputs": [],
   "source": [
    "# Convert the string representation of the dictionary to an actual dictionary\n",
    "world_series_dict = ast.literal_eval(winners_by_year)"
   ]
  },
  {
   "cell_type": "code",
   "execution_count": 27,
   "id": "82cea6b5-7b99-4108-bc46-f629ca310c66",
   "metadata": {},
   "outputs": [
    {
     "data": {
      "text/html": [
       "<div>\n",
       "<style scoped>\n",
       "    .dataframe tbody tr th:only-of-type {\n",
       "        vertical-align: middle;\n",
       "    }\n",
       "\n",
       "    .dataframe tbody tr th {\n",
       "        vertical-align: top;\n",
       "    }\n",
       "\n",
       "    .dataframe thead th {\n",
       "        text-align: right;\n",
       "    }\n",
       "</style>\n",
       "<table border=\"1\" class=\"dataframe\">\n",
       "  <thead>\n",
       "    <tr style=\"text-align: right;\">\n",
       "      <th></th>\n",
       "      <th>Year</th>\n",
       "      <th>Winner</th>\n",
       "    </tr>\n",
       "  </thead>\n",
       "  <tbody>\n",
       "    <tr>\n",
       "      <th>0</th>\n",
       "      <td>2020</td>\n",
       "      <td>Los Angeles Dodgers</td>\n",
       "    </tr>\n",
       "    <tr>\n",
       "      <th>1</th>\n",
       "      <td>2021</td>\n",
       "      <td>Atlanta Braves</td>\n",
       "    </tr>\n",
       "    <tr>\n",
       "      <th>2</th>\n",
       "      <td>2022</td>\n",
       "      <td>Houston Astros</td>\n",
       "    </tr>\n",
       "    <tr>\n",
       "      <th>3</th>\n",
       "      <td>2023</td>\n",
       "      <td>Texas Rangers</td>\n",
       "    </tr>\n",
       "  </tbody>\n",
       "</table>\n",
       "</div>"
      ],
      "text/plain": [
       "   Year               Winner\n",
       "0  2020  Los Angeles Dodgers\n",
       "1  2021       Atlanta Braves\n",
       "2  2022       Houston Astros\n",
       "3  2023        Texas Rangers"
      ]
     },
     "execution_count": 27,
     "metadata": {},
     "output_type": "execute_result"
    }
   ],
   "source": [
    "# Load the dictionary into a pandas DataFrame\n",
    "df = pd.DataFrame(list(world_series_dict.items()), columns=['Year', 'Winner'])\n",
    "df"
   ]
  },
  {
   "cell_type": "markdown",
   "id": "6a262afd-a44c-4edb-b936-3c92e7d5e674",
   "metadata": {},
   "source": [
    "Qs : Extract only the winner names from the dictionary and store them in a list."
   ]
  },
  {
   "cell_type": "code",
   "execution_count": 28,
   "id": "5d4bb16b-fc5b-41a1-94a0-a78c251f2e12",
   "metadata": {},
   "outputs": [],
   "source": [
    "# Convert to dictionary\n",
    "world_series_dict = ast.literal_eval(winners_by_year)"
   ]
  },
  {
   "cell_type": "code",
   "execution_count": 29,
   "id": "72fd6500-852a-4625-bdfd-28cd4cbcf51c",
   "metadata": {},
   "outputs": [
    {
     "data": {
      "text/plain": [
       "['Los Angeles Dodgers', 'Atlanta Braves', 'Houston Astros', 'Texas Rangers']"
      ]
     },
     "execution_count": 29,
     "metadata": {},
     "output_type": "execute_result"
    }
   ],
   "source": [
    "# Extract winners\n",
    "winners = list(world_series_dict.values())\n",
    "winners"
   ]
  },
  {
   "cell_type": "markdown",
   "id": "0f71d5ca-9c08-4de0-b1d6-29b29c9de3c0",
   "metadata": {},
   "source": [
    "Qs : Convert the dictionary into a list of tuples with (Year, Winner)."
   ]
  },
  {
   "cell_type": "code",
   "execution_count": 30,
   "id": "8adbb493-11e5-407c-a9f9-f4cc7e744de2",
   "metadata": {},
   "outputs": [],
   "source": [
    "# Convert to dictionary\n",
    "world_series_dict = ast.literal_eval(winners_by_year)"
   ]
  },
  {
   "cell_type": "code",
   "execution_count": 31,
   "id": "12e899f4-aec5-4e07-9c15-d5e968db0611",
   "metadata": {},
   "outputs": [
    {
     "data": {
      "text/plain": [
       "[(2020, 'Los Angeles Dodgers'),\n",
       " (2021, 'Atlanta Braves'),\n",
       " (2022, 'Houston Astros'),\n",
       " (2023, 'Texas Rangers')]"
      ]
     },
     "execution_count": 31,
     "metadata": {},
     "output_type": "execute_result"
    }
   ],
   "source": [
    "# Convert to list of tuples\n",
    "year_winner_tuples = list(world_series_dict.items())\n",
    "year_winner_tuples"
   ]
  },
  {
   "cell_type": "markdown",
   "id": "e480393f-209f-465c-bdca-451fe39cb781",
   "metadata": {},
   "source": [
    "Qs : Find the most recent World Series winner"
   ]
  },
  {
   "cell_type": "code",
   "execution_count": 32,
   "id": "a80bfc08-9d91-4894-b2e8-ace96efb85e4",
   "metadata": {},
   "outputs": [],
   "source": [
    "# Find the most recent year\n",
    "most_recent_year = max(world_series_dict.keys())"
   ]
  },
  {
   "cell_type": "code",
   "execution_count": 33,
   "id": "7c5372ae-8ec5-49e3-a1de-3a8e0f75c265",
   "metadata": {},
   "outputs": [
    {
     "name": "stdout",
     "output_type": "stream",
     "text": [
      "The most recent winner is Texas Rangers in 2023.\n"
     ]
    }
   ],
   "source": [
    "# Get the winner of the most recent year\n",
    "most_recent_winner = world_series_dict[most_recent_year]\n",
    "\n",
    "# Print the most recent winner\n",
    "print(f\"The most recent winner is {most_recent_winner} in {most_recent_year}.\")"
   ]
  },
  {
   "cell_type": "markdown",
   "id": "1bb07fca-24a0-43ef-86fe-5c2d9c93256c",
   "metadata": {},
   "source": [
    "#### Finish Reason Summary\n",
    "\n",
    "| Finish Reason      | Description                                                                                                            | Example                             |\n",
    "|--------------------|------------------------------------------------------------------------------------------------------------------------|-------------------------------------|\n",
    "| \"stop\"             | The model completed its response naturally, reaching a logical stopping point like the end of a sentence or thought.  | \"finish_reason\": \"stop\"            |\n",
    "| \"length\"           | The response was cut off because the model reached the maximum number of tokens allowed in the API request.            | \"finish_reason\": \"length\"          |\n",
    "| \"content_filter\"   | The response was stopped because it triggered the safety filter, likely due to generating inappropriate or unsafe content. | \"finish_reason\": \"content_filter\"  |\n",
    "| null               | The completion ended for an unknown or unspecified reason, or there was no particular reason captured (rare, edge case scenario). | \"finish_reason\": null               |\n"
   ]
  },
  {
   "cell_type": "markdown",
   "id": "3c6a73ae-1aa0-42b4-afbc-d17f21334936",
   "metadata": {},
   "source": [
    "#### Logprobs Attribute Summary\n",
    "\n",
    "| Logprobs | Description                                                                                              | Example                           |\n",
    "|----------|----------------------------------------------------------------------------------------------------------|-----------------------------------|\n",
    "| None     | Indicates that there are no associated log probabilities provided for the completion.                   | \"logprobs\": None                  |\n",
    "| {}       | Represents an empty dictionary, meaning no log probabilities were calculated for this response.         | \"logprobs\": {}                    |\n",
    "| {...}    | Contains a dictionary of log probabilities for each token in the generated text, if applicable.         | \"logprobs\": {\"tokens\": [...], \"token_logprobs\": [...], \"top_logprobs\": [...], \"text_offset\": [...] } |\n"
   ]
  },
  {
   "cell_type": "markdown",
   "id": "5573b773-4344-46c7-b729-c9de08eadffb",
   "metadata": {},
   "source": [
    "- Use Cases for Logprobs Attribute with Example Prompts\n",
    "\n",
    "| Use Case                            | Prompt                                      | Output                                | Logprobs                                                                                                                                                                       | Interpretation                                                                                              |\n",
    "|-------------------------------------|---------------------------------------------|---------------------------------------|-------------------------------------------------------------------------------------------------------------------------------------------------------------------------------|--------------------------------------------------------------------------------------------------------------|\n",
    "| Analyzing Model Confidence           | \"What is the capital of France?\"           | \"Paris\"                               | {\"tokens\": [\"Paris\"], \"token_logprobs\": [-0.1]}                                                                                                                             | A log probability of -0.1 indicates high confidence in \"Paris\" as the correct answer.                      |\n",
    "| Understanding Alternatives           | \"The sky is usually...\"                    | \"blue\"                                | {\"top_logprobs\": [{\"blue\": -0.5}, {\"gray\": -1.2}, {\"green\": -1.5}]}                                                                                                         | The model strongly preferred \"blue,\" with \"gray\" and \"green\" being less likely alternatives.                |\n",
    "| Improving Sampling Strategies        | \"A great place to relax is...\"             | \"the beach\"                           | {\"tokens\": [\"the\", \"beach\"], \"token_logprobs\": [-0.3, -1.0], \"top_logprobs\": [{\"the beach\": -0.3}, {\"a park\": -1.5}, {\"a forest\": -1.8}]}                                 | The model's choice of \"the beach\" indicates a relatively high confidence, suggesting effective sampling.     |\n",
    "| Evaluating Output Quality            | \"What is 2 + 2?\"                           | \"4\"                                   | {\"tokens\": [\"4\"], \"token_logprobs\": [-0.2]}                                                                                                                                 | A low log probability for \"4\" suggests that the model is likely providing a correct and reliable answer.      |\n",
    "| Training and Fine-tuning Insights   | \"The cat chased the...\"                    | \"mouse\"                               | {\"tokens\": [\"mouse\"], \"token_logprobs\": [-2.0]}                                                                                                                             | A low log probability indicates the model struggled to associate \"cat\" with \"mouse,\" signaling a training gap.|\n"
   ]
  },
  {
   "cell_type": "code",
   "execution_count": 34,
   "id": "f3aa2f76-692c-4d58-b139-3634ac974e1c",
   "metadata": {},
   "outputs": [
    {
     "data": {
      "text/plain": [
       "{'choices': [{'text': 'Hello, world!',\n",
       "   'logprobs': {'tokens': ['Hello', ',', 'world', '!'],\n",
       "    'token_logprobs': [-0.1, -0.2, -0.3, -0.4],\n",
       "    'top_logprobs': [Ellipsis]}}]}"
      ]
     },
     "execution_count": 34,
     "metadata": {},
     "output_type": "execute_result"
    }
   ],
   "source": [
    "# Example\n",
    "{\n",
    "  \"choices\": [\n",
    "    {\n",
    "      \"text\": \"Hello, world!\",\n",
    "      \"logprobs\": {\n",
    "        \"tokens\"        : [\"Hello\", \",\", \"world\", \"!\"],\n",
    "        \"token_logprobs\": [-0.1, -0.2, -0.3, -0.4],\n",
    "        \"top_logprobs\"  : [...]\n",
    "      }\n",
    "    }\n",
    "  ]\n",
    "}"
   ]
  },
  {
   "cell_type": "code",
   "execution_count": 35,
   "id": "137a4b4e-3a7b-482b-8793-32dcd52f70bc",
   "metadata": {},
   "outputs": [],
   "source": [
    "response = client.chat.completions.create(\n",
    "    model=\"gpt-4o-mini\",\n",
    "    messages=[\n",
    "        {\"role\": \"system\", \"content\": \"You are a helpful assistant with master level in General KNowledge.\"},\n",
    "        {\"role\": \"user\",   \"content\": '''What is the capital of West Bengal state in India? Only return the name\n",
    "                                       '''},\n",
    "    ],\n",
    "    logprobs = True\n",
    ")"
   ]
  },
  {
   "cell_type": "code",
   "execution_count": 36,
   "id": "6e11ac1e-3c5b-4c1f-b9b5-80ad96d366df",
   "metadata": {},
   "outputs": [
    {
     "data": {
      "text/plain": [
       "{'finish_reason': 'stop',\n",
       " 'index': 0,\n",
       " 'logprobs': {'content': [{'token': 'K',\n",
       "    'bytes': [75],\n",
       "    'logprob': -9.0883464e-07,\n",
       "    'top_logprobs': []},\n",
       "   {'token': 'olk',\n",
       "    'bytes': [111, 108, 107],\n",
       "    'logprob': -1.9361265e-07,\n",
       "    'top_logprobs': []},\n",
       "   {'token': 'ata',\n",
       "    'bytes': [97, 116, 97],\n",
       "    'logprob': -1.9361265e-07,\n",
       "    'top_logprobs': []}],\n",
       "  'refusal': None},\n",
       " 'message': {'content': 'Kolkata', 'refusal': None, 'role': 'assistant'}}"
      ]
     },
     "execution_count": 36,
     "metadata": {},
     "output_type": "execute_result"
    }
   ],
   "source": [
    "# view logprobs\n",
    "response.to_dict()['choices'][0]"
   ]
  },
  {
   "cell_type": "code",
   "execution_count": 37,
   "id": "41284f53-853e-4d5d-b78d-ff6403be4a9a",
   "metadata": {},
   "outputs": [
    {
     "data": {
      "text/plain": [
       "{'content': [{'token': 'K',\n",
       "   'bytes': [75],\n",
       "   'logprob': -9.0883464e-07,\n",
       "   'top_logprobs': []},\n",
       "  {'token': 'olk',\n",
       "   'bytes': [111, 108, 107],\n",
       "   'logprob': -1.9361265e-07,\n",
       "   'top_logprobs': []},\n",
       "  {'token': 'ata',\n",
       "   'bytes': [97, 116, 97],\n",
       "   'logprob': -1.9361265e-07,\n",
       "   'top_logprobs': []}],\n",
       " 'refusal': None}"
      ]
     },
     "execution_count": 37,
     "metadata": {},
     "output_type": "execute_result"
    }
   ],
   "source": [
    "response.to_dict()['choices'][0]['logprobs']"
   ]
  },
  {
   "cell_type": "code",
   "execution_count": 38,
   "id": "a7a1c7a6-525b-4ad1-a7ab-e13e9af37a22",
   "metadata": {},
   "outputs": [
    {
     "data": {
      "text/plain": [
       "[{'token': 'K', 'bytes': [75], 'logprob': -9.0883464e-07, 'top_logprobs': []},\n",
       " {'token': 'olk',\n",
       "  'bytes': [111, 108, 107],\n",
       "  'logprob': -1.9361265e-07,\n",
       "  'top_logprobs': []},\n",
       " {'token': 'ata',\n",
       "  'bytes': [97, 116, 97],\n",
       "  'logprob': -1.9361265e-07,\n",
       "  'top_logprobs': []}]"
      ]
     },
     "execution_count": 38,
     "metadata": {},
     "output_type": "execute_result"
    }
   ],
   "source": [
    "response.to_dict()['choices'][0]['logprobs']['content']"
   ]
  },
  {
   "cell_type": "markdown",
   "id": "3b4498ef-0dcf-4d57-81d8-471c74f19331",
   "metadata": {},
   "source": [
    "For the word `\"Kolkata\"`, the model has split it into three tokens, and for each token, the logprobs are provided:\n",
    "\n",
    "1. **Token: 'K'**\n",
    "   - **Bytes**: `[75]` – This is the byte representation of the token 'K' in UTF-8.\n",
    "   - **Logprob**: `-1.0280384e-06` – This is the log probability of the model predicting the token 'K'. The log probability is close to zero (negative but very small), indicating that the model is highly confident in this token's prediction.\n",
    "   - **Top Logprobs**: `[]` – No other tokens were considered close enough to be listed as alternative possibilities for this prediction.\n",
    "\n",
    "2. **Token: 'olk'**\n",
    "   - **Bytes**: `[111, 108, 107]` – This is the byte representation of the token \"olk\".\n",
    "   - **Logprob**: `-1.9361265e-07` – The log probability is very small and close to zero, suggesting the model was confident in generating \"olk\".\n",
    "   - **Top Logprobs**: `[]` – No alternative tokens are provided because \"olk\" had a strong likelihood of being chosen.\n",
    "\n",
    "3. **Token: 'ata'**\n",
    "   - **Bytes**: `[97, 116, 97]` – Byte representation of the token \"ata\".\n",
    "   - **Logprob**: `-1.9361265e-07` – Similar to the previous token, the model had high confidence in generating \"ata\".\n",
    "   - **Top Logprobs**: `[]` – No alternative tokens listed.\n",
    "\n",
    "#### Logprob Values Interpretation:\n",
    "- Log probability values represent the logarithm of the likelihood of the model predicting that token. The closer the value is to zero (in this case, all values are close to 0), the more confident the model was in predicting that token.\n",
    "- A log probability close to `0` means the model is very confident, whereas lower values (e.g., `-3` or `-4`) indicate less confidence.\n",
    "\n",
    "#### How to Use this Information:\n",
    "\n",
    "1. **High Confidence in Each Token**: \n",
    "   - The model is highly confident for each token generated, as evidenced by the extremely small logprob values.\n",
    "   - There's no alternative token proposed for any of the tokens, as the top_logprobs lists are empty (`[]`), indicating that the model was very sure of the prediction at every step.\n",
    "\n",
    "2. **Insights for Model Improvement**:\n",
    "   - When logprob values are low or top_logprobs are populated with alternative tokens, it may indicate that the model was unsure about the output. Monitoring this can help in improving model training or fine-tuning.\n"
   ]
  },
  {
   "cell_type": "code",
   "execution_count": null,
   "id": "7a96d069-aeb3-417f-933a-5a487daa6f9e",
   "metadata": {},
   "outputs": [],
   "source": [
    "# import numpy as np\n",
    "# import matplotlib\n",
    "\n",
    "# import matplotlib.pyplot as plt\n",
    "\n",
    "# # Sample log-probabilities (negative values, as log-prob typically ranges)\n",
    "# log_probs = np.linspace(-10, 0, 100)\n",
    "\n",
    "# # Calculate the corresponding probabilities (confidence)\n",
    "# probs = np.exp(log_probs)\n",
    "\n",
    "# # Plotting the relationship between log-probabilities and probabilities\n",
    "# plt.figure(figsize=(6, 4))\n",
    "# plt.plot(log_probs, probs, label='Confidence (Probability)', color='b')\n",
    "\n",
    "# # Adding labels and title\n",
    "# plt.title('Correlation Between Log-prob and Probability (Confidence)')\n",
    "# plt.xlabel('Log-probability')\n",
    "# plt.ylabel('Probability (Confidence)')\n",
    "\n",
    "# # Show grid\n",
    "# plt.grid(True)\n",
    "\n",
    "# # Show the plot\n",
    "# plt.legend()\n",
    "# plt.show()"
   ]
  },
  {
   "attachments": {
    "a3df5d11-912b-4876-b9a0-23398661da88.png": {
     "image/png": "[encoded data removed]"
    }
   },
   "cell_type": "markdown",
   "id": "199b53bf-8029-4ae3-893c-35fde2d255af",
   "metadata": {},
   "source": [
    "![image.png](attachment:a3df5d11-912b-4876-b9a0-23398661da88.png)"
   ]
  },
  {
   "cell_type": "markdown",
   "id": "90fec91e-af02-47f3-99ad-c6edf4af902a",
   "metadata": {},
   "source": [
    "#### why we hv taken the range of -10, 0\n",
    "\n",
    "##### Probabilities range from 0 to 1 \n",
    "\n",
    "- (since they represent confidence or likelihood).\n",
    "- The logarithm of a probability (log-prob) is typically negative because the log of a number between 0 and 1 is always negative (log(1) = 0, log(0.5) = -0.693, log(0.1) = -2.303, etc.).\n",
    "- A `log-probability of 0` corresponds to a probability of 1 (absolute certainty), while lower log-probabilities (e.g., -10) correspond to very small probabilities close to 0.\n",
    "  \n",
    "##### Common Range in Practice:\n",
    "\n",
    "- Log-probabilities in machine learning or probabilistic models are often found in the range of -10 to 0 because most probabilities of events are less than 1 but greater than 0.\n",
    "- A log-probability of -10 would correspond to an extremely low probability (i.e., very close to 0).\n",
    "- For example, a log-probability of -10 gives a probability of exp(-10) ≈ 0.0000454, a very small number, while a log-probability of 0 gives a probability of 1 (certainty)."
   ]
  },
  {
   "cell_type": "markdown",
   "id": "d49384fd-4892-4d1a-a347-dca19e9e94c7",
   "metadata": {},
   "source": [
    "**Final logprob or probability for the final answer**"
   ]
  },
  {
   "cell_type": "code",
   "execution_count": 39,
   "id": "6c3292f4-b03b-4c6b-a0e9-106f871d4805",
   "metadata": {},
   "outputs": [],
   "source": [
    "import numpy as np"
   ]
  },
  {
   "cell_type": "code",
   "execution_count": 40,
   "id": "cd234d96-7e3b-4a18-95ad-f2ae4025432b",
   "metadata": {},
   "outputs": [],
   "source": [
    "def calculate_final_logprob_and_prob(data):\n",
    "    # Extract log-probabilities from the input data\n",
    "    logprobs_content = data['logprobs']['content']\n",
    "    \n",
    "    # Initialize cumulative log-probability\n",
    "    cumulative_logprob = 0\n",
    "    \n",
    "    # Iterate over each token and sum the log-probabilities\n",
    "    for token_info in logprobs_content:\n",
    "        cumulative_logprob += token_info['logprob']\n",
    "    \n",
    "    # Calculate the final probability (confidence)\n",
    "    final_prob = np.exp(cumulative_logprob)\n",
    "    \n",
    "    return cumulative_logprob, final_prob"
   ]
  },
  {
   "cell_type": "code",
   "execution_count": 41,
   "id": "2cee0fa3-714b-43c8-b189-653b60326bd4",
   "metadata": {},
   "outputs": [
    {
     "name": "stdout",
     "output_type": "stream",
     "text": [
      "The cumulative log-probability for 'Kolkata' is: -1.2960599400000001e-06\n",
      "The probability (confidence) for 'Kolkata' is: 0.9999987039408998\n"
     ]
    }
   ],
   "source": [
    "# Calculate and print the final log-probability and probability\n",
    "final_logprob, final_prob = calculate_final_logprob_and_prob(response.to_dict()['choices'][0])\n",
    "print(f\"The cumulative log-probability for 'Kolkata' is: {final_logprob}\")\n",
    "print(f\"The probability (confidence) for 'Kolkata' is: {final_prob}\")"
   ]
  },
  {
   "cell_type": "markdown",
   "id": "a52c3197-749f-4ec9-87d5-ae7744448ddf",
   "metadata": {},
   "source": [
    "#### Sentiment Analysis\n",
    "You can also use the OpenAI API for sentiment analysis. Given a piece of text, the API will tell you whether it has a positive or negative sentiment. Here’s an example:"
   ]
  },
  {
   "cell_type": "code",
   "execution_count": 42,
   "id": "97a0b26d-ead5-4826-a0fd-8acf38287e41",
   "metadata": {},
   "outputs": [
    {
     "name": "stdout",
     "output_type": "stream",
     "text": [
      "The text \"I love horror movies!\" has a positive sentiment, indicating that the person expressing this statement enjoys watching horror movies.\n"
     ]
    }
   ],
   "source": [
    "text = \"I love horror movies!\"\n",
    "\n",
    "response = client.chat.completions.create(\n",
    "                  model=\"gpt-3.5-turbo\",\n",
    "                  messages=[\n",
    "                    {\"role\": \"system\", \"content\": \"You are a NLP expert\"},\n",
    "                    {\"role\": \"user\",   \"content\": f\"Perform sentiment analysis of given text : {text}\"\n",
    "                    \n",
    "                    }\n",
    "                  ]\n",
    ")\n",
    "\n",
    "sentiment = response.choices[0].message.content.replace(\"\\n\", \" \")\n",
    "print(sentiment)"
   ]
  },
  {
   "cell_type": "markdown",
   "id": "2dd91a3b-bb5a-4b4c-ab3b-a6e51d2c3d2b",
   "metadata": {},
   "source": [
    "#### Question-Answering\n",
    "The OpenAI API also supports question-answering. You can provide a context and a question, and the API will return an answer based on that context. Here’s an example:"
   ]
  },
  {
   "cell_type": "code",
   "execution_count": 43,
   "id": "b60e957f-c46e-443d-84bf-3cf89d0f50bd",
   "metadata": {},
   "outputs": [
    {
     "name": "stdout",
     "output_type": "stream",
     "text": [
      "Albert Einstein was born in Ulm, in the Kingdom of Württemberg in the German Empire on March 14, 1879.\n"
     ]
    }
   ],
   "source": [
    "context  = \"Albert Einstein was a German-born theoretical physicist who developed the \\\n",
    "theory of relativity.\"\n",
    "\n",
    "question = \"Where was Albert Einstein born?\"\n",
    "\n",
    "response = client.chat.completions.create(\n",
    "                  model=\"gpt-3.5-turbo\",\n",
    "                  messages=[\n",
    "                    {\"role\": \"system\", \"content\": \"You are a NLP expert\"},\n",
    "                    {\"role\": \"user\",   \"content\": f\"Question answering:\\nContext: {context}\\nQuestion: {question}\"\n",
    "                    \n",
    "                    }\n",
    "                  ],\n",
    "                 temperature= 0.001\n",
    ")\n",
    "\n",
    "answer = response.choices[0].message.content.replace(\"\\n\", \" \")\n",
    "print(answer)"
   ]
  },
  {
   "cell_type": "code",
   "execution_count": 46,
   "id": "97065f20-f798-49ed-8cbe-04de54241eb1",
   "metadata": {},
   "outputs": [
    {
     "name": "stdout",
     "output_type": "stream",
     "text": [
      "Answer: No  Explanation: The patient considered undergoing chemotherapy and radiation therapy for the paraspinal mass, but the context does not indicate that she actually underwent radiation therapy or any similar therapies in the recent past or in the past.  Confidence Score/label: 9/10\n"
     ]
    }
   ],
   "source": [
    "context = '''positive for TTF 1, and napsin A, \n",
    "suggestive of lung adenocarcinoma. Molecular testing was performed, that did not reveal actionable\n",
    "therapeutically targetable mutations. She considered undergoing a chemotherapy and radiation therapy, \n",
    "to this paraspinal mass. \n",
    "She was then treated with 4 cycles of systemic therapy with carboplatin, and pemetrexed, and then.'''\n",
    "\n",
    "question = '''\n",
    "\n",
    "Did the patient undergo radiation therapy or any similar therapies in recent past or in the past? \n",
    "\n",
    "Your answer should be either 'Yes' or 'NO' or \"Not sure' ONLY, With a label prefix \"Answer\",\n",
    "Followed by reasoning in 50 words with a label prefix \"Explanation\",\n",
    "followed by confidence score & scale, with a label prefix \"Confidence Score/ label : \"\n",
    "\n",
    "'''\n",
    "\n",
    "response = client.chat.completions.create(\n",
    "                  model=\"gpt-3.5-turbo\",\n",
    "                  messages=[\n",
    "                    {\"role\": \"system\", \"content\": \"You are a NLP expert\"},\n",
    "                    {\"role\": \"user\",   \"content\": f\"Question answering:\\nContext: {context}\\nQuestion: {question}\",\n",
    "                    \n",
    "                    }\n",
    "                  ],\n",
    "                 temperature= 0.001\n",
    ")\n",
    "\n",
    "answer = response.choices[0].message.content.replace(\"\\n\", \" \")\n",
    "print(answer)"
   ]
  },
  {
   "cell_type": "code",
   "execution_count": null,
   "id": "bb4f5833-86d8-443e-8764-bcfc082d89a7",
   "metadata": {},
   "outputs": [],
   "source": []
  }
 ],
 "metadata": {
  "kernelspec": {
   "display_name": "Python 3 (ipykernel)",
   "language": "python",
   "name": "python3"
  },
  "language_info": {
   "codemirror_mode": {
    "name": "ipython",
    "version": 3
   },
   "file_extension": ".py",
   "mimetype": "text/x-python",
   "name": "python",
   "nbconvert_exporter": "python",
   "pygments_lexer": "ipython3",
   "version": "3.12.4"
  }
 },
 "nbformat": 4,
 "nbformat_minor": 5
}
