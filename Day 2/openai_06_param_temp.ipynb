{
 "cells": [
  {
   "cell_type": "code",
   "execution_count": 1,
   "id": "769ea332-da3d-465a-9d85-f27e5a38b056",
   "metadata": {},
   "outputs": [],
   "source": [
    "import numpy as np"
   ]
  },
  {
   "cell_type": "code",
   "execution_count": 3,
   "id": "ec6a1fc7-dc26-4966-b210-134a650a3fbc",
   "metadata": {},
   "outputs": [],
   "source": [
    "def adjust_temperature(probabilities, temperature=1.0):\n",
    "    \"\"\"Adjusts probabilities using temperature and returns new probabilities.\"\"\"\n",
    "    probs = np.asarray(probabilities)\n",
    "    return np.exp(np.log(probs) / temperature) / np.sum(np.exp(np.log(probs) / temperature))\n"
   ]
  },
  {
   "cell_type": "code",
   "execution_count": 4,
   "id": "5d7d1981-0c87-4b30-9c74-8ce53e995192",
   "metadata": {},
   "outputs": [],
   "source": [
    "# A hypothetical probability distribution for the words [\"hello\", \"hi\", \"hey\"]\n",
    "probs = [0.7, 0.2, 0.1]"
   ]
  },
  {
   "cell_type": "code",
   "execution_count": 5,
   "id": "f3b5a1c5-e7d8-4f87-a2da-d0f6ed785d8e",
   "metadata": {},
   "outputs": [
    {
     "name": "stdout",
     "output_type": "stream",
     "text": [
      "Original probabilities: [0.7, 0.2, 0.1]\n",
      "Adjusted with temperature 0.2: [9.98040380e-01 1.90023753e-03 5.93824228e-05]\n",
      "Adjusted with temperature 0.2: [nan nan nan]\n",
      "Adjusted with temperature 1.0: [0.7 0.2 0.1]\n",
      "Adjusted with temperature 2.0: [0.52287938 0.27949079 0.19762983]\n"
     ]
    },
    {
     "name": "stderr",
     "output_type": "stream",
     "text": [
      "C:\\Users\\bhupe\\AppData\\Local\\Temp\\ipykernel_4416\\3929959458.py:4: RuntimeWarning: invalid value encountered in divide\n",
      "  return np.exp(np.log(probs) / temperature) / np.sum(np.exp(np.log(probs) / temperature))\n"
     ]
    }
   ],
   "source": [
    "print(\"Original probabilities:\", probs)\n",
    "\n",
    "print(\"Adjusted with temperature 0.2:\", adjust_temperature(probs, 0.2))\n",
    "\n",
    "print(\"Adjusted with temperature 0.2:\", adjust_temperature(probs, 0.000001))\n",
    "print(\"Adjusted with temperature 1.0:\", adjust_temperature(probs, 1.0))\n",
    "print(\"Adjusted with temperature 2.0:\", adjust_temperature(probs, 2.0))"
   ]
  },
  {
   "cell_type": "code",
   "execution_count": 6,
   "id": "ebb8b3ec-e7dd-410e-9e12-46c62f4f9459",
   "metadata": {},
   "outputs": [],
   "source": [
    "def adjust_temperature(probabilities, temperature=1.0):\n",
    "    \"\"\"Adjusts probabilities using temperature and returns new probabilities.\"\"\"\n",
    "    if temperature == 0:\n",
    "        adjusted_probs = np.zeros_like(probabilities)\n",
    "        adjusted_probs[np.argmax(probabilities)] = 1.0\n",
    "        return adjusted_probs\n",
    "\n",
    "    probs = np.asarray(probabilities)\n",
    "    return np.exp(np.log(probs) / temperature) / np.sum(np.exp(np.log(probs) / temperature))\n"
   ]
  },
  {
   "cell_type": "code",
   "execution_count": 7,
   "id": "441aa9c0-2777-456c-9117-d4176853bdd5",
   "metadata": {},
   "outputs": [],
   "source": [
    "# A hypothetical probability distribution for the words [\"hello\", \"hi\", \"hey\"]\n",
    "probs = [0.7, 0.2, 0.1]"
   ]
  },
  {
   "cell_type": "code",
   "execution_count": 8,
   "id": "cb3a65f1-2739-45fe-b8f8-5e55831873d9",
   "metadata": {},
   "outputs": [
    {
     "name": "stdout",
     "output_type": "stream",
     "text": [
      "Original probabilities: [0.7, 0.2, 0.1]\n",
      "Adjusted with temperature 0.0: [1. 0. 0.]\n",
      "Adjusted with temperature 0.2: [9.98040380e-01 1.90023753e-03 5.93824228e-05]\n",
      "Adjusted with temperature 1.0: [0.7 0.2 0.1]\n",
      "Adjusted with temperature 2.0: [0.52287938 0.27949079 0.19762983]\n"
     ]
    }
   ],
   "source": [
    "print(\"Original probabilities:\", probs)\n",
    "print(\"Adjusted with temperature 0.0:\", adjust_temperature(probs, 0.0))\n",
    "print(\"Adjusted with temperature 0.2:\", adjust_temperature(probs, 0.2))\n",
    "print(\"Adjusted with temperature 1.0:\", adjust_temperature(probs, 1.0))\n",
    "print(\"Adjusted with temperature 2.0:\", adjust_temperature(probs, 2.0))"
   ]
  },
  {
   "cell_type": "code",
   "execution_count": 14,
   "id": "63d17b75-0e38-48af-96b9-933c334801d8",
   "metadata": {},
   "outputs": [],
   "source": [
    "import numpy as np\n",
    "import matplotlib.pyplot as plt"
   ]
  },
  {
   "cell_type": "code",
   "execution_count": 15,
   "id": "1650b26b-cc87-457e-bd48-e67d009796a6",
   "metadata": {},
   "outputs": [],
   "source": [
    "def softmax(logits, temperature):\n",
    "    \"\"\"Compute the softmax probabilities.\"\"\"\n",
    "    exp_logits = np.exp(logits / temperature)\n",
    "    return exp_logits / np.sum(exp_logits)"
   ]
  },
  {
   "cell_type": "code",
   "execution_count": 16,
   "id": "b2d4e6b9-5255-4ae3-8699-bc0e0161398b",
   "metadata": {},
   "outputs": [],
   "source": [
    "# Sample logits for demonstration\n",
    "logits = np.array([1.0, 2.0, 3.0, 4.0])"
   ]
  },
  {
   "cell_type": "code",
   "execution_count": 17,
   "id": "43b6913f-456b-44dc-87a8-c15375818720",
   "metadata": {},
   "outputs": [],
   "source": [
    "# Temperature values for different cases\n",
    "temperatures_neg         = np.linspace(-5, -0.0001, 5)  # From -5 to -0.0001\n",
    "temperatures_zero_to_two = np.linspace(0.1, 2, 5)  # From 0.1 to 2\n",
    "temperatures_two_to_ten  = np.linspace(2, 10, 5)  # From 2 to 10"
   ]
  },
  {
   "cell_type": "code",
   "execution_count": null,
   "id": "2b25605f-ddbb-4c0f-a363-90a58fc87d0c",
   "metadata": {},
   "outputs": [
    {
     "name": "stderr",
     "output_type": "stream",
     "text": [
      "C:\\Users\\bhupe\\AppData\\Local\\Temp\\ipykernel_4416\\4163228085.py:4: RuntimeWarning: invalid value encountered in divide\n",
      "  return exp_logits / np.sum(exp_logits)\n"
     ]
    }
   ],
   "source": [
    "# Prepare to plot\n",
    "plt.figure(figsize=(18, 7))\n",
    "\n",
    "# Case 1: Temperature from -5 to -0.0001\n",
    "plt.subplot(1, 3, 1)\n",
    "for temp in temperatures_neg:\n",
    "    try:\n",
    "        probs = softmax(logits, temp)\n",
    "        plt.plot(logits, probs, marker='o', label=f'T={temp:.2f}')\n",
    "    except Exception as e:\n",
    "        print(f\"Error for T={temp}: {e}\")\n",
    "plt.title(\"Softmax with Negative Temperatures\")\n",
    "plt.xlabel(\"Logits\")\n",
    "plt.ylabel(\"Probabilities\")\n",
    "plt.legend()\n",
    "plt.ylim(0, 1)\n",
    "\n",
    "# Case 2: Temperature from 0.1 to 2\n",
    "plt.subplot(1, 3, 2)\n",
    "for temp in temperatures_zero_to_two:\n",
    "    probs = softmax(logits, temp)\n",
    "    plt.plot(logits, probs, marker='o', label=f'T={temp:.2f}')\n",
    "plt.title(\"Softmax with Temperatures from 0.1 to 2\")\n",
    "plt.xlabel(\"Logits\")\n",
    "plt.ylabel(\"Probabilities\")\n",
    "plt.legend()\n",
    "plt.ylim(0, 1)\n",
    "\n",
    "# Case 3: Temperature from 2 to 10\n",
    "plt.subplot(1, 3, 3)\n",
    "for temp in temperatures_two_to_ten:\n",
    "    probs = softmax(logits, temp)\n",
    "    plt.plot(logits, probs, marker='o', label=f'T={temp:.2f}')\n",
    "plt.title(\"Softmax with Temperatures from 2 to 10\")\n",
    "plt.xlabel(\"Logits\")\n",
    "plt.ylabel(\"Probabilities\")\n",
    "plt.legend()\n",
    "plt.ylim(0, 1)\n",
    "\n",
    "plt.tight_layout()\n",
    "plt.show()"
   ]
  },
  {
   "cell_type": "code",
   "execution_count": null,
   "id": "f68a7346-f37a-4ada-b4ce-1dd1198383cb",
   "metadata": {},
   "outputs": [],
   "source": []
  },
  {
   "cell_type": "code",
   "execution_count": null,
   "id": "86ae193a-7a1d-4b6e-9e8e-ca520a54bb4e",
   "metadata": {},
   "outputs": [],
   "source": []
  },
  {
   "cell_type": "code",
   "execution_count": null,
   "id": "f7fa7e24-2c43-4dfb-938e-59be2c80d714",
   "metadata": {},
   "outputs": [],
   "source": []
  },
  {
   "cell_type": "code",
   "execution_count": null,
   "id": "7d1e4bd0-2f80-49dd-a0ca-daff6c1120e6",
   "metadata": {},
   "outputs": [],
   "source": []
  }
 ],
 "metadata": {
  "kernelspec": {
   "display_name": "Python 3 (ipykernel)",
   "language": "python",
   "name": "python3"
  },
  "language_info": {
   "codemirror_mode": {
    "name": "ipython",
    "version": 3
   },
   "file_extension": ".py",
   "mimetype": "text/x-python",
   "name": "python",
   "nbconvert_exporter": "python",
   "pygments_lexer": "ipython3",
   "version": "3.12.4"
  }
 },
 "nbformat": 4,
 "nbformat_minor": 5
}
