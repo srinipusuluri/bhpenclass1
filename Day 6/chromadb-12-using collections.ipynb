{
 "cells": [
  {
   "cell_type": "code",
   "execution_count": 1,
   "id": "4bb306c0-b94c-427a-803c-8e8c8bf7908c",
   "metadata": {},
   "outputs": [],
   "source": [
    "import chromadb"
   ]
  },
  {
   "cell_type": "code",
   "execution_count": 2,
   "id": "e293fe56-2d67-459b-a98c-b10bb7c6aff5",
   "metadata": {},
   "outputs": [],
   "source": [
    "# Initialize Chroma client and create a collection\n",
    "client = chromadb.Client()\n",
    "collection = client.get_or_create_collection(\"article_collection\")"
   ]
  },
  {
   "cell_type": "code",
   "execution_count": 3,
   "id": "1dd89fe6-b720-424e-b196-c745a0a705b1",
   "metadata": {},
   "outputs": [],
   "source": [
    "# Example dummy data (documents with metadata)\n",
    "documents = [\n",
    "    \"Understanding machine learning basics\",\n",
    "    \"Advances in deep learning techniques\",\n",
    "    \"Neural networks and their applications\",\n",
    "    \"AI for healthcare systems\",\n",
    "    \"ML models in production\",\n",
    "]\n",
    "\n",
    "metadata = [\n",
    "    {\"author\": \"John Doe\",      \"date\": \"2022-05-10\", \"category\": \"AI\"},\n",
    "    {\"author\": \"Jane Smith\",    \"date\": \"2021-11-15\", \"category\": \"Deep Learning\"},\n",
    "    {\"author\": \"John Doe\",      \"date\": \"2023-03-20\", \"category\": \"Neural Networks\"},\n",
    "    {\"author\": \"Alice Johnson\", \"date\": \"2020-12-05\", \"category\": \"AI\"},\n",
    "    {\"author\": \"Bob Brown\",     \"date\": \"2022-08-25\", \"category\": \"ML\"},\n",
    "]"
   ]
  },
  {
   "cell_type": "code",
   "execution_count": 4,
   "id": "b72360a8-c374-4e8c-bf23-9abcb07af31f",
   "metadata": {},
   "outputs": [],
   "source": [
    "# Generate unique IDs for each document (you can use any unique identifiers)\n",
    "ids = [f\"doc_{i}\" for i in range(len(documents))]"
   ]
  },
  {
   "cell_type": "code",
   "execution_count": 5,
   "id": "28166a66-b9b6-4570-96aa-4acbc087c428",
   "metadata": {},
   "outputs": [
    {
     "name": "stdout",
     "output_type": "stream",
     "text": [
      "Documents added successfully!\n"
     ]
    }
   ],
   "source": [
    "# Add documents to the collection along with metadata, embeddings, and IDs\n",
    "collection.add(\n",
    "    documents=documents,\n",
    "    metadatas=metadata,\n",
    "    #embeddings=embeddings,\n",
    "    ids=ids  # Pass the unique IDs here\n",
    ")\n",
    "\n",
    "print(\"Documents added successfully!\")"
   ]
  },
  {
   "cell_type": "markdown",
   "id": "1fccce82-03f5-4b98-a830-9d9db2ca03e0",
   "metadata": {},
   "source": [
    "#### Query 1: Filter by Author"
   ]
  },
  {
   "cell_type": "code",
   "execution_count": 7,
   "id": "24b74105-e2e4-4f1c-b0e9-1efe2d3dd75e",
   "metadata": {},
   "outputs": [
    {
     "data": {
      "text/plain": [
       "{'ids': [['doc_0', 'doc_2']],\n",
       " 'distances': [[0.7523747086524963, 0.9583499431610107]],\n",
       " 'metadatas': [[{'author': 'John Doe', 'category': 'AI', 'date': '2022-05-10'},\n",
       "   {'author': 'John Doe',\n",
       "    'category': 'Neural Networks',\n",
       "    'date': '2023-03-20'}]],\n",
       " 'embeddings': None,\n",
       " 'documents': [['Understanding machine learning basics',\n",
       "   'Neural networks and their applications']],\n",
       " 'uris': None,\n",
       " 'data': None,\n",
       " 'included': ['metadatas', 'documents', 'distances']}"
      ]
     },
     "execution_count": 7,
     "metadata": {},
     "output_type": "execute_result"
    }
   ],
   "source": [
    "# Query for documents written by \"John Doe\"\n",
    "results = collection.query(\n",
    "    query_texts = [\"machine learning\"],\n",
    "    n_results   = 3,\n",
    "    where       = {\"author\": \"John Doe\"}\n",
    ")\n",
    "\n",
    "dict(results)"
   ]
  },
  {
   "cell_type": "markdown",
   "id": "431e14e3-7ce4-4c9d-8307-98c80450a5b3",
   "metadata": {},
   "source": [
    "- Step 1: The query generates an embedding for \"machine learning\".\n",
    "- Step 2: The similarity search is conducted across all documents in the collection, calculating their similarity to the generated embedding.\n",
    "- Step 3: The database identifies the top-N documents (in this case, the top 3) that are most similar to \"machine learning\".\n",
    "- Step 4: From those top 3 results, the where filter is applied, and it checks which of these documents also have the author \"John Doe\".\n",
    "\n",
    "Identify potential risk !!"
   ]
  },
  {
   "cell_type": "code",
   "execution_count": 9,
   "id": "15c85bbb-6b69-46d3-a2eb-d6dc39e29b89",
   "metadata": {},
   "outputs": [
    {
     "data": {
      "text/plain": [
       "{'ids': [['doc_4']],\n",
       " 'distances': [[1.6258388757705688]],\n",
       " 'metadatas': [[{'author': 'Bob Brown',\n",
       "    'category': 'ML',\n",
       "    'date': '2022-08-25'}]],\n",
       " 'embeddings': None,\n",
       " 'documents': [['ML models in production']],\n",
       " 'uris': None,\n",
       " 'data': None,\n",
       " 'included': ['metadatas', 'documents', 'distances']}"
      ]
     },
     "execution_count": 9,
     "metadata": {},
     "output_type": "execute_result"
    }
   ],
   "source": [
    "# Query for documents written by \"John Doe\"\n",
    "results = collection.query(\n",
    "    query_texts = [\"Understanding\"],\n",
    "    n_results   = 3,\n",
    "    where       = {\"author\": \"Bob Brown\"}\n",
    ")\n",
    "\n",
    "dict(results)"
   ]
  },
  {
   "cell_type": "markdown",
   "id": "1e731f79-87ba-4470-bbab-b82d7dc7e5a8",
   "metadata": {},
   "source": [
    "#### Query 2: Filter by Category and Date"
   ]
  },
  {
   "cell_type": "code",
   "execution_count": 10,
   "id": "b57044ac-7c37-4018-9caa-4cc6ac3c99f1",
   "metadata": {},
   "outputs": [],
   "source": [
    "from datetime import datetime"
   ]
  },
  {
   "cell_type": "code",
   "execution_count": 11,
   "id": "60052149-8f55-4219-8bea-4b8a960343f1",
   "metadata": {},
   "outputs": [],
   "source": [
    "# Convert the date string to a Unix timestamp\n",
    "date_string    = \"2021-01-01\"\n",
    "date_timestamp = int(datetime.strptime(date_string, \"%Y-%m-%d\").timestamp())"
   ]
  },
  {
   "cell_type": "code",
   "execution_count": 12,
   "id": "903a8029-619d-4714-bba6-893e9217dff1",
   "metadata": {},
   "outputs": [
    {
     "data": {
      "text/plain": [
       "{'ids': [[]],\n",
       " 'distances': [[]],\n",
       " 'metadatas': [[]],\n",
       " 'embeddings': None,\n",
       " 'documents': [[]],\n",
       " 'uris': None,\n",
       " 'data': None,\n",
       " 'included': ['metadatas', 'documents', 'distances']}"
      ]
     },
     "execution_count": 12,
     "metadata": {},
     "output_type": "execute_result"
    }
   ],
   "source": [
    "# Query for documents in the \"AI\" category, published after 2021\n",
    "results = collection.query(\n",
    "    query_texts = [\"AI\"],  # Example query text\n",
    "    n_results   = 3,\n",
    "    where = {\n",
    "    \"$and\": [\n",
    "        {\"category\": \"AI\"},\n",
    "        {\"date\": {\"$gte\": date_timestamp}}  # Using the converted timestamp\n",
    "    ]\n",
    "}\n",
    ")\n",
    "\n",
    "dict(results)"
   ]
  },
  {
   "cell_type": "code",
   "execution_count": null,
   "id": "ee083e38-dbfd-46d4-ac33-87b15cf2e9fa",
   "metadata": {},
   "outputs": [],
   "source": [
    "# Example date strings\n",
    "date_strings = [\n",
    "    \"2022-05-10\",\n",
    "    \"2021-11-15\",\n",
    "    \"2023-03-20\",\n",
    "    \"2020-12-05\",\n",
    "    \"2022-08-25\",\n",
    "]\n",
    "\n",
    "# Convert date strings to timestamps\n",
    "metadata = [\n",
    "    {\"author\": \"John Doe\", \"date\": int(datetime.strptime(date_strings[0], \"%Y-%m-%d\").timestamp()), \"category\": \"AI\"},\n",
    "    {\"author\": \"Jane Smith\", \"date\": int(datetime.strptime(date_strings[1], \"%Y-%m-%d\").timestamp()), \"category\": \"Deep Learning\"},\n",
    "    {\"author\": \"John Doe\", \"date\": int(datetime.strptime(date_strings[2], \"%Y-%m-%d\").timestamp()), \"category\": \"Neural Networks\"},\n",
    "    {\"author\": \"Alice Johnson\", \"date\": int(datetime.strptime(date_strings[3], \"%Y-%m-%d\").timestamp()), \"category\": \"AI\"},\n",
    "    {\"author\": \"Bob Br"
   ]
  },
  {
   "cell_type": "markdown",
   "id": "a0aea2ea-e262-4efb-b73e-ba75cc30d32a",
   "metadata": {},
   "source": [
    "| Use Case                     | Description                                                                                                          | Example                                                                                                      |\n",
    "|------------------------------|----------------------------------------------------------------------------------------------------------------------|--------------------------------------------------------------------------------------------------------------|\n",
    "| User-Specific Content Retrieval | Filtering documents based on user attributes (e.g., preferences, location) to generate tailored responses.        | Retrieving articles related to “machine learning” for users located in “New York” by applying a filter on the user's city attribute. |\n",
    "| Contextual Relevance         | Enhancing response accuracy by filtering content based on relevant metadata (e.g., topics, categories).             | Generating responses only from documents categorized under “Healthcare” when the query pertains to medical topics.                  |\n",
    "| Temporal Filtering           | Ensuring that responses are based on the most recent information by filtering based on publication dates.            | In a news summarization application, filtering articles published within the last week to provide up-to-date summaries.                |\n"
   ]
  },
  {
   "cell_type": "code",
   "execution_count": null,
   "id": "dea2e9e8-34d7-4c0b-ab9c-77ef16cf0f18",
   "metadata": {},
   "outputs": [],
   "source": []
  }
 ],
 "metadata": {
  "kernelspec": {
   "display_name": "Python 3 (ipykernel)",
   "language": "python",
   "name": "python3"
  },
  "language_info": {
   "codemirror_mode": {
    "name": "ipython",
    "version": 3
   },
   "file_extension": ".py",
   "mimetype": "text/x-python",
   "name": "python",
   "nbconvert_exporter": "python",
   "pygments_lexer": "ipython3",
   "version": "3.12.4"
  }
 },
 "nbformat": 4,
 "nbformat_minor": 5
}
