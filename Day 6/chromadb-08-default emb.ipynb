{
 "cells": [
  {
   "cell_type": "markdown",
   "id": "d0c00cee-de56-476c-95a2-487f7ba22e67",
   "metadata": {},
   "source": [
    "-----------------------\n",
    "#### default embedding function in ChromaDB\n",
    "---------------------"
   ]
  },
  {
   "cell_type": "code",
   "execution_count": 1,
   "id": "2f271895-fdfb-4c9c-a437-764dc3e4da0b",
   "metadata": {},
   "outputs": [],
   "source": [
    "import chromadb"
   ]
  },
  {
   "cell_type": "code",
   "execution_count": 2,
   "id": "50be27fa-5f7f-47f2-ad3c-92331ba13dac",
   "metadata": {},
   "outputs": [],
   "source": [
    "client = chromadb.PersistentClient(path=r\"D:\\AI-DATASETS\\02-MISC-large\\GenAI-LLMs\\chromadb\\bhupen\")"
   ]
  },
  {
   "cell_type": "code",
   "execution_count": 3,
   "id": "5366e3e7-6f9b-45ea-adc2-d58c0fb09e92",
   "metadata": {},
   "outputs": [
    {
     "data": {
      "text/plain": [
       "[Collection(id=d3e8521c-0d49-4d69-aea5-7d06a09d138b, name=learn_chromadb1)]"
      ]
     },
     "execution_count": 3,
     "metadata": {},
     "output_type": "execute_result"
    }
   ],
   "source": [
    "# check if collections exist\n",
    "client.list_collections()"
   ]
  },
  {
   "cell_type": "code",
   "execution_count": 4,
   "id": "ff2016cb-89b2-44e4-ac8c-5df87443ba34",
   "metadata": {},
   "outputs": [],
   "source": [
    "collection = client.get_or_create_collection(\"learn_chromadb\")"
   ]
  },
  {
   "cell_type": "code",
   "execution_count": 5,
   "id": "70cc156a-95ae-4914-8907-8de1cd69fb29",
   "metadata": {},
   "outputs": [
    {
     "data": {
      "text/plain": [
       "{'id': UUID('c1fd9b46-0c31-4869-8fa5-4499d2ddaddb'),\n",
       " 'name': 'learn_chromadb',\n",
       " 'configuration_json': {'hnsw_configuration': {'space': 'l2',\n",
       "   'ef_construction': 100,\n",
       "   'ef_search': 10,\n",
       "   'num_threads': 4,\n",
       "   'M': 16,\n",
       "   'resize_factor': 1.2,\n",
       "   'batch_size': 100,\n",
       "   'sync_threshold': 1000,\n",
       "   '_type': 'HNSWConfigurationInternal'},\n",
       "  '_type': 'CollectionConfigurationInternal'},\n",
       " 'metadata': None,\n",
       " 'dimension': None,\n",
       " 'tenant': 'default_tenant',\n",
       " 'database': 'default_database',\n",
       " 'version': 0,\n",
       " 'log_position': 0}"
      ]
     },
     "execution_count": 5,
     "metadata": {},
     "output_type": "execute_result"
    }
   ],
   "source": [
    "dict(collection.get_model())"
   ]
  },
  {
   "cell_type": "code",
   "execution_count": 6,
   "id": "73f3e799-d106-469f-957f-96dd39f11055",
   "metadata": {},
   "outputs": [],
   "source": [
    "tagline_dict = {\n",
    "    1: \"Empowering Ideas, Unleashing Words: Your Voice, Our Language Model.\",\n",
    "    2: \"Infinite Possibilities, One Model: Transforming Text with LLM Excellence.\",\n",
    "    3: \"Where Language Meets Limitless: Unleashing Creativity with LLM.\",\n",
    "    4: \"Crafting Tomorrow's Conversations Today: LLM - The Language Pioneer.\",\n",
    "    5: \"Words Redefined, Ideas Amplified: Navigate the Future with LLM.\",\n",
    "    6: \"Unlocking Textual Brilliance: Your Ideas, Supercharged by LLM.\",\n",
    "    7: \"Empowering Communication, Enriching Experiences: LLM at Your Service.\",\n",
    "    8: \"The Art of Words, Elevated: LLM - Your Gateway to Expressive Text.\",\n",
    "    9: \"In the Realm of Language Mastery: Unleash Potential with LLM.\",\n",
    "    10: \"Transforming Ideas into Textual Triumphs: LLM, Your Creative Companion.\"\n",
    "}"
   ]
  },
  {
   "cell_type": "code",
   "execution_count": 8,
   "id": "225c0f53-0713-4430-9939-b6fbf9810343",
   "metadata": {},
   "outputs": [
    {
     "name": "stderr",
     "output_type": "stream",
     "text": [
      "Insert of existing embedding ID: 1\n",
      "Add of existing embedding ID: 1\n",
      "Insert of existing embedding ID: 2\n",
      "Add of existing embedding ID: 2\n",
      "Insert of existing embedding ID: 3\n",
      "Add of existing embedding ID: 3\n",
      "Insert of existing embedding ID: 4\n",
      "Add of existing embedding ID: 4\n",
      "Insert of existing embedding ID: 5\n",
      "Add of existing embedding ID: 5\n",
      "Insert of existing embedding ID: 6\n",
      "Add of existing embedding ID: 6\n",
      "Insert of existing embedding ID: 7\n",
      "Add of existing embedding ID: 7\n",
      "Insert of existing embedding ID: 8\n",
      "Add of existing embedding ID: 8\n",
      "Insert of existing embedding ID: 9\n",
      "Add of existing embedding ID: 9\n",
      "Insert of existing embedding ID: 10\n",
      "Add of existing embedding ID: 10\n"
     ]
    }
   ],
   "source": [
    "# Iterate over the dictionary items and print key-value pairs\n",
    "for key, val in tagline_dict.items():\n",
    "    #print(f\"Key: {key}, Value: {val}\")\n",
    "    \n",
    "    # Add a document to the collection\n",
    "    collection.add(documents = [val], \n",
    "                   ids       = [str(key)]\n",
    "                  )"
   ]
  },
  {
   "cell_type": "code",
   "execution_count": 9,
   "id": "01d493f0-6567-4daf-a79b-654b18cb589e",
   "metadata": {},
   "outputs": [
    {
     "data": {
      "text/plain": [
       "10"
      ]
     },
     "execution_count": 9,
     "metadata": {},
     "output_type": "execute_result"
    }
   ],
   "source": [
    "collection.count()"
   ]
  },
  {
   "cell_type": "code",
   "execution_count": 10,
   "id": "a01893a4-f862-45e2-80d1-739b76aff61f",
   "metadata": {},
   "outputs": [],
   "source": [
    "phrases=[\n",
    "    \"Amanda baked cookies and will bring Jerry some tomorrow.\",\n",
    "    \"Olivia and Olivier are voting for liberals in this election.\",\n",
    "    \"Sam is confused, because he overheard Rick complaining about him as a roommate. Naomi thinks Sam should talk to Rick. Sam is not sure what to do.\",\n",
    "    \"John's cookies were only half-baked but he still carries them for Mary.\",\n",
    "]"
   ]
  },
  {
   "cell_type": "code",
   "execution_count": 11,
   "id": "d8cb3c3f-e2fa-41d0-8046-b3b28653c517",
   "metadata": {},
   "outputs": [],
   "source": [
    "ids=[\"001\",\"002\",\"003\",\"004\"]"
   ]
  },
  {
   "cell_type": "code",
   "execution_count": 12,
   "id": "c3e0e6d6-f478-4a59-ba75-d6a9f248be44",
   "metadata": {},
   "outputs": [],
   "source": [
    "metadatas =[{\"source\": \"pdf-1\"},\n",
    "            {\"source\": \"doc-1\"},\n",
    "            {\"source\": \"pdf-2\"},\n",
    "            {\"source\": \"txt-1\"}]"
   ]
  },
  {
   "cell_type": "code",
   "execution_count": 13,
   "id": "e2b73c82-fb83-48f6-85e2-d0a3ebd3259a",
   "metadata": {},
   "outputs": [],
   "source": [
    "collection = client.get_or_create_collection(\"learn_chromadb1\")"
   ]
  },
  {
   "cell_type": "code",
   "execution_count": 14,
   "id": "c3259d16-6e7e-4d9b-a0da-e58ea325dd83",
   "metadata": {},
   "outputs": [
    {
     "name": "stderr",
     "output_type": "stream",
     "text": [
      "Add of existing embedding ID: 001\n",
      "Add of existing embedding ID: 002\n",
      "Add of existing embedding ID: 003\n",
      "Add of existing embedding ID: 004\n",
      "Add of existing embedding ID: 001\n",
      "Add of existing embedding ID: 002\n",
      "Add of existing embedding ID: 003\n",
      "Add of existing embedding ID: 004\n",
      "Insert of existing embedding ID: 001\n",
      "Insert of existing embedding ID: 002\n",
      "Insert of existing embedding ID: 003\n",
      "Insert of existing embedding ID: 004\n",
      "Add of existing embedding ID: 001\n",
      "Add of existing embedding ID: 002\n",
      "Add of existing embedding ID: 003\n",
      "Add of existing embedding ID: 004\n"
     ]
    }
   ],
   "source": [
    "collection.add(\n",
    "    documents = phrases,\n",
    "    metadatas = metadatas,\n",
    "    ids       = ids\n",
    ")"
   ]
  },
  {
   "cell_type": "markdown",
   "id": "067a1e11-389c-4b1d-9790-4b425b2917c0",
   "metadata": {},
   "source": [
    "#### Importance of Embeddings in Collections\n",
    "- Embeddings play a crucial role in managing and analyzing collections.\n",
    "- They can be generated implicitly using built-in word embedding models in Chroma.\n",
    "- Alternatively, embeddings can be generated externally via models from OpenAI, PaLM, or Cohere.\n",
    "- Chroma offers easy integration with external APIs for automating the embedding generation and storage process.\n",
    "\n",
    "#### Default Embedding Model in Chroma\n",
    "- Chroma uses the **Sentence Transformers, all-MiniLM-L6-v2** model by default.\n",
    "- This model generates sentence and document embeddings for a range of tasks.\n",
    "- The embedding function runs locally on your machine.\n",
    "- Required model files are downloaded automatically as needed."
   ]
  },
  {
   "cell_type": "code",
   "execution_count": 15,
   "id": "a2aa9a7a-cb04-4f39-8429-9672b073c91d",
   "metadata": {},
   "outputs": [
    {
     "name": "stdout",
     "output_type": "stream",
     "text": [
      "{'ids': ['001', '002', '003', '004'], 'embeddings': array([[-0.02752167,  0.05736668, -0.00122983, ..., -0.01637481,\n",
      "        -0.03250027, -0.0933486 ],\n",
      "       [ 0.08045931, -0.06479898, -0.00384998, ..., -0.0260211 ,\n",
      "         0.08252283, -0.02077583],\n",
      "       [-0.07562497, -0.02735966, -0.01390161, ...,  0.06941753,\n",
      "        -0.09370109, -0.0335044 ],\n",
      "       [ 0.00651375,  0.05261214,  0.05810095, ..., -0.06113185,\n",
      "         0.02064367, -0.07570463]]), 'metadatas': [{'source': 'pdf-1'}, {'source': 'doc-1'}, {'source': 'pdf-2'}, {'source': 'txt-1'}], 'documents': ['Amanda baked cookies and will bring Jerry some tomorrow.', 'Olivia and Olivier are voting for liberals in this election.', 'Sam is confused, because he overheard Rick complaining about him as a roommate. Naomi thinks Sam should talk to Rick. Sam is not sure what to do.', \"John's cookies were only half-baked but he still carries them for Mary.\"], 'uris': None, 'data': None, 'included': ['embeddings', 'metadatas', 'documents']}\n"
     ]
    }
   ],
   "source": [
    "print(collection.peek())"
   ]
  },
  {
   "cell_type": "code",
   "execution_count": 16,
   "id": "b27c0202-c12b-44b8-a32f-57fcb600923c",
   "metadata": {},
   "outputs": [
    {
     "data": {
      "text/plain": [
       "{'ids': ['001'],\n",
       " 'embeddings': array([[-2.75216699e-02,  5.73666804e-02, -1.22983486e-03,\n",
       "         -2.36949883e-02, -9.43863690e-02, -2.78063747e-03,\n",
       "          7.46858940e-02, -5.72701655e-02, -2.50429623e-02,\n",
       "          1.85038298e-02, -2.71457154e-02, -8.91745184e-03,\n",
       "         -1.07487887e-01, -7.39713386e-03,  2.43057478e-02,\n",
       "          1.12196254e-02,  3.65282334e-02, -5.46093062e-02,\n",
       "         -8.01465288e-02, -9.81636811e-03, -1.41378702e-03,\n",
       "          1.17890192e-02,  1.02783382e-01,  6.10934123e-02,\n",
       "         -7.94704035e-02,  4.80488278e-02,  5.60123287e-03,\n",
       "         -9.59517714e-03, -3.92248482e-03,  7.35128159e-03,\n",
       "         -5.84082156e-02,  2.79703978e-02, -1.15979970e-01,\n",
       "          2.91299429e-02,  4.04155105e-02, -3.52354981e-02,\n",
       "          7.95362145e-03,  2.77526164e-03,  4.08411287e-02,\n",
       "          2.25484744e-02,  1.23183820e-02, -4.28285897e-02,\n",
       "         -7.29242787e-02,  1.79624427e-02, -1.42921925e-01,\n",
       "         -6.66533932e-02,  3.31913517e-03, -1.35064693e-02,\n",
       "         -4.61039459e-03, -5.58335297e-02, -2.56967433e-02,\n",
       "          3.76334079e-02, -1.65231563e-02, -9.54352766e-02,\n",
       "         -1.48536579e-03,  4.12792303e-02, -1.05889933e-02,\n",
       "         -5.01970313e-02, -1.48516642e-02,  8.72727856e-02,\n",
       "         -5.52899092e-02,  6.62230104e-02, -1.28861731e-02,\n",
       "          1.06863556e-02,  2.50364691e-02, -4.50677574e-02,\n",
       "         -6.12418354e-02,  5.31356484e-02, -5.76770008e-02,\n",
       "          1.51180690e-02, -1.26901001e-01,  6.02947883e-02,\n",
       "          1.15609877e-02, -8.11167583e-02,  1.35608781e-02,\n",
       "         -5.08933552e-02,  9.00235698e-02, -4.94042272e-03,\n",
       "         -1.20827220e-02,  1.08397556e-02, -5.09098992e-02,\n",
       "         -5.04332706e-02,  5.35702705e-02,  3.32297990e-03,\n",
       "         -6.42424747e-02,  1.93040296e-02, -1.83856245e-02,\n",
       "          6.54477775e-02,  5.71031384e-02, -6.99087931e-03,\n",
       "         -7.39588290e-02, -3.65490243e-02,  3.95046966e-03,\n",
       "          4.25704680e-02, -1.01474999e-02, -4.92820255e-02,\n",
       "         -3.76150869e-02, -6.72976151e-02,  2.42669179e-04,\n",
       "          7.69328326e-02,  4.69780341e-02,  7.62864724e-02,\n",
       "          6.99115023e-02, -4.72881198e-02,  6.34764656e-02,\n",
       "         -2.70394748e-03, -5.12409806e-02, -9.35113151e-03,\n",
       "          5.60189448e-02, -1.75571106e-02,  1.58378705e-02,\n",
       "          4.06286828e-02,  2.07778905e-02,  5.07178493e-02,\n",
       "         -4.21524048e-03,  4.37582172e-02,  3.17691267e-02,\n",
       "          7.38865584e-02,  3.01582832e-02, -8.74682739e-02,\n",
       "          4.62308712e-02,  1.88394934e-02,  5.91247417e-02,\n",
       "          5.03419787e-02,  3.24052535e-02,  6.19462284e-04,\n",
       "         -5.97979613e-02, -3.94228332e-33, -1.42358122e-02,\n",
       "          8.16307962e-02,  6.54628351e-02,  4.98757549e-02,\n",
       "          5.32988571e-02,  5.71229085e-02, -7.06902845e-03,\n",
       "          2.92028487e-02, -1.58977434e-02,  1.26059204e-02,\n",
       "         -5.67988902e-02,  1.65256355e-02, -2.19722912e-02,\n",
       "          1.41408965e-02, -5.69497421e-02,  9.97483283e-02,\n",
       "         -3.65385264e-02,  9.72991437e-03,  5.72066605e-02,\n",
       "          3.17786410e-02,  1.83251977e-03,  1.36224274e-02,\n",
       "         -2.15990599e-02,  1.68321598e-02, -7.81279728e-02,\n",
       "          1.76002029e-02,  8.02266598e-03,  2.78169662e-02,\n",
       "         -5.55205420e-02, -5.98953851e-03, -6.67461893e-03,\n",
       "         -3.68644181e-03,  7.14262808e-03, -2.99506746e-02,\n",
       "          4.04318050e-02,  3.92107330e-02, -3.58231342e-03,\n",
       "         -4.60738456e-03, -1.18386289e-02, -3.17514455e-03,\n",
       "          6.29032850e-02, -2.73508057e-02,  6.58499673e-02,\n",
       "         -2.47130310e-03, -1.37110576e-01, -3.07511520e-02,\n",
       "          4.67069261e-02,  4.43717279e-02,  9.71096978e-02,\n",
       "          5.94139770e-02, -1.54428547e-02, -1.04683209e-02,\n",
       "          3.90593410e-02,  2.17026677e-02, -1.05472922e-01,\n",
       "         -2.96238670e-03,  3.92940789e-02, -2.84541510e-02,\n",
       "          3.52242179e-02, -4.25337888e-02, -7.26564415e-03,\n",
       "         -2.09295321e-02, -2.00547781e-02, -4.42504659e-02,\n",
       "         -5.95882609e-02, -3.06082126e-02,  3.76124047e-02,\n",
       "          4.81329747e-02, -3.18001993e-02,  1.36333099e-02,\n",
       "          6.92548091e-03,  3.11711542e-02,  9.72709656e-02,\n",
       "         -7.00780079e-02, -1.56692769e-02,  3.05023510e-02,\n",
       "          6.16068318e-02,  4.24188413e-02,  4.02475148e-02,\n",
       "          5.40983304e-02,  1.29544720e-01, -9.44085978e-03,\n",
       "         -4.67908941e-02,  2.15938594e-03, -2.76951082e-02,\n",
       "         -6.40337318e-02, -4.23004106e-02,  1.47346985e-02,\n",
       "         -3.88080510e-03, -4.59241979e-02, -6.71132281e-02,\n",
       "         -3.25282887e-02,  6.95394278e-02, -3.96885835e-02,\n",
       "          7.42975017e-03,  2.13984650e-34,  5.70074618e-02,\n",
       "          1.55616719e-02, -6.34821597e-03,  3.53111513e-02,\n",
       "          1.38150901e-01, -7.78273568e-02,  9.73831788e-02,\n",
       "         -6.01177430e-03,  1.15560200e-02, -1.59838691e-01,\n",
       "         -7.65813095e-03, -4.35344763e-02,  3.35692279e-02,\n",
       "         -5.84551543e-02,  2.24123877e-02,  3.67051773e-02,\n",
       "          2.64262757e-03,  1.83746906e-03,  4.56523411e-02,\n",
       "         -7.32969940e-02, -1.27002656e-01,  4.83571105e-02,\n",
       "         -5.09718470e-02,  1.25687227e-01,  4.80631068e-02,\n",
       "         -2.31836922e-02,  1.86524823e-01,  1.54887354e-02,\n",
       "         -1.00918718e-01, -3.53158675e-02, -3.94220538e-02,\n",
       "         -9.44544300e-02, -2.48291753e-02,  5.43782208e-03,\n",
       "         -1.66870244e-02,  5.54526895e-02,  4.53251647e-03,\n",
       "         -5.01264632e-02, -1.01248726e-01, -5.20196073e-02,\n",
       "         -3.40870023e-02, -1.41416183e-02,  4.48088348e-02,\n",
       "          1.23984806e-01, -7.90701772e-04,  8.65235552e-02,\n",
       "         -2.60879602e-02, -3.45068909e-02,  3.04565020e-02,\n",
       "          1.32630423e-01,  1.05205528e-03, -3.03474963e-02,\n",
       "         -1.07279405e-01, -2.77290642e-02, -1.22139324e-03,\n",
       "          9.74690318e-02,  2.17345469e-02, -1.74568908e-03,\n",
       "         -6.69636484e-03, -1.78687237e-02, -9.63057578e-02,\n",
       "         -9.70789418e-03,  4.47800756e-02,  6.07408630e-03,\n",
       "          4.48750798e-03, -7.67278522e-02,  9.27790068e-03,\n",
       "         -5.57235535e-03,  1.26133272e-02,  1.56773161e-02,\n",
       "         -6.07064785e-03,  4.05245386e-02, -8.00300203e-03,\n",
       "          1.05526177e-02,  1.19042834e-02,  7.12260157e-02,\n",
       "          4.16604429e-02, -4.35404517e-02,  4.33165720e-03,\n",
       "          6.30705059e-03, -4.66951765e-02,  9.73697659e-03,\n",
       "         -1.54172089e-02,  8.33720267e-02,  1.61915794e-02,\n",
       "         -4.86633787e-03,  1.31484754e-02, -4.75258706e-03,\n",
       "         -3.85082029e-02, -3.24829035e-02,  4.53178398e-02,\n",
       "          2.06221007e-02,  3.69737595e-02, -1.95472054e-02,\n",
       "         -1.12928413e-01, -1.54862843e-08,  4.89249788e-02,\n",
       "         -6.29135445e-02, -5.77352569e-02, -9.46051814e-03,\n",
       "          1.76043026e-02,  3.39532122e-02,  4.41462807e-02,\n",
       "          3.10335327e-02, -3.47404145e-02,  1.68666393e-02,\n",
       "          2.24682931e-02,  4.56260219e-02,  4.05970328e-02,\n",
       "          1.16300978e-01, -2.94620618e-02, -5.36678126e-03,\n",
       "          2.59621385e-02, -3.81090604e-02, -3.73701751e-02,\n",
       "         -1.77721139e-02, -7.83425421e-02, -4.43113633e-02,\n",
       "          7.58144557e-02,  4.11696844e-02,  5.12511954e-02,\n",
       "          1.71988625e-02, -2.64674015e-02,  7.55071938e-02,\n",
       "          1.64327938e-02,  9.46660861e-02, -5.76054715e-02,\n",
       "          3.11130770e-02, -5.53406924e-02,  4.59050275e-02,\n",
       "          1.72480959e-02, -1.13276720e-01,  1.30752800e-02,\n",
       "         -3.73303145e-02, -1.30609483e-01,  1.15866780e-04,\n",
       "         -8.38709529e-03, -6.29769713e-02, -2.71724723e-03,\n",
       "         -2.11679563e-02,  2.79633049e-02, -4.80965562e-02,\n",
       "         -1.90407783e-02,  3.44033912e-02,  1.91885568e-02,\n",
       "         -1.47181433e-02,  5.10743354e-04,  4.42580990e-02,\n",
       "         -1.96007174e-02,  6.52367324e-02,  7.03884801e-03,\n",
       "         -2.89842449e-02, -2.98207011e-02, -3.75108086e-02,\n",
       "          1.09798551e-01,  1.00855622e-02, -1.59697924e-02,\n",
       "         -1.63748115e-02, -3.25002708e-02, -9.33486000e-02]]),\n",
       " 'metadatas': [{'source': 'pdf-1'}],\n",
       " 'documents': ['Amanda baked cookies and will bring Jerry some tomorrow.'],\n",
       " 'uris': None,\n",
       " 'data': None,\n",
       " 'included': ['embeddings', 'metadatas', 'documents']}"
      ]
     },
     "execution_count": 16,
     "metadata": {},
     "output_type": "execute_result"
    }
   ],
   "source": [
    "collection.peek(1)"
   ]
  },
  {
   "cell_type": "code",
   "execution_count": 17,
   "id": "4ae98443-fba7-4274-ac85-311120229255",
   "metadata": {},
   "outputs": [
    {
     "data": {
      "text/plain": [
       "(1, 384)"
      ]
     },
     "execution_count": 17,
     "metadata": {},
     "output_type": "execute_result"
    }
   ],
   "source": [
    "collection.peek(1)['embeddings'].shape"
   ]
  },
  {
   "cell_type": "code",
   "execution_count": 18,
   "id": "ec128784-53fb-4ceb-9773-1a86b666acf9",
   "metadata": {},
   "outputs": [],
   "source": [
    "results = collection.query(\n",
    "    query_texts= [\"Mary got half-baked cake from John\"],\n",
    "    n_results  = 1\n",
    ")"
   ]
  },
  {
   "cell_type": "code",
   "execution_count": 19,
   "id": "b2d83583-bfda-4c1a-ba58-df811150d925",
   "metadata": {},
   "outputs": [
    {
     "name": "stdout",
     "output_type": "stream",
     "text": [
      "John's cookies were only half-baked but he still carries them for Mary.\n"
     ]
    }
   ],
   "source": [
    "print(results['documents'][0][0])"
   ]
  },
  {
   "cell_type": "markdown",
   "id": "9c88fd6f-7009-430f-99a4-59fe5cebb651",
   "metadata": {},
   "source": [
    "#### Sentence Transformers, all-MiniLM-L6-v2\n",
    "\n",
    "##### Model Architecture\n",
    "- **Base Model:** Based on Microsoft's **MiniLM** (Mini Language Model), a lightweight version of larger transformer models like BERT and RoBERTa.\n",
    "- **Layers:** 6 transformer layers (L6 indicates this).\n",
    "- **Hidden Size:** 384 hidden dimensions, making it smaller and faster while maintaining strong performance.\n",
    "- **Distillation:** Trained using **knowledge distillation** from a larger model (e.g., BERT), learning to replicate its outputs with fewer parameters.\n",
    "\n",
    "##### Datasets Used\n",
    "- Fine-tuned on large-scale **sentence-pair datasets** for tasks such as semantic similarity and paraphrase detection. Key datasets include:\n",
    "  - **STS (Semantic Textual Similarity) benchmark:** Measures how semantically similar two sentences are.\n",
    "  - **Quora Question Pairs:** Used for detecting duplicate or paraphrased questions.\n",
    "  - **NLI (Natural Language Inference) datasets:** Trained to classify sentence pairs as entailment, contradiction, or neutral.\n",
    "\n",
    "##### Practical Use Cases\n",
    "- **Semantic Search:** Enables finding semantically similar sentences or documents, improving search engine results and information retrieval.\n",
    "- **Text Clustering:** Clustering similar sentences or paragraphs, helpful for organizing or summarizing text datasets.\n",
    "- **Paraphrase Identification:** Detects whether two sentences convey the same meaning but in different words.\n",
    "- **Recommendation Systems:** Generates content-based recommendations by comparing text descriptions of items through embeddings.\n",
    "- **Zero-shot Classification:** Uses embeddings to classify text into categories by comparing sentence similarity, even without labeled data for each class.\n",
    "\n",
    "The all-MiniLM-L6-v2 model is optimized for tasks requiring sentence-level embeddings, balancing speed and memory efficiency with robust performance."
   ]
  },
  {
   "cell_type": "code",
   "execution_count": null,
   "id": "e35c7346-b7b4-45e9-ab32-02f0838d12d6",
   "metadata": {},
   "outputs": [],
   "source": []
  }
 ],
 "metadata": {
  "kernelspec": {
   "display_name": "Python 3 (ipykernel)",
   "language": "python",
   "name": "python3"
  },
  "language_info": {
   "codemirror_mode": {
    "name": "ipython",
    "version": 3
   },
   "file_extension": ".py",
   "mimetype": "text/x-python",
   "name": "python",
   "nbconvert_exporter": "python",
   "pygments_lexer": "ipython3",
   "version": "3.12.4"
  }
 },
 "nbformat": 4,
 "nbformat_minor": 5
}
