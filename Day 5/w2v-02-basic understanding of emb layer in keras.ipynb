{
 "cells": [
  {
   "cell_type": "markdown",
   "id": "aa03d2c6-b6ac-4211-ac90-784c0beb4dba",
   "metadata": {},
   "source": [
    "-----------------------------\n",
    "#### Embedding layer in Keras\n",
    "------------------------------"
   ]
  },
  {
   "cell_type": "code",
   "execution_count": 2,
   "id": "418c7d9d-52f0-4e9a-954b-0fdf6743971d",
   "metadata": {},
   "outputs": [],
   "source": [
    "from tensorflow.keras.preprocessing.text import Tokenizer"
   ]
  },
  {
   "cell_type": "code",
   "execution_count": 3,
   "id": "ee7aa4f7-5f75-4a96-a7e3-9827a8308d8b",
   "metadata": {},
   "outputs": [],
   "source": [
    "# Define the sentences\n",
    "sentences = [\n",
    "    \"I love machine learning\",\n",
    "    \"Deep learning is fascinating\",\n",
    "    \"Natural language processing is a challenge\",\n",
    "    \"I enjoy learning new things\",\n",
    "    \"Machine learning models are powerful\"\n",
    "]\n",
    "\n",
    "# Define the binary labels\n",
    "labels = [1, 1, 0, 0, 1]"
   ]
  },
  {
   "cell_type": "markdown",
   "id": "5e0cca26-7ff1-4234-900c-d2e749afa2e5",
   "metadata": {},
   "source": [
    "#### tokenization and integer encoding"
   ]
  },
  {
   "cell_type": "code",
   "execution_count": 4,
   "id": "1385fbee-38ea-4e50-bde5-8bac234428d4",
   "metadata": {},
   "outputs": [],
   "source": [
    "# Initialize the Tokenizer\n",
    "tokenizer = Tokenizer()\n",
    "\n",
    "tokenizer.fit_on_texts(sentences)"
   ]
  },
  {
   "cell_type": "code",
   "execution_count": 5,
   "id": "11254e91-0681-469b-82cc-1ab56d4192b2",
   "metadata": {},
   "outputs": [
    {
     "name": "stdout",
     "output_type": "stream",
     "text": [
      "{'learning': 1, 'i': 2, 'machine': 3, 'is': 4, 'love': 5, 'deep': 6, 'fascinating': 7, 'natural': 8, 'language': 9, 'processing': 10, 'a': 11, 'challenge': 12, 'enjoy': 13, 'new': 14, 'things': 15, 'models': 16, 'are': 17, 'powerful': 18}\n"
     ]
    }
   ],
   "source": [
    "# Word index mapping\n",
    "word_index = tokenizer.word_index\n",
    "print(word_index)"
   ]
  },
  {
   "cell_type": "code",
   "execution_count": 6,
   "id": "5ca386b1-fcd7-4c48-b0fe-2b49df3402b0",
   "metadata": {},
   "outputs": [],
   "source": [
    "# Convert sentences to integer sequences\n",
    "sequences = tokenizer.texts_to_sequences(sentences)"
   ]
  },
  {
   "cell_type": "code",
   "execution_count": 7,
   "id": "7dbf9d58-d083-452f-9714-fb5fcae96348",
   "metadata": {},
   "outputs": [
    {
     "data": {
      "text/plain": [
       "[[2, 5, 3, 1],\n",
       " [6, 1, 4, 7],\n",
       " [8, 9, 10, 4, 11, 12],\n",
       " [2, 13, 1, 14, 15],\n",
       " [3, 1, 16, 17, 18]]"
      ]
     },
     "execution_count": 7,
     "metadata": {},
     "output_type": "execute_result"
    }
   ],
   "source": [
    "sequences"
   ]
  },
  {
   "cell_type": "markdown",
   "id": "ba83353a-a5c4-4d00-b4eb-442974d99345",
   "metadata": {},
   "source": [
    "#### padding\n",
    "- Since the sentences have different lengths, we pad them to ensure they all have the same length."
   ]
  },
  {
   "cell_type": "code",
   "execution_count": 8,
   "id": "79a9709a-3b9b-4596-ba54-354d69d13c0f",
   "metadata": {},
   "outputs": [
    {
     "data": {
      "text/plain": [
       "array([[ 2,  5,  3,  1,  0,  0,  0],\n",
       "       [ 6,  1,  4,  7,  0,  0,  0],\n",
       "       [ 8,  9, 10,  4, 11, 12,  0],\n",
       "       [ 2, 13,  1, 14, 15,  0,  0],\n",
       "       [ 3,  1, 16, 17, 18,  0,  0]])"
      ]
     },
     "execution_count": 8,
     "metadata": {},
     "output_type": "execute_result"
    }
   ],
   "source": [
    "from tensorflow.keras.preprocessing.sequence import pad_sequences\n",
    "\n",
    "# Pad sequences to the same length\n",
    "max_length = 7  # Maximum length of the sentences after padding\n",
    "padded_sequences = pad_sequences(sequences, maxlen=max_length, padding='post')\n",
    "\n",
    "padded_sequences"
   ]
  },
  {
   "cell_type": "markdown",
   "id": "48b49470-0d09-4d9e-9487-43cddcacad05",
   "metadata": {},
   "source": [
    "#### Model Construction\n",
    "- We construct a simple neural network model with an Embedding layer followed by a dense layer for binary classification."
   ]
  },
  {
   "cell_type": "code",
   "execution_count": 9,
   "id": "404fb54d-2d8b-4e02-b2bd-fc7ffdd66261",
   "metadata": {},
   "outputs": [],
   "source": [
    "from keras.models import Sequential\n",
    "from keras.layers import Embedding, Flatten, Dense"
   ]
  },
  {
   "cell_type": "code",
   "execution_count": 10,
   "id": "fab70790-4174-47a3-989c-8dd76c2c024c",
   "metadata": {},
   "outputs": [
    {
     "data": {
      "text/plain": [
       "18"
      ]
     },
     "execution_count": 10,
     "metadata": {},
     "output_type": "execute_result"
    }
   ],
   "source": [
    "len(word_index)"
   ]
  },
  {
   "cell_type": "code",
   "execution_count": 11,
   "id": "40623ce8-e93d-4338-bf1c-6c9f28fc645c",
   "metadata": {},
   "outputs": [],
   "source": [
    "# Define vocabulary size and embedding size\n",
    "vocab_size    = len(word_index) + 1  # Adding 1 because indexing starts from 1\n",
    "embedding_dim = 8                    # Dimension of the dense embedding"
   ]
  },
  {
   "cell_type": "code",
   "execution_count": 13,
   "id": "f2585959-550f-4b3c-9234-c0060be54eee",
   "metadata": {},
   "outputs": [],
   "source": [
    "# Create the model\n",
    "model = Sequential()\n",
    "\n",
    "model.add(Embedding(input_dim   = vocab_size,     # 18\n",
    "                    output_dim  = embedding_dim,  # 8\n",
    "                    input_length= max_length))    # 7\n",
    "\n",
    "model.add(Flatten())\n",
    "model.add(Dense(1, activation='sigmoid'))"
   ]
  },
  {
   "cell_type": "code",
   "execution_count": 14,
   "id": "c2d45ae9-69b0-442f-8862-910dbdb99a91",
   "metadata": {},
   "outputs": [],
   "source": [
    "# Compile the model\n",
    "model.compile(optimizer='adam', loss='binary_crossentropy', metrics=['accuracy'])"
   ]
  },
  {
   "cell_type": "code",
   "execution_count": null,
   "id": "25b87357-ae2f-42ca-8725-7ab9fc687142",
   "metadata": {},
   "outputs": [],
   "source": []
  },
  {
   "cell_type": "code",
   "execution_count": null,
   "id": "9d9a3ce0-46bb-4241-bc76-38865df46fd0",
   "metadata": {},
   "outputs": [],
   "source": []
  },
  {
   "cell_type": "code",
   "execution_count": null,
   "id": "02db6658-d6e3-476d-be98-08f2c3d69885",
   "metadata": {},
   "outputs": [],
   "source": []
  },
  {
   "cell_type": "code",
   "execution_count": null,
   "id": "6946813b-d7c3-459c-9602-2da596097aad",
   "metadata": {},
   "outputs": [],
   "source": []
  }
 ],
 "metadata": {
  "kernelspec": {
   "display_name": "Python 3 (ipykernel)",
   "language": "python",
   "name": "python3"
  },
  "language_info": {
   "codemirror_mode": {
    "name": "ipython",
    "version": 3
   },
   "file_extension": ".py",
   "mimetype": "text/x-python",
   "name": "python",
   "nbconvert_exporter": "python",
   "pygments_lexer": "ipython3",
   "version": "3.12.4"
  }
 },
 "nbformat": 4,
 "nbformat_minor": 5
}
