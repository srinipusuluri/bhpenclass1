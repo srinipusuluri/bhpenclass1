{
 "cells": [
  {
   "cell_type": "markdown",
   "id": "da535c30-4593-4bcf-a22a-f0870c2ed6bb",
   "metadata": {},
   "source": [
    "--------------------------\n",
    "#### ChromDB\n",
    "\n",
    "- add TF-IDF vectors into ChromaDB\n",
    "- Query the database\n",
    "----------------------------"
   ]
  },
  {
   "cell_type": "code",
   "execution_count": 1,
   "id": "f20c3296-b782-47e7-8748-1e9d460ecc26",
   "metadata": {},
   "outputs": [],
   "source": [
    "import pandas as pd"
   ]
  },
  {
   "cell_type": "markdown",
   "id": "3bf1a4c8-1106-4fed-8ba9-e15bcdccf083",
   "metadata": {},
   "source": [
    "Use **IMDB** dataset"
   ]
  },
  {
   "cell_type": "code",
   "execution_count": 2,
   "id": "b97b1c24-416b-418e-b3f2-23f0a58a87ad",
   "metadata": {},
   "outputs": [],
   "source": [
    "# Load the IMDb dataset\n",
    "file_path = r'D:\\AI-DATASETS\\02-MISC-large\\IMDB Dataset.csv'\n",
    "df = pd.read_csv(file_path)"
   ]
  },
  {
   "cell_type": "code",
   "execution_count": 3,
   "id": "f2a1e5a5-74df-4813-858f-e604045fb316",
   "metadata": {},
   "outputs": [
    {
     "data": {
      "text/plain": [
       "(50000, 2)"
      ]
     },
     "execution_count": 3,
     "metadata": {},
     "output_type": "execute_result"
    }
   ],
   "source": [
    "df.shape"
   ]
  },
  {
   "cell_type": "code",
   "execution_count": 4,
   "id": "3a81dcc5-2950-4f29-90f7-c7807c8347ec",
   "metadata": {},
   "outputs": [],
   "source": [
    "# Take only the first 1000 reviews\n",
    "reviews = df['review'].sample(1000).tolist()"
   ]
  },
  {
   "cell_type": "markdown",
   "id": "a125957c-e087-443a-8b14-284086a37eb7",
   "metadata": {},
   "source": [
    "#### Generate TF-IDF Vectors\n",
    "- Use scikit-learn's TfidfVectorizer to generate TF-IDF vectors for the movie reviews."
   ]
  },
  {
   "cell_type": "code",
   "execution_count": 5,
   "id": "b094b5b9-a42e-41a7-8227-e4008cc60b6d",
   "metadata": {},
   "outputs": [],
   "source": [
    "from sklearn.feature_extraction.text import TfidfVectorizer"
   ]
  },
  {
   "cell_type": "code",
   "execution_count": 6,
   "id": "f0694879-9775-4882-b05d-4a14908a6392",
   "metadata": {},
   "outputs": [],
   "source": [
    "# Initialize the TF-IDF vectorizer\n",
    "vectorizer = TfidfVectorizer(max_features=1000)  # Limiting to 1000 features for efficiency"
   ]
  },
  {
   "cell_type": "code",
   "execution_count": 7,
   "id": "29b2a39b-da8f-42c8-bd51-77b2cf6683c3",
   "metadata": {},
   "outputs": [],
   "source": [
    "# Generate TF-IDF vectors for the reviews\n",
    "tfidf_matrix = vectorizer.fit_transform(reviews)"
   ]
  },
  {
   "cell_type": "code",
   "execution_count": 8,
   "id": "5c794572-7d03-4165-b3b6-575d35857b16",
   "metadata": {},
   "outputs": [],
   "source": [
    "import chromadb\n",
    "\n",
    "from chromadb.config import Settings"
   ]
  },
  {
   "cell_type": "code",
   "execution_count": 9,
   "id": "57c226be-9dd4-49b3-9656-8b3ff5b2fd7f",
   "metadata": {},
   "outputs": [],
   "source": [
    "# Initialize ChromaDB client\n",
    "client = chromadb.Client(Settings(allow_reset = True))"
   ]
  },
  {
   "cell_type": "code",
   "execution_count": 10,
   "id": "ad81dc32-3ad2-4685-bb9b-48c26af91e1a",
   "metadata": {},
   "outputs": [
    {
     "name": "stdout",
     "output_type": "stream",
     "text": [
      "[]\n"
     ]
    }
   ],
   "source": [
    "# List all collections\n",
    "collections = client.list_collections()\n",
    "print([collection.name for collection in collections])"
   ]
  },
  {
   "cell_type": "code",
   "execution_count": 11,
   "id": "5af18d34-f586-43bd-8943-8faa94eeefe6",
   "metadata": {},
   "outputs": [],
   "source": [
    "# Create a collection to store TF-IDF vectors\n",
    "collection_name = client.get_or_create_collection(\"imdb_reviews\")"
   ]
  },
  {
   "cell_type": "code",
   "execution_count": 12,
   "id": "3cdce6a3-d030-440b-b2a6-fe3ce1a2cacb",
   "metadata": {},
   "outputs": [],
   "source": [
    "# Convert TF-IDF matrix to dense array and insert into ChromaDB\n",
    "tfidf_dense = tfidf_matrix.toarray()"
   ]
  },
  {
   "cell_type": "code",
   "execution_count": 13,
   "id": "e1179c7e-523c-42c6-9aa1-a7fd286ef22c",
   "metadata": {},
   "outputs": [],
   "source": [
    "# Add each review vector into ChromaDB\n",
    "for idx, vector in enumerate(tfidf_dense):\n",
    "    collection_name.add(\n",
    "        ids       =[str(idx)],                  # Unique ID for each review\n",
    "        embeddings=[vector],                    # The TF-IDF vector\n",
    "        metadatas =[{\"review\": reviews[idx]}],  # Store the actual review\n",
    "    )"
   ]
  },
  {
   "cell_type": "markdown",
   "id": "691e9fe2-d87a-4f60-8ec0-87b8c1247df5",
   "metadata": {},
   "source": [
    "- ids: Unique identifier for each review.\n",
    "- embeddings: The TF-IDF vectors.\n",
    "- metadatas: Metadata like the actual review text, which will be retrieved."
   ]
  },
  {
   "cell_type": "code",
   "execution_count": 16,
   "id": "e6134252-4a23-40a8-aab9-323c75165ba3",
   "metadata": {},
   "outputs": [
    {
     "data": {
      "text/plain": [
       "array([[0.06330038, 0.        , 0.        , ..., 0.        , 0.        ,\n",
       "        0.        ],\n",
       "       [0.        , 0.        , 0.        , ..., 0.        , 0.        ,\n",
       "        0.        ],\n",
       "       [0.        , 0.        , 0.        , ..., 0.        , 0.        ,\n",
       "        0.        ],\n",
       "       ...,\n",
       "       [0.        , 0.        , 0.        , ..., 0.        , 0.08488014,\n",
       "        0.        ],\n",
       "       [0.08795382, 0.        , 0.        , ..., 0.        , 0.        ,\n",
       "        0.        ],\n",
       "       [0.        , 0.        , 0.        , ..., 0.        , 0.        ,\n",
       "        0.        ]])"
      ]
     },
     "execution_count": 16,
     "metadata": {},
     "output_type": "execute_result"
    }
   ],
   "source": [
    "tfidf_dense"
   ]
  },
  {
   "cell_type": "markdown",
   "id": "5361051c-2d5a-40f4-9938-77ee7f831728",
   "metadata": {},
   "source": [
    "#### Querying ChromaDB with TF-IDF\n",
    "- query ChromaDB to retrieve similar reviews using a TF-IDF-based retriever."
   ]
  },
  {
   "cell_type": "code",
   "execution_count": 14,
   "id": "e08c7f15-f5b6-455d-bf39-2d24ac0f084e",
   "metadata": {},
   "outputs": [],
   "source": [
    "def query_chromadb(query_text, top_k=5):\n",
    "    # Convert the query to a TF-IDF vector\n",
    "    query_vector = vectorizer.transform([query_text]).toarray()[0]\n",
    "    \n",
    "    # Perform similarity search in ChromaDB\n",
    "    results = collection_name.query(\n",
    "        query_embeddings=[query_vector],  # The query vector\n",
    "        n_results       =top_k            # Number of results to return\n",
    "    )\n",
    "    \n",
    "    return results"
   ]
  },
  {
   "cell_type": "code",
   "execution_count": 17,
   "id": "a1b31d5e-b2a0-4030-88b2-3ca4dc5faa6f",
   "metadata": {},
   "outputs": [],
   "source": [
    "# Example query\n",
    "query_text = \"I love movies about space adventures\"\n",
    "result = query_chromadb(query_text)"
   ]
  },
  {
   "cell_type": "code",
   "execution_count": 18,
   "id": "b163ac68-26eb-4605-8abd-e1094a51dbeb",
   "metadata": {},
   "outputs": [
    {
     "data": {
      "text/plain": [
       "dict"
      ]
     },
     "execution_count": 18,
     "metadata": {},
     "output_type": "execute_result"
    }
   ],
   "source": [
    "type(result)"
   ]
  },
  {
   "cell_type": "code",
   "execution_count": 19,
   "id": "7a98f131-8f50-4485-9d9a-a2fdc76f7aee",
   "metadata": {},
   "outputs": [
    {
     "data": {
      "text/plain": [
       "dict_keys(['ids', 'distances', 'metadatas', 'embeddings', 'documents', 'uris', 'data', 'included'])"
      ]
     },
     "execution_count": 19,
     "metadata": {},
     "output_type": "execute_result"
    }
   ],
   "source": [
    "result.keys()"
   ]
  },
  {
   "cell_type": "code",
   "execution_count": 20,
   "id": "9b6d78f2-3713-4d04-846d-d487d6d0749e",
   "metadata": {},
   "outputs": [
    {
     "data": {
      "text/plain": [
       "[['932', '173', '362', '963', '442']]"
      ]
     },
     "execution_count": 20,
     "metadata": {},
     "output_type": "execute_result"
    }
   ],
   "source": [
    "result['ids']"
   ]
  },
  {
   "cell_type": "code",
   "execution_count": 21,
   "id": "ba9b3c13-4031-4b1b-b44b-c7a8eb22bf5d",
   "metadata": {},
   "outputs": [
    {
     "data": {
      "text/plain": [
       "[[1.2156418561935425,\n",
       "  1.5228118896484375,\n",
       "  1.6340508460998535,\n",
       "  1.6497654914855957,\n",
       "  1.6783223152160645]]"
      ]
     },
     "execution_count": 21,
     "metadata": {},
     "output_type": "execute_result"
    }
   ],
   "source": [
    "result['distances']"
   ]
  },
  {
   "cell_type": "code",
   "execution_count": 22,
   "id": "76c8834e-cdc4-4a9f-a741-2c8b2e07b515",
   "metadata": {},
   "outputs": [
    {
     "name": "stdout",
     "output_type": "stream",
     "text": [
      "This was such a great film. It was done with such beautiful design, such symmetry. I love the way the classical music tied in with the classical art of earth, space and beyond. It was such a fluent, and thought provoking masterpiece. I loved the way the monoliths never changed, although primate, earth and space did. I loved how it was a question of \"Do you need me/us now\"? The movie expressed desire, peace, love, curiosity, finesse, gentleness, courage and innocence. What more could you ask for from a mere movie? Perhaps a complement movie. Any appreciator of 2001: A Space Odyssey will find the movie 2010 is 2001's complement movie. 2010 is more story orientated than 2001.\n",
      "---\n",
      "I'm not a movie snob. I've liked lots of movies that critics hate, and I've hated movies that critics love. However, I have to agree with critics here--\"Galaxina\" is just substandard. Clearly intended to be a comedy, it only has a few scattered laughs. \"Galaxina\" has poor photography; it has poor special effects; it has some pretty poor acting; and the production values...well, the sets might as well have been made of cardboard.<br /><br />\"Galaxina\" tells the story of a spaceship whose crew is looking for a magical object called \"The Blue Star\". After a long voyage (and some very unconvincing space battles), the crew arrives at its destination, a sort of wild west alien world. There's a painfully unfunny cantina scene (clearly designed to be a spoof of the famous \"Star Wars\" scene), a chase involving space bikers, and a final getaway.<br /><br />The cast tries, but can't breathe life into this turkey. Stephen Macht and Avery Schreiber have done better work in other movies. James David Hinton is pretty good as a member of the spaceship's crew. The late Dorothy Stratten stars as the robot of title, and while she looks great, her role doesn't give her much of a chance to act.<br /><br />You might catch this film to see Dorothy Stratten. However, if you're looking for a good movie, you'll probably want to skip this one.\n",
      "---\n",
      "The Russian space station 'Avna' with a crew of four Russians and two Americans is threatening to re-enter the Earth's atmosphere in a matter of days. Russia asks for NASA's help in rescuing the stranded crew and NASA scrambles the space shuttle Atlantis. The NSA also have an interest in the 'Prometheus', a prototype microwave power source being tested aboard 'Avna' and organise for one of their men to be placed on the mission.<br /><br />That's the plot. Onto less important things. The space station and the shuttle are the same, blatantly obvious models used in 'Fallout', 'Memorial Day' and 'Dark Breed' (and a handful of other films, I suspect). The model effects are so obvious throughout the entire movie and make the film look very 1960s. The sets are a little better but are far too '80s for what is supposedly a brand new station built by an American company (which later comes in as part of a conspiracy to destroy 'Avna' and the 'Prometheus' and claim the insurance. The script has a few good moments (including Yuri's farewell and the little spiel at the end) but is otherwise fairly bland and sub-standard. The acting is okay; the only real standout performance comes from Alex Veadov who offers up some of the film's better dialogue. Michael Dudikoff is, surprisingly, one of the best parts about this film. Ice-T is Ice-T. 'Nuff said. The film offers a few surprises, though, that I don't wish to spoil.<br /><br />Certainly one of the better low-grade, contemporary-set sci-fi films of the last six years, but not the best. The film is watchable but the special effects and plot will probably put a lot of viewers off. Rent the other 'Stranded' sci-fi film instead.\n",
      "---\n",
      "Danny Boyle was not the first person to realise that zombies can run like the clappers. That honour belongs to Lifeforce, which is, of course, the greatest naked space vampire zombies from Halley's Comet running amok in London end-of-the-world movie ever made. Tobe Hooper may have made a lot of crap, but for this deliriously demented epic sci-fi horror he deserves a place among the immortals. Plus it offers space vampire Mathilda May, the best thing to come out of France since Simone Simon, spending the entire movie naked. Which she does very, very well. Just bear in mind that while she is the most overwhelmingly feminine presence anyone on Earth has ever encountered, she's also \"totally alien to this planet and our life form and totally dangerous.\" It's a pitch meeting I'd have loved to have sat in on: Astronauts from the British space program find three naked humanoid alien life forms inside a giant 150-mile long artichoke/umbrella shaped spaceship hidden in the tail of Halley's Comet filled with giant desiccated bats and bring them back to Earth with near apocalyptic results as they proceed to drain the population of London of their lifeforce amid much nudity, whirlpools of thunder and spit your coffee across the room direlogue (\"I've been in space for six months, and she looks perfect to me.\" \"Assume we know nothing, which is understating the matter.\" \"Don't worry, a naked woman is not going to get out of this complex.\"). Oh, and we'll get the writers of Alien and Blue Thunder to write it with uncredited rewrites by the writer of Mark of the Devil, The Sex Thief and Eskimo Nell and the director of The Jonestown Monster. Sounds like a winner, here's $22m  have fun. And they do, they do.<br /><br />True, there's enough promise in the raw material to have made something genuinely creepy and thought-provoking (at a time when AIDS hysteria was approaching its height, a sexually transmitted 'plague' offers ample opportunity for allegory), but in the hands of the Go-Go boys at Cannon, what could have been another Quatermass and the Pit quickly turns instead to be more Plan 10 From Outer Space. It's full-to-bursting with delirious inanity, be it Frank Finlay's hilarious death scene (\"Here I go!\"), Peter Firth's grand entrance (\"I'm Colonel Caine.\" \"From the SAS?\" discreetly shouts Michael Gothard across a room full of reporters: \"Gentlemen, that last remark was not for publication. This is a D-Notice situation\" he replies to the surprisingly obliging pressmen), the security guards offering Mathilda May's naked space vampire a nice biscuit to stop her escaping, reanimated bodies exploding into dust all over people, the sweaty Prime Minister sucking the life out of his secretary and London filling up with zombie nuns, stockbrokers and joggers as the city gets its most comprehensive on screen trashing since Mrs Gorgo lost junior at Battersea Funfair and went on the rampage. And that's not mentioning the \"This woman is a masochist! An extreme masochist!\" scene or the great stereophonic echo effect on the male vampire's \"It'll be a lot less terrifying if you just come to me\" line while a lead-stake wielding Peter Firth adopts his best Action Man voice to reply \"I'll do just that!\" In one scene alone you have a possessed Patrick Stewart embodying the female in our deeply confused astronaut hero's mind, Steve \"I-never-got-over-playing-Charlie-Manson\" Railsback and his amazing dancing eyebrows in full-on \"Helta-Skelta!\" mode trying to resist the temptation to kiss him, the inimitable Aubrey Morris (the only man who makes Freddie Jones look restrained) playing the Home Secretary Sir Percy Heseltine as a kind of demented Brian Rix, Peter Firth (one of those actors who always looks like he must have been a Doctor Who around the time no-one was watching it anymore) hamming up the blasé public school macho in the hope that no-one will ever see it and the peerless reaction shots of John Hallam as the male nurse who keeps on opening the door mid-psychic-tornado to bring in more drugs. As if they needed any more in this film. It's just a shame that Frank Finlay's mad-haired scientist who isn't qualified to certify death on alien life forms (a role originally intended for Klaus Kinski) missed out on the action in that one.<br /><br />No matter how mad you think the film is, it still manages to get madder still, whether it be a zombie pathologist (\"He too needs feeding\") exploding all over the Home secretary's suit, Patrick Stewart's blood and entrails forming a naked Mathilda May or the space vampires turning St Paul's Cathedral into the world's biggest laser-show to transport human souls from the London Underground to their geostationary mother ship. I loved every gloriously insane moment. In it's own truly unique way, this might be the greatest film ever made.<br /><br />The DVD offers the original 116-minute version that opened in the UK rather than the heavily edited 101-minute US version, which not only offers much more hilarity for your dollar, but also fully restores Henry Mancini's score to its original glory (the US version covered a lot of the gaps with additional cues by Michael Kamen and James Guthrie). Although a somewhat surprising choice at first sight, Mancini cut his teeth on many of the classic Universal sci-fi horrors of the 50s and his score is quite superb, with a terrific driving main title that offers a rare reminder of just how interesting he could be away from Blake Edwards. Sadly there's no more than a trailer by way of extras, though it would be nice to hope some day for a special edition with some of the deleted scenes from Hooper's originally intended 128-minute cut: from what's on display here, these might just offer even more comedy gold!\n",
      "---\n",
      "In the XXII century an architect by the name of Merchant (Bruce Ramsay) commandeers a space station, which he personally designed. As can be predicted a special force is sent to retake the expensive station and put Merchant into custody. Upon arrival they find him partaking in a weird ritual with the use of a mysterious cubical. During interrogation he reveals that they must let him finish, what he has started or else the hell he has released will bathe in blood... In order to convince the officers holding him captive he reminisces about his heritage, about the toymaker who built the box and about the reasons as to why he is here in space...<br /><br />The movie that is essentially the same to Hellraiser, that The Quickening was to Highlander. Something to be ignored and forgotten, as so it won't influence the lore of Hellraiser to much. By far the most trashy of the franchise with a much more low-grade feel to it than its predecessors (who let's face it were B or C class films).<br /><br />Acting at times seems to be influenced by a mid-budget porn-flick with wooden unbelievable performances, that actually have you thinking: So when are they going to undress and start with the intercourse? Surprisingly not much sex in the movie, albeit the introduction of the seductress-demon Angelique (a totally superfluous character that unnecessarily messes with what we know of the world of Hellraiser) offers ample opportunities for the love-making.<br /><br />Basically the movie consists of three abruptly pasted together separate short stories (one in the future, one in the present and one in the past) which lack focus and are rushed along in amateurish fashion. The end result is extremely poor, basically underlined by the fact you have no interest into what happens to any of the characters in the film.<br /><br />Some decent gore in the flick, but apart from that an utter failure.\n",
      "---\n"
     ]
    }
   ],
   "source": [
    "for idx, review in enumerate(result['metadatas'][0]):\n",
    "    print(review['review'])\n",
    "    print('---')"
   ]
  },
  {
   "cell_type": "code",
   "execution_count": null,
   "id": "edee1b3c-0b3c-4201-a365-2a25f4269955",
   "metadata": {},
   "outputs": [],
   "source": []
  }
 ],
 "metadata": {
  "kernelspec": {
   "display_name": "Python 3 (ipykernel)",
   "language": "python",
   "name": "python3"
  },
  "language_info": {
   "codemirror_mode": {
    "name": "ipython",
    "version": 3
   },
   "file_extension": ".py",
   "mimetype": "text/x-python",
   "name": "python",
   "nbconvert_exporter": "python",
   "pygments_lexer": "ipython3",
   "version": "3.12.4"
  }
 },
 "nbformat": 4,
 "nbformat_minor": 5
}
