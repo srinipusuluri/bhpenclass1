{
 "cells": [
  {
   "cell_type": "code",
   "execution_count": 1,
   "metadata": {
    "tags": []
   },
   "outputs": [
    {
     "name": "stderr",
     "output_type": "stream",
     "text": [
      "Matplotlib is building the font cache; this may take a moment.\n"
     ]
    },
    {
     "ename": "ImportError",
     "evalue": "cannot import name 'triu' from 'scipy.linalg' (D:\\ANACONDA\\Lib\\site-packages\\scipy\\linalg\\__init__.py)",
     "output_type": "error",
     "traceback": [
      "\u001b[1;31m---------------------------------------------------------------------------\u001b[0m",
      "\u001b[1;31mImportError\u001b[0m                               Traceback (most recent call last)",
      "Cell \u001b[1;32mIn[1], line 10\u001b[0m\n\u001b[0;32m      7\u001b[0m sns\u001b[38;5;241m.\u001b[39mset(style\u001b[38;5;241m=\u001b[39m\u001b[38;5;124m\"\u001b[39m\u001b[38;5;124mwhite\u001b[39m\u001b[38;5;124m\"\u001b[39m, color_codes\u001b[38;5;241m=\u001b[39m\u001b[38;5;28;01mTrue\u001b[39;00m)\n\u001b[0;32m      8\u001b[0m sns\u001b[38;5;241m.\u001b[39mset(font_scale\u001b[38;5;241m=\u001b[39m\u001b[38;5;241m1.5\u001b[39m)\n\u001b[1;32m---> 10\u001b[0m \u001b[38;5;28;01mfrom\u001b[39;00m \u001b[38;5;21;01mgensim\u001b[39;00m\u001b[38;5;21;01m.\u001b[39;00m\u001b[38;5;21;01mmodels\u001b[39;00m \u001b[38;5;28;01mimport\u001b[39;00m Word2Vec\n",
      "File \u001b[1;32mD:\\ANACONDA\\Lib\\site-packages\\gensim\\__init__.py:11\u001b[0m\n\u001b[0;32m      7\u001b[0m __version__ \u001b[38;5;241m=\u001b[39m \u001b[38;5;124m'\u001b[39m\u001b[38;5;124m4.3.2\u001b[39m\u001b[38;5;124m'\u001b[39m\n\u001b[0;32m      9\u001b[0m \u001b[38;5;28;01mimport\u001b[39;00m \u001b[38;5;21;01mlogging\u001b[39;00m\n\u001b[1;32m---> 11\u001b[0m \u001b[38;5;28;01mfrom\u001b[39;00m \u001b[38;5;21;01mgensim\u001b[39;00m \u001b[38;5;28;01mimport\u001b[39;00m parsing, corpora, matutils, interfaces, models, similarities, utils  \u001b[38;5;66;03m# noqa:F401\u001b[39;00m\n\u001b[0;32m     14\u001b[0m logger \u001b[38;5;241m=\u001b[39m logging\u001b[38;5;241m.\u001b[39mgetLogger(\u001b[38;5;124m'\u001b[39m\u001b[38;5;124mgensim\u001b[39m\u001b[38;5;124m'\u001b[39m)\n\u001b[0;32m     15\u001b[0m \u001b[38;5;28;01mif\u001b[39;00m \u001b[38;5;129;01mnot\u001b[39;00m logger\u001b[38;5;241m.\u001b[39mhandlers:  \u001b[38;5;66;03m# To ensure reload() doesn't add another one\u001b[39;00m\n",
      "File \u001b[1;32mD:\\ANACONDA\\Lib\\site-packages\\gensim\\corpora\\__init__.py:6\u001b[0m\n\u001b[0;32m      1\u001b[0m \u001b[38;5;124;03m\"\"\"\u001b[39;00m\n\u001b[0;32m      2\u001b[0m \u001b[38;5;124;03mThis package contains implementations of various streaming corpus I/O format.\u001b[39;00m\n\u001b[0;32m      3\u001b[0m \u001b[38;5;124;03m\"\"\"\u001b[39;00m\n\u001b[0;32m      5\u001b[0m \u001b[38;5;66;03m# bring corpus classes directly into package namespace, to save some typing\u001b[39;00m\n\u001b[1;32m----> 6\u001b[0m \u001b[38;5;28;01mfrom\u001b[39;00m \u001b[38;5;21;01m.\u001b[39;00m\u001b[38;5;21;01mindexedcorpus\u001b[39;00m \u001b[38;5;28;01mimport\u001b[39;00m IndexedCorpus  \u001b[38;5;66;03m# noqa:F401 must appear before the other classes\u001b[39;00m\n\u001b[0;32m      8\u001b[0m \u001b[38;5;28;01mfrom\u001b[39;00m \u001b[38;5;21;01m.\u001b[39;00m\u001b[38;5;21;01mmmcorpus\u001b[39;00m \u001b[38;5;28;01mimport\u001b[39;00m MmCorpus  \u001b[38;5;66;03m# noqa:F401\u001b[39;00m\n\u001b[0;32m      9\u001b[0m \u001b[38;5;28;01mfrom\u001b[39;00m \u001b[38;5;21;01m.\u001b[39;00m\u001b[38;5;21;01mbleicorpus\u001b[39;00m \u001b[38;5;28;01mimport\u001b[39;00m BleiCorpus  \u001b[38;5;66;03m# noqa:F401\u001b[39;00m\n",
      "File \u001b[1;32mD:\\ANACONDA\\Lib\\site-packages\\gensim\\corpora\\indexedcorpus.py:14\u001b[0m\n\u001b[0;32m     10\u001b[0m \u001b[38;5;28;01mimport\u001b[39;00m \u001b[38;5;21;01mlogging\u001b[39;00m\n\u001b[0;32m     12\u001b[0m \u001b[38;5;28;01mimport\u001b[39;00m \u001b[38;5;21;01mnumpy\u001b[39;00m\n\u001b[1;32m---> 14\u001b[0m \u001b[38;5;28;01mfrom\u001b[39;00m \u001b[38;5;21;01mgensim\u001b[39;00m \u001b[38;5;28;01mimport\u001b[39;00m interfaces, utils\n\u001b[0;32m     16\u001b[0m logger \u001b[38;5;241m=\u001b[39m logging\u001b[38;5;241m.\u001b[39mgetLogger(\u001b[38;5;18m__name__\u001b[39m)\n\u001b[0;32m     19\u001b[0m \u001b[38;5;28;01mclass\u001b[39;00m \u001b[38;5;21;01mIndexedCorpus\u001b[39;00m(interfaces\u001b[38;5;241m.\u001b[39mCorpusABC):\n",
      "File \u001b[1;32mD:\\ANACONDA\\Lib\\site-packages\\gensim\\interfaces.py:19\u001b[0m\n\u001b[0;32m      7\u001b[0m \u001b[38;5;124;03m\"\"\"Basic interfaces used across the whole Gensim package.\u001b[39;00m\n\u001b[0;32m      8\u001b[0m \n\u001b[0;32m      9\u001b[0m \u001b[38;5;124;03mThese interfaces are used for building corpora, model transformation and similarity queries.\u001b[39;00m\n\u001b[1;32m   (...)\u001b[0m\n\u001b[0;32m     14\u001b[0m \n\u001b[0;32m     15\u001b[0m \u001b[38;5;124;03m\"\"\"\u001b[39;00m\n\u001b[0;32m     17\u001b[0m \u001b[38;5;28;01mimport\u001b[39;00m \u001b[38;5;21;01mlogging\u001b[39;00m\n\u001b[1;32m---> 19\u001b[0m \u001b[38;5;28;01mfrom\u001b[39;00m \u001b[38;5;21;01mgensim\u001b[39;00m \u001b[38;5;28;01mimport\u001b[39;00m utils, matutils\n\u001b[0;32m     22\u001b[0m logger \u001b[38;5;241m=\u001b[39m logging\u001b[38;5;241m.\u001b[39mgetLogger(\u001b[38;5;18m__name__\u001b[39m)\n\u001b[0;32m     25\u001b[0m \u001b[38;5;28;01mclass\u001b[39;00m \u001b[38;5;21;01mCorpusABC\u001b[39;00m(utils\u001b[38;5;241m.\u001b[39mSaveLoad):\n",
      "File \u001b[1;32mD:\\ANACONDA\\Lib\\site-packages\\gensim\\matutils.py:20\u001b[0m\n\u001b[0;32m     18\u001b[0m \u001b[38;5;28;01mimport\u001b[39;00m \u001b[38;5;21;01mscipy\u001b[39;00m\u001b[38;5;21;01m.\u001b[39;00m\u001b[38;5;21;01msparse\u001b[39;00m\n\u001b[0;32m     19\u001b[0m \u001b[38;5;28;01mfrom\u001b[39;00m \u001b[38;5;21;01mscipy\u001b[39;00m\u001b[38;5;21;01m.\u001b[39;00m\u001b[38;5;21;01mstats\u001b[39;00m \u001b[38;5;28;01mimport\u001b[39;00m entropy\n\u001b[1;32m---> 20\u001b[0m \u001b[38;5;28;01mfrom\u001b[39;00m \u001b[38;5;21;01mscipy\u001b[39;00m\u001b[38;5;21;01m.\u001b[39;00m\u001b[38;5;21;01mlinalg\u001b[39;00m \u001b[38;5;28;01mimport\u001b[39;00m get_blas_funcs, triu\n\u001b[0;32m     21\u001b[0m \u001b[38;5;28;01mfrom\u001b[39;00m \u001b[38;5;21;01mscipy\u001b[39;00m\u001b[38;5;21;01m.\u001b[39;00m\u001b[38;5;21;01mlinalg\u001b[39;00m\u001b[38;5;21;01m.\u001b[39;00m\u001b[38;5;21;01mlapack\u001b[39;00m \u001b[38;5;28;01mimport\u001b[39;00m get_lapack_funcs\n\u001b[0;32m     22\u001b[0m \u001b[38;5;28;01mfrom\u001b[39;00m \u001b[38;5;21;01mscipy\u001b[39;00m\u001b[38;5;21;01m.\u001b[39;00m\u001b[38;5;21;01mspecial\u001b[39;00m \u001b[38;5;28;01mimport\u001b[39;00m psi  \u001b[38;5;66;03m# gamma function utils\u001b[39;00m\n",
      "\u001b[1;31mImportError\u001b[0m: cannot import name 'triu' from 'scipy.linalg' (D:\\ANACONDA\\Lib\\site-packages\\scipy\\linalg\\__init__.py)"
     ]
    }
   ],
   "source": [
    "# import plotting libraries\n",
    "import matplotlib.pyplot as plt\n",
    "\n",
    "from matplotlib import style\n",
    "\n",
    "import seaborn as sns\n",
    "sns.set(style=\"white\", color_codes=True)\n",
    "sns.set(font_scale=1.5)\n",
    "\n",
    "from gensim.models import Word2Vec"
   ]
  },
  {
   "cell_type": "code",
   "execution_count": 2,
   "metadata": {
    "tags": []
   },
   "outputs": [],
   "source": [
    "# define training data\n",
    "# sentences = [\n",
    "#     ['this', 'is', 'the', 'first', 'sentence', 'for', 'word2vec'],\n",
    "# \t['this', 'is', 'the', 'second', 'sentence'],\n",
    "# \t['yet', 'third', 'sentence'],\n",
    "# \t['one', 'fourth', 'sentence'],\n",
    "# \t['and', 'the', 'fifth', 'sentence']]"
   ]
  },
  {
   "cell_type": "code",
   "execution_count": 3,
   "metadata": {
    "tags": []
   },
   "outputs": [],
   "source": [
    "# define training data\n",
    "sentences = [\n",
    "    ['data', 'science', 'Machine', 'AI', 'learning', 'analytics', 'word2vec'],\n",
    "    ['Machine', 'AI', 'learning','Machine', 'AI', 'learning','Machine', 'AI', 'learning'],\n",
    "\t['soccer', 'rugby', 'playing', 'soccer field', 'big'],\n",
    "\t['yet', 'third', 'sentence'],\n",
    "\t['one', 'fourth', 'sentence'],\n",
    "\t['and', 'the', 'fifth', 'sentence']]"
   ]
  },
  {
   "cell_type": "code",
   "execution_count": 4,
   "metadata": {
    "tags": []
   },
   "outputs": [],
   "source": [
    "# train model\n",
    "model = Word2Vec(sentences=sentences, vector_size=2, min_count=1)"
   ]
  },
  {
   "cell_type": "code",
   "execution_count": 5,
   "metadata": {
    "tags": []
   },
   "outputs": [
    {
     "name": "stdout",
     "output_type": "stream",
     "text": [
      "Word2Vec(vocab=20, vector_size=2, alpha=0.025)\n"
     ]
    }
   ],
   "source": [
    "# summarize the loaded model\n",
    "print(model)"
   ]
  },
  {
   "cell_type": "code",
   "execution_count": 6,
   "metadata": {
    "tags": []
   },
   "outputs": [
    {
     "data": {
      "text/plain": [
       "['Machine',\n",
       " 'AI',\n",
       " 'learning',\n",
       " 'sentence',\n",
       " 'fifth',\n",
       " 'rugby',\n",
       " 'science',\n",
       " 'analytics',\n",
       " 'word2vec',\n",
       " 'soccer',\n",
       " 'playing',\n",
       " 'the',\n",
       " 'soccer field',\n",
       " 'big',\n",
       " 'yet',\n",
       " 'third',\n",
       " 'one',\n",
       " 'fourth',\n",
       " 'and',\n",
       " 'data']"
      ]
     },
     "execution_count": 6,
     "metadata": {},
     "output_type": "execute_result"
    }
   ],
   "source": [
    "# Get the list of words in the vocabulary\n",
    "words_in_vocab = model.wv.index_to_key\n",
    "words_in_vocab"
   ]
  },
  {
   "cell_type": "code",
   "execution_count": 7,
   "metadata": {
    "tags": []
   },
   "outputs": [
    {
     "data": {
      "text/plain": [
       "4"
      ]
     },
     "execution_count": 7,
     "metadata": {},
     "output_type": "execute_result"
    }
   ],
   "source": [
    "# Get the frequency of a specific word\n",
    "word = \"learning\"\n",
    "frequency = model.wv.get_vecattr(word, \"count\")\n",
    "frequency"
   ]
  },
  {
   "cell_type": "code",
   "execution_count": 8,
   "metadata": {
    "tags": []
   },
   "outputs": [
    {
     "data": {
      "text/plain": [
       "array([-0.4651475 , -0.35584044], dtype=float32)"
      ]
     },
     "execution_count": 8,
     "metadata": {},
     "output_type": "execute_result"
    }
   ],
   "source": [
    "# Get the vector for a specific word\n",
    "vector = model.wv.get_vector(word)\n",
    "vector"
   ]
  },
  {
   "cell_type": "code",
   "execution_count": 9,
   "metadata": {
    "tags": []
   },
   "outputs": [
    {
     "data": {
      "text/plain": [
       "array([-0.4651475 , -0.35584044], dtype=float32)"
      ]
     },
     "execution_count": 9,
     "metadata": {},
     "output_type": "execute_result"
    }
   ],
   "source": [
    "model.wv[word]"
   ]
  },
  {
   "cell_type": "code",
   "execution_count": 10,
   "metadata": {
    "tags": []
   },
   "outputs": [],
   "source": [
    "from scipy.spatial import distance"
   ]
  },
  {
   "cell_type": "code",
   "execution_count": 11,
   "metadata": {},
   "outputs": [
    {
     "data": {
      "text/plain": [
       "1.8276093006134033"
      ]
     },
     "execution_count": 11,
     "metadata": {},
     "output_type": "execute_result"
    }
   ],
   "source": [
    "# Compute the Cosine distance between 1-D arrays\n",
    "distance.cosine(model.wv['data'], model.wv['science'])"
   ]
  },
  {
   "cell_type": "code",
   "execution_count": 12,
   "metadata": {
    "tags": []
   },
   "outputs": [
    {
     "data": {
      "text/plain": [
       "-0.8276093006134033"
      ]
     },
     "execution_count": 12,
     "metadata": {},
     "output_type": "execute_result"
    }
   ],
   "source": [
    "cosine_sim = 1 - distance.cosine(model.wv['data'], model.wv['science'])\n",
    "cosine_sim"
   ]
  },
  {
   "cell_type": "markdown",
   "metadata": {},
   "source": [
    "A cosine similarity value of -0.8276093006134033 indicates that the two vectors being compared are somewhat dissimilar and have an angle of approximately 135 degrees between them in the vector space. "
   ]
  },
  {
   "cell_type": "code",
   "execution_count": 13,
   "metadata": {
    "tags": []
   },
   "outputs": [],
   "source": [
    "import numpy as np"
   ]
  },
  {
   "cell_type": "code",
   "execution_count": 14,
   "metadata": {
    "tags": []
   },
   "outputs": [
    {
     "name": "stdout",
     "output_type": "stream",
     "text": [
      "Cosine similarity is -0.8276093006134033\n",
      "Cosine distance   is 1.8276093006134033\n"
     ]
    }
   ],
   "source": [
    "# method - 2 - using numpy\n",
    "# manually compute cosine similarity\n",
    "dot = np.dot(model.wv['data'], model.wv['science'])\n",
    "norma = np.linalg.norm(model.wv['data'])\n",
    "normb = np.linalg.norm(model.wv['science'])\n",
    "cos = dot / (norma * normb)\n",
    "\n",
    "print(\"Cosine similarity is {}\".format(cos))\n",
    "print(\"Cosine distance   is {}\".format(1-cos))"
   ]
  },
  {
   "cell_type": "code",
   "execution_count": 15,
   "metadata": {
    "tags": []
   },
   "outputs": [],
   "source": [
    "# save model\n",
    "model.save('model.bin')"
   ]
  },
  {
   "cell_type": "code",
   "execution_count": 16,
   "metadata": {
    "tags": []
   },
   "outputs": [
    {
     "name": "stdout",
     "output_type": "stream",
     "text": [
      "Word2Vec(vocab=20, vector_size=2, alpha=0.025)\n"
     ]
    }
   ],
   "source": [
    "# load model\n",
    "new_model = Word2Vec.load('model.bin')\n",
    "print(new_model)"
   ]
  },
  {
   "cell_type": "code",
   "execution_count": 17,
   "metadata": {
    "tags": []
   },
   "outputs": [
    {
     "data": {
      "text/plain": [
       "array([[-0.02681136,  0.01182157],\n",
       "       [ 0.25516748,  0.45046365],\n",
       "       [-0.4651475 , -0.35584044],\n",
       "       [ 0.32294363,  0.4486494 ],\n",
       "       [-0.2507714 , -0.18816859],\n",
       "       [ 0.36928058, -0.07674848],\n",
       "       [-0.22683066,  0.32770258],\n",
       "       [-0.24300802, -0.09080088],\n",
       "       [ 0.14382899,  0.04959369],\n",
       "       [-0.4141709 , -0.47247273],\n",
       "       [ 0.3655883 ,  0.2535131 ],\n",
       "       [ 0.33788466,  0.03814328],\n",
       "       [ 0.31759265, -0.1702941 ],\n",
       "       [-0.0472302 ,  0.28839684],\n",
       "       [-0.37608188, -0.19680518],\n",
       "       [-0.37557912, -0.04650211],\n",
       "       [ 0.47690594, -0.36595833],\n",
       "       [-0.11668843, -0.09688705],\n",
       "       [ 0.40387183, -0.2965448 ],\n",
       "       [ 0.00225812, -0.2376867 ]], dtype=float32)"
      ]
     },
     "execution_count": 17,
     "metadata": {},
     "output_type": "execute_result"
    }
   ],
   "source": [
    "# Get all word vectors\n",
    "all_vectors = model.wv.vectors\n",
    "all_vectors"
   ]
  },
  {
   "cell_type": "markdown",
   "metadata": {},
   "source": [
    "#### Plot Word Vectors Using PCA"
   ]
  },
  {
   "cell_type": "code",
   "execution_count": 18,
   "metadata": {
    "tags": []
   },
   "outputs": [],
   "source": [
    "from sklearn.decomposition import PCA\n",
    "from matplotlib import pyplot\n",
    "%matplotlib inline"
   ]
  },
  {
   "cell_type": "code",
   "execution_count": 19,
   "metadata": {
    "tags": []
   },
   "outputs": [],
   "source": [
    "pca    = PCA(n_components=2)\n",
    "result = pca.fit_transform(all_vectors)"
   ]
  },
  {
   "cell_type": "code",
   "execution_count": 23,
   "metadata": {
    "tags": []
   },
   "outputs": [
    {
     "data": {
      "image/png": "[encoded data removed]",
      "text/plain": [
       "<Figure size 1400x600 with 1 Axes>"
      ]
     },
     "metadata": {},
     "output_type": "display_data"
    }
   ],
   "source": [
    "plt.figure(figsize=(14, 6))\n",
    "plt.scatter(result[:, 0], result[:, 1])\n",
    "\n",
    "# Get the list of words in the vocabulary\n",
    "words = model.wv.index_to_key\n",
    "\n",
    "\n",
    "for i, word in enumerate(words):\n",
    "\tpyplot.annotate(word, xy=(result[i, 0], result[i, 1]))"
   ]
  },
  {
   "cell_type": "markdown",
   "metadata": {},
   "source": [
    "#### Example 2"
   ]
  },
  {
   "cell_type": "markdown",
   "metadata": {},
   "source": [
    "#### Load Google’s Word2Vec Embedding\n",
    "- Training your own word vectors may be the best approach for a given NLP problem.\n",
    "\n",
    "- But it can take a long time, a fast computer with a lot of RAM and disk space, and perhaps some expertise in finessing the input data and training algorithm.\n",
    "\n",
    "- An alternative is to simply use an existing `pre-trained word embedding`.\n",
    "\n",
    "- A pre-trained model is nothing more than a file containing tokens and their associated word vectors. \n",
    "\n",
    "- The pre-trained Google `word2vec model` was trained on `Google news data` (about 100 billion words); it contains 3 million words and phrases and was fit using 300-dimensional word vectors.\n",
    "\n",
    "It is a 1.53 Gigabytes file. You can download it from here: GoogleNews-vectors-negative300.bin.gz https://drive.google.com/file/d/0B7XkCwpI5KDYNlNUTTlSS21pQmM/edit\n",
    "\n"
   ]
  },
  {
   "cell_type": "code",
   "execution_count": 20,
   "metadata": {
    "tags": []
   },
   "outputs": [],
   "source": [
    "from gensim.models import KeyedVectors"
   ]
  },
  {
   "cell_type": "code",
   "execution_count": 21,
   "metadata": {
    "tags": []
   },
   "outputs": [],
   "source": [
    "# load the google word2vec model\n",
    "filename = r'D:\\AI-DATASETS\\02-MISC-large\\Glove\\GoogleNews-vectors-negative300.bin'"
   ]
  },
  {
   "cell_type": "code",
   "execution_count": 22,
   "metadata": {
    "tags": []
   },
   "outputs": [],
   "source": [
    "model    = KeyedVectors.load_word2vec_format(filename, \n",
    "                                             binary= True, \n",
    "                                             limit = 100000)"
   ]
  },
  {
   "cell_type": "code",
   "execution_count": 23,
   "metadata": {
    "tags": []
   },
   "outputs": [
    {
     "data": {
      "text/plain": [
       "300"
      ]
     },
     "execution_count": 23,
     "metadata": {},
     "output_type": "execute_result"
    }
   ],
   "source": [
    "model.vector_size"
   ]
  },
  {
   "cell_type": "code",
   "execution_count": 24,
   "metadata": {
    "tags": []
   },
   "outputs": [
    {
     "name": "stdout",
     "output_type": "stream",
     "text": [
      "Vocabulary size: 100000\n"
     ]
    }
   ],
   "source": [
    "# Get the vocabulary size\n",
    "vocab_size = len(model.key_to_index)\n",
    "\n",
    "print(\"Vocabulary size:\", vocab_size)"
   ]
  },
  {
   "cell_type": "markdown",
   "metadata": {},
   "source": [
    "#### Examples"
   ]
  },
  {
   "cell_type": "markdown",
   "metadata": {},
   "source": [
    "calculate: (king - man) + woman = ?"
   ]
  },
  {
   "cell_type": "code",
   "execution_count": 25,
   "metadata": {
    "tags": []
   },
   "outputs": [
    {
     "data": {
      "text/plain": [
       "[('queen', 0.7118193507194519),\n",
       " ('monarch', 0.6189674139022827),\n",
       " ('princess', 0.5902431011199951),\n",
       " ('crown_prince', 0.5499460697174072),\n",
       " ('prince', 0.5377321839332581),\n",
       " ('kings', 0.5236844420433044),\n",
       " ('queens', 0.5181134343147278),\n",
       " ('sultan', 0.5098593831062317),\n",
       " ('monarchy', 0.5087411999702454),\n",
       " ('royal_palace', 0.5087166428565979)]"
      ]
     },
     "execution_count": 25,
     "metadata": {},
     "output_type": "execute_result"
    }
   ],
   "source": [
    "result = model.most_similar(positive=['woman', 'king'], negative=['man'], topn=10)\n",
    "\n",
    "result"
   ]
  },
  {
   "cell_type": "code",
   "execution_count": 26,
   "metadata": {
    "tags": []
   },
   "outputs": [
    {
     "data": {
      "text/plain": [
       "[('Saudi_Arabia', 0.7524830102920532),\n",
       " ('Saudi', 0.7031731009483337),\n",
       " ('Saudis', 0.6339676380157471),\n",
       " ('Saudi_Arabian', 0.6122680306434631)]"
      ]
     },
     "execution_count": 26,
     "metadata": {},
     "output_type": "execute_result"
    }
   ],
   "source": [
    "result = model.most_similar(positive=['India', 'Riyadh'], negative=['Bangalore'], topn=4)\n",
    "\n",
    "result"
   ]
  },
  {
   "cell_type": "markdown",
   "metadata": {},
   "source": [
    "what if the token is not in the model"
   ]
  },
  {
   "cell_type": "code",
   "execution_count": 27,
   "metadata": {
    "tags": []
   },
   "outputs": [
    {
     "data": {
      "text/plain": [
       "[('UK', 0.6248663067817688),\n",
       " ('Britain', 0.607151985168457),\n",
       " ('Europe', 0.5445290207862854),\n",
       " ('Asia', 0.5214443206787109)]"
      ]
     },
     "execution_count": 27,
     "metadata": {},
     "output_type": "execute_result"
    }
   ],
   "source": [
    "result = model.most_similar(positive=['India', 'London'], negative=['Delhi'], topn=4)\n",
    "\n",
    "result"
   ]
  },
  {
   "cell_type": "code",
   "execution_count": 28,
   "metadata": {
    "tags": []
   },
   "outputs": [
    {
     "data": {
      "text/plain": [
       "[('Pakistan', 0.7550593614578247),\n",
       " ('Bangladesh', 0.6441815495491028),\n",
       " ('Balochistan', 0.6238784790039062),\n",
       " ('Lahore', 0.6214929819107056)]"
      ]
     },
     "execution_count": 28,
     "metadata": {},
     "output_type": "execute_result"
    }
   ],
   "source": [
    "result = model.most_similar(positive=['India', 'Karachi'], negative=['Bangalore'], topn=4)\n",
    "\n",
    "result"
   ]
  },
  {
   "cell_type": "markdown",
   "metadata": {},
   "source": [
    "#### Example 3"
   ]
  },
  {
   "cell_type": "code",
   "execution_count": 68,
   "metadata": {
    "tags": []
   },
   "outputs": [],
   "source": [
    "import re  # For preprocessing\n",
    "import pandas as pd  # For data handling\n",
    "\n",
    "pd.set_option('display.max_colwidth', 120)\n",
    "\n",
    "from time import time  # To time our operations\n",
    "from collections import defaultdict  # For word frequency\n",
    "\n",
    "import spacy  # For preprocessing\n",
    "\n",
    "import logging  # Setting up the loggings to monitor gensim\n",
    "logging.basicConfig(format=\"%(levelname)s - %(asctime)s: %(message)s\", datefmt= '%H:%M:%S', level=logging.INFO)"
   ]
  },
  {
   "cell_type": "markdown",
   "metadata": {},
   "source": [
    "This dataset contains the characters, locations, episode details, and script lines for approximately 600 Simpsons episodes, dating back to 1989. It can be found here: https://www.kaggle.com/ambarish/fun-in-text-mining-with-simpsons/data (~25MB)"
   ]
  },
  {
   "cell_type": "code",
   "execution_count": 71,
   "metadata": {
    "tags": []
   },
   "outputs": [
    {
     "data": {
      "text/plain": [
       "(158314, 2)"
      ]
     },
     "execution_count": 71,
     "metadata": {},
     "output_type": "execute_result"
    }
   ],
   "source": [
    "df = pd.read_csv(r'D:\\AI-DATASETS\\02-MISC-large\\simpsons_dataset.csv')\n",
    "df.shape"
   ]
  },
  {
   "cell_type": "code",
   "execution_count": 73,
   "metadata": {
    "tags": []
   },
   "outputs": [
    {
     "data": {
      "text/html": [
       "<div>\n",
       "<style scoped>\n",
       "    .dataframe tbody tr th:only-of-type {\n",
       "        vertical-align: middle;\n",
       "    }\n",
       "\n",
       "    .dataframe tbody tr th {\n",
       "        vertical-align: top;\n",
       "    }\n",
       "\n",
       "    .dataframe thead th {\n",
       "        text-align: right;\n",
       "    }\n",
       "</style>\n",
       "<table border=\"1\" class=\"dataframe\">\n",
       "  <thead>\n",
       "    <tr style=\"text-align: right;\">\n",
       "      <th></th>\n",
       "      <th>raw_character_text</th>\n",
       "      <th>spoken_words</th>\n",
       "    </tr>\n",
       "  </thead>\n",
       "  <tbody>\n",
       "    <tr>\n",
       "      <th>122356</th>\n",
       "      <td>Bart Simpson</td>\n",
       "      <td>I wanted them till I got them! But this year I'm gettin' my dirt bike.</td>\n",
       "    </tr>\n",
       "    <tr>\n",
       "      <th>60515</th>\n",
       "      <td>Lisa Simpson</td>\n",
       "      <td>Got that right. / Durn tootin'. / Boy howdy.</td>\n",
       "    </tr>\n",
       "    <tr>\n",
       "      <th>10317</th>\n",
       "      <td>Laura Powers</td>\n",
       "      <td>Just follow me. Put your hand on my hip.</td>\n",
       "    </tr>\n",
       "    <tr>\n",
       "      <th>46885</th>\n",
       "      <td>Homer Simpson</td>\n",
       "      <td>If you're trying to scare me, it won't work. I'm one hundred percent focused on my goal. Hey, my hat has ear flaps!</td>\n",
       "    </tr>\n",
       "    <tr>\n",
       "      <th>87568</th>\n",
       "      <td>Nelson Muntz</td>\n",
       "      <td>Mom!</td>\n",
       "    </tr>\n",
       "  </tbody>\n",
       "</table>\n",
       "</div>"
      ],
      "text/plain": [
       "       raw_character_text  \\\n",
       "122356       Bart Simpson   \n",
       "60515        Lisa Simpson   \n",
       "10317        Laura Powers   \n",
       "46885       Homer Simpson   \n",
       "87568        Nelson Muntz   \n",
       "\n",
       "                                                                                                               spoken_words  \n",
       "122356                                               I wanted them till I got them! But this year I'm gettin' my dirt bike.  \n",
       "60515                                                                          Got that right. / Durn tootin'. / Boy howdy.  \n",
       "10317                                                                              Just follow me. Put your hand on my hip.  \n",
       "46885   If you're trying to scare me, it won't work. I'm one hundred percent focused on my goal. Hey, my hat has ear flaps!  \n",
       "87568                                                                                                                  Mom!  "
      ]
     },
     "execution_count": 73,
     "metadata": {},
     "output_type": "execute_result"
    }
   ],
   "source": [
    "df.sample(5)"
   ]
  },
  {
   "cell_type": "code",
   "execution_count": 73,
   "metadata": {
    "tags": []
   },
   "outputs": [
    {
     "data": {
      "text/plain": [
       "raw_character_text    17814\n",
       "spoken_words          26459\n",
       "dtype: int64"
      ]
     },
     "execution_count": 73,
     "metadata": {},
     "output_type": "execute_result"
    }
   ],
   "source": [
    "df.isnull().sum()"
   ]
  },
  {
   "cell_type": "code",
   "execution_count": 74,
   "metadata": {
    "tags": []
   },
   "outputs": [
    {
     "data": {
      "text/plain": [
       "raw_character_text    0\n",
       "spoken_words          0\n",
       "dtype: int64"
      ]
     },
     "execution_count": 74,
     "metadata": {},
     "output_type": "execute_result"
    }
   ],
   "source": [
    "# Removing the missing values:\n",
    "df = df.dropna().reset_index(drop=True)\n",
    "df.isnull().sum()"
   ]
  },
  {
   "cell_type": "markdown",
   "metadata": {},
   "source": [
    "#### Cleaning:\n",
    "\n",
    "We are lemmatizing and removing the stopwords and non-alphabetic characters for each line of dialogue."
   ]
  },
  {
   "cell_type": "code",
   "execution_count": 75,
   "metadata": {
    "tags": []
   },
   "outputs": [],
   "source": [
    "nlp = spacy.load('en_core_web_sm', disable=['ner', 'parser']) # disabling Named Entity Recognition for speed"
   ]
  },
  {
   "cell_type": "code",
   "execution_count": 76,
   "metadata": {
    "tags": []
   },
   "outputs": [],
   "source": [
    "def cleaning(doc):\n",
    "    # Lemmatizes and removes stopwords\n",
    "    # doc needs to be a spacy Doc object\n",
    "    txt = [token.lemma_ for token in doc if not token.is_stop]\n",
    "    \n",
    "    # Word2Vec uses context words to learn the vector representation of a target word,\n",
    "    # if a sentence is only one or two words long, the benefit for the training is very small\n",
    "    \n",
    "    if len(txt) > 2:\n",
    "        return ' '.join(txt)"
   ]
  },
  {
   "cell_type": "code",
   "execution_count": 77,
   "metadata": {
    "tags": []
   },
   "outputs": [
    {
     "name": "stdout",
     "output_type": "stream",
     "text": [
      "CPU times: total: 0 ns\n",
      "Wall time: 0 ns\n"
     ]
    }
   ],
   "source": [
    "%%time\n",
    "\n",
    "# Removes non-alphabetic characters:\n",
    "brief_cleaning = (re.sub(\"[^A-Za-z']+\", ' ', str(row)).lower() for row in df['spoken_words'])"
   ]
  },
  {
   "cell_type": "markdown",
   "metadata": {},
   "source": [
    "#### Taking advantage of spaCy .pipe() "
   ]
  },
  {
   "cell_type": "code",
   "execution_count": 78,
   "metadata": {
    "tags": []
   },
   "outputs": [
    {
     "name": "stdout",
     "output_type": "stream",
     "text": [
      "Time to clean up everything: 2.0 mins\n"
     ]
    }
   ],
   "source": [
    "%%time\n",
    "## takes about 3 mins\n",
    "t = time()\n",
    "\n",
    "txt = [cleaning(doc) for doc in nlp.pipe(brief_cleaning, batch_size=5000)]\n",
    "\n",
    "print('Time to clean up everything: {} mins'.format(round((time() - t) / 60, 2)))"
   ]
  },
  {
   "cell_type": "code",
   "execution_count": 79,
   "metadata": {
    "tags": []
   },
   "outputs": [
    {
     "data": {
      "text/plain": [
       "(85955, 1)"
      ]
     },
     "execution_count": 79,
     "metadata": {},
     "output_type": "execute_result"
    }
   ],
   "source": [
    "# Put the results in a DataFrame to remove missing values and duplicates:\n",
    "df_clean = pd.DataFrame({'clean': txt})\n",
    "df_clean = df_clean.dropna().drop_duplicates()\n",
    "\n",
    "df_clean.shape"
   ]
  },
  {
   "cell_type": "code",
   "execution_count": 80,
   "metadata": {
    "tags": []
   },
   "outputs": [
    {
     "data": {
      "text/html": [
       "<div>\n",
       "<style scoped>\n",
       "    .dataframe tbody tr th:only-of-type {\n",
       "        vertical-align: middle;\n",
       "    }\n",
       "\n",
       "    .dataframe tbody tr th {\n",
       "        vertical-align: top;\n",
       "    }\n",
       "\n",
       "    .dataframe thead th {\n",
       "        text-align: right;\n",
       "    }\n",
       "</style>\n",
       "<table border=\"1\" class=\"dataframe\">\n",
       "  <thead>\n",
       "    <tr style=\"text-align: right;\">\n",
       "      <th></th>\n",
       "      <th>clean</th>\n",
       "    </tr>\n",
       "  </thead>\n",
       "  <tbody>\n",
       "    <tr>\n",
       "      <th>65137</th>\n",
       "      <td>kickball mar write</td>\n",
       "    </tr>\n",
       "    <tr>\n",
       "      <th>23381</th>\n",
       "      <td>lisa simpson report principal office head lice inspection</td>\n",
       "    </tr>\n",
       "    <tr>\n",
       "      <th>126190</th>\n",
       "      <td>suit homer nighty night</td>\n",
       "    </tr>\n",
       "    <tr>\n",
       "      <th>115976</th>\n",
       "      <td>principle consistently place country prosperous time liberal liberal hang</td>\n",
       "    </tr>\n",
       "    <tr>\n",
       "      <th>103362</th>\n",
       "      <td>think say double x l real wakeup</td>\n",
       "    </tr>\n",
       "    <tr>\n",
       "      <th>126060</th>\n",
       "      <td>mom bart take picture butt</td>\n",
       "    </tr>\n",
       "    <tr>\n",
       "      <th>88670</th>\n",
       "      <td>oh tuna brain work way tv work hit</td>\n",
       "    </tr>\n",
       "    <tr>\n",
       "      <th>99823</th>\n",
       "      <td>bob measure face</td>\n",
       "    </tr>\n",
       "    <tr>\n",
       "      <th>65731</th>\n",
       "      <td>ready announce winner springfield th congressional district republican candidate krusty clown</td>\n",
       "    </tr>\n",
       "    <tr>\n",
       "      <th>83331</th>\n",
       "      <td>yeah uh say um think</td>\n",
       "    </tr>\n",
       "  </tbody>\n",
       "</table>\n",
       "</div>"
      ],
      "text/plain": [
       "                                                                                                clean\n",
       "65137                                                                              kickball mar write\n",
       "23381                                       lisa simpson report principal office head lice inspection\n",
       "126190                                                                        suit homer nighty night\n",
       "115976                      principle consistently place country prosperous time liberal liberal hang\n",
       "103362                                                               think say double x l real wakeup\n",
       "126060                                                                     mom bart take picture butt\n",
       "88670                                                              oh tuna brain work way tv work hit\n",
       "99823                                                                                bob measure face\n",
       "65731   ready announce winner springfield th congressional district republican candidate krusty clown\n",
       "83331                                                                            yeah uh say um think"
      ]
     },
     "execution_count": 80,
     "metadata": {},
     "output_type": "execute_result"
    }
   ],
   "source": [
    "df_clean.sample(10)"
   ]
  },
  {
   "cell_type": "markdown",
   "metadata": {},
   "source": [
    "#### Bigrams:\n",
    "We are using Gensim __Phrases__ package to automatically detect common phrases (bigrams) from a list of sentences."
   ]
  },
  {
   "cell_type": "code",
   "execution_count": 81,
   "metadata": {
    "tags": []
   },
   "outputs": [],
   "source": [
    "from gensim.models.phrases import Phrases, Phraser"
   ]
  },
  {
   "cell_type": "markdown",
   "metadata": {},
   "source": [
    "As Phrases() takes a list of list of words as input:"
   ]
  },
  {
   "cell_type": "code",
   "execution_count": 82,
   "metadata": {
    "tags": []
   },
   "outputs": [],
   "source": [
    "sent = [row.split() for row in df_clean['clean']]"
   ]
  },
  {
   "cell_type": "code",
   "execution_count": 83,
   "metadata": {
    "tags": []
   },
   "outputs": [
    {
     "name": "stderr",
     "output_type": "stream",
     "text": [
      "INFO - 17:03:22: collecting all words and their counts\n",
      "INFO - 17:03:22: PROGRESS: at sentence #0, processed 0 words and 0 word types\n",
      "INFO - 17:03:22: PROGRESS: at sentence #10000, processed 63557 words and 52723 word types\n",
      "INFO - 17:03:22: PROGRESS: at sentence #20000, processed 130936 words and 99612 word types\n",
      "INFO - 17:03:23: PROGRESS: at sentence #30000, processed 192961 words and 138181 word types\n",
      "INFO - 17:03:23: PROGRESS: at sentence #40000, processed 249832 words and 172156 word types\n",
      "INFO - 17:03:23: PROGRESS: at sentence #50000, processed 311269 words and 207943 word types\n",
      "INFO - 17:03:23: PROGRESS: at sentence #60000, processed 373578 words and 242950 word types\n",
      "INFO - 17:03:23: PROGRESS: at sentence #70000, processed 436424 words and 277852 word types\n",
      "INFO - 17:03:23: PROGRESS: at sentence #80000, processed 497887 words and 310927 word types\n",
      "INFO - 17:03:23: collected 329641 token types (unigram + bigrams) from a corpus of 537095 words and 85955 sentences\n",
      "INFO - 17:03:23: merged Phrases<329641 vocab, min_count=30, threshold=10.0, max_vocab_size=40000000>\n",
      "INFO - 17:03:23: Phrases lifecycle event {'msg': 'built Phrases<329641 vocab, min_count=30, threshold=10.0, max_vocab_size=40000000> in 0.94s', 'datetime': '2024-02-06T17:03:23.582428', 'gensim': '4.3.0', 'python': '3.11.5 | packaged by Anaconda, Inc. | (main, Sep 11 2023, 13:26:23) [MSC v.1916 64 bit (AMD64)]', 'platform': 'Windows-10-10.0.22621-SP0', 'event': 'created'}\n"
     ]
    }
   ],
   "source": [
    "phrases = Phrases(sent, min_count=30, progress_per=10000)"
   ]
  },
  {
   "cell_type": "markdown",
   "metadata": {},
   "source": [
    "Transform the corpus based on the bigrams detected:"
   ]
  },
  {
   "cell_type": "code",
   "execution_count": 84,
   "metadata": {
    "tags": []
   },
   "outputs": [],
   "source": [
    "sentences = phrases[sent]"
   ]
  },
  {
   "cell_type": "markdown",
   "metadata": {},
   "source": [
    "#### Most Frequent Words:\n",
    "Mainly a sanity check of the effectiveness of the lemmatization, removal of stopwords, and addition of bigrams."
   ]
  },
  {
   "cell_type": "code",
   "execution_count": 85,
   "metadata": {
    "tags": []
   },
   "outputs": [
    {
     "data": {
      "text/plain": [
       "29694"
      ]
     },
     "execution_count": 85,
     "metadata": {},
     "output_type": "execute_result"
    }
   ],
   "source": [
    "word_freq = defaultdict(int)\n",
    "\n",
    "for sent in sentences:\n",
    "    for i in sent:\n",
    "        word_freq[i] += 1\n",
    "        \n",
    "len(word_freq)"
   ]
  },
  {
   "cell_type": "code",
   "execution_count": 86,
   "metadata": {
    "tags": []
   },
   "outputs": [
    {
     "data": {
      "text/plain": [
       "['oh', 'like', 'know', 'get', 'hey', 'think', 'come', 'right', 'look', 'want']"
      ]
     },
     "execution_count": 86,
     "metadata": {},
     "output_type": "execute_result"
    }
   ],
   "source": [
    "sorted(word_freq, key=word_freq.get, reverse=True)[:10]"
   ]
  },
  {
   "cell_type": "markdown",
   "metadata": {},
   "source": [
    "#### Training the model\n",
    "Gensim Word2Vec Implementation:"
   ]
  },
  {
   "cell_type": "code",
   "execution_count": 87,
   "metadata": {
    "tags": []
   },
   "outputs": [],
   "source": [
    "import multiprocessing\n",
    "\n",
    "from gensim.models import Word2Vec"
   ]
  },
  {
   "cell_type": "markdown",
   "metadata": {},
   "source": [
    "separate the training in 3 distinctive steps for clarity and monitoring.\n",
    "\n",
    "1. Word2Vec():\n",
    "In this first step, set up the parameters of the model one-by-one.\n",
    "do not supply the parameter sentences, and therefore leave the model uninitialized, purposefully.\n",
    "\n",
    "2. build_vocab():\n",
    "Here it builds the vocabulary from a sequence of sentences and thus initialized the model.\n",
    "With the loggings, we can follow the progress and even more important, the effect of __min_count__ and __sample__ on the word corpus. \n",
    "\n",
    "3. train():\n",
    "Finally, trains the model.\n",
    "The loggings here are mainly useful for monitoring, making sure that no threads are executed instantaneously."
   ]
  },
  {
   "cell_type": "code",
   "execution_count": 88,
   "metadata": {
    "tags": []
   },
   "outputs": [
    {
     "data": {
      "text/plain": [
       "4"
      ]
     },
     "execution_count": 88,
     "metadata": {},
     "output_type": "execute_result"
    }
   ],
   "source": [
    "cores = multiprocessing.cpu_count() # Count the number of cores in a computer\n",
    "cores"
   ]
  },
  {
   "cell_type": "markdown",
   "metadata": {},
   "source": [
    "#### The parameters:\n",
    "- min_count = int - \n",
    "\n",
    "Ignores all words with total absolute frequency lower than this - (2, 100)\n",
    "\n",
    "- window = int - \n",
    "\n",
    "The maximum distance between the current and predicted word within a sentence. E.g. window words on the left and window words on the left of our target - (2, 10)\n",
    "\n",
    "- size = int - \n",
    "\n",
    "Dimensionality of the feature vectors. - (50, 300)\n",
    "\n",
    "- sample = float - \n",
    "\n",
    "The threshold for configuring which higher-frequency words are randomly downsampled. Highly influencial. - (0, 1e-5)\n",
    "\n",
    "- alpha = float - \n",
    "\n",
    "The initial learning rate - (0.01, 0.05)\n",
    "\n",
    "- min_alpha = float - \n",
    "\n",
    "Learning rate will linearly drop to min_alpha as training progresses. To set it: alpha - (min_alpha * epochs) ~ 0.00\n",
    "\n",
    "-"
   ]
  },
  {
   "cell_type": "code",
   "execution_count": 89,
   "metadata": {
    "tags": []
   },
   "outputs": [
    {
     "name": "stderr",
     "output_type": "stream",
     "text": [
      "INFO - 17:04:06: Word2Vec lifecycle event {'params': 'Word2Vec<vocab=0, vector_size=300, alpha=0.03>', 'datetime': '2024-02-06T17:04:06.625178', 'gensim': '4.3.0', 'python': '3.11.5 | packaged by Anaconda, Inc. | (main, Sep 11 2023, 13:26:23) [MSC v.1916 64 bit (AMD64)]', 'platform': 'Windows-10-10.0.22621-SP0', 'event': 'created'}\n"
     ]
    }
   ],
   "source": [
    "w2v_model = Word2Vec(min_count=20,\n",
    "                     window=2,\n",
    "                     vector_size=300,\n",
    "                     sample=6e-5, \n",
    "                     alpha=0.03, \n",
    "                     min_alpha=0.0007, \n",
    "                     negative=20,\n",
    "                     workers=cores-1)"
   ]
  },
  {
   "cell_type": "markdown",
   "metadata": {},
   "source": [
    "### Building the Vocabulary Table:\n",
    "Word2Vec requires us to build the vocabulary table (simply digesting all the words and filtering out the unique words, and doing some basic counts on them):"
   ]
  },
  {
   "cell_type": "code",
   "execution_count": 90,
   "metadata": {
    "tags": []
   },
   "outputs": [
    {
     "name": "stderr",
     "output_type": "stream",
     "text": [
      "INFO - 17:04:21: collecting all words and their counts\n",
      "INFO - 17:04:21: PROGRESS: at sentence #0, processed 0 words, keeping 0 word types\n",
      "INFO - 17:04:21: PROGRESS: at sentence #10000, processed 61697 words, keeping 9518 word types\n",
      "INFO - 17:04:22: PROGRESS: at sentence #20000, processed 127312 words, keeping 14384 word types\n",
      "INFO - 17:04:22: PROGRESS: at sentence #30000, processed 187772 words, keeping 17442 word types\n",
      "INFO - 17:04:22: PROGRESS: at sentence #40000, processed 243265 words, keeping 20121 word types\n",
      "INFO - 17:04:22: PROGRESS: at sentence #50000, processed 303120 words, keeping 22551 word types\n",
      "INFO - 17:04:22: PROGRESS: at sentence #60000, processed 363858 words, keeping 24820 word types\n",
      "INFO - 17:04:22: PROGRESS: at sentence #70000, processed 425311 words, keeping 26987 word types\n",
      "INFO - 17:04:23: PROGRESS: at sentence #80000, processed 485433 words, keeping 28822 word types\n",
      "INFO - 17:04:23: collected 29694 word types from a corpus of 523538 raw words and 85955 sentences\n",
      "INFO - 17:04:23: Creating a fresh vocabulary\n",
      "INFO - 17:04:23: Word2Vec lifecycle event {'msg': 'effective_min_count=20 retains 3325 unique words (11.20% of original 29694, drops 26369)', 'datetime': '2024-02-06T17:04:23.270148', 'gensim': '4.3.0', 'python': '3.11.5 | packaged by Anaconda, Inc. | (main, Sep 11 2023, 13:26:23) [MSC v.1916 64 bit (AMD64)]', 'platform': 'Windows-10-10.0.22621-SP0', 'event': 'prepare_vocab'}\n",
      "INFO - 17:04:23: Word2Vec lifecycle event {'msg': 'effective_min_count=20 leaves 438016 word corpus (83.66% of original 523538, drops 85522)', 'datetime': '2024-02-06T17:04:23.271149', 'gensim': '4.3.0', 'python': '3.11.5 | packaged by Anaconda, Inc. | (main, Sep 11 2023, 13:26:23) [MSC v.1916 64 bit (AMD64)]', 'platform': 'Windows-10-10.0.22621-SP0', 'event': 'prepare_vocab'}\n",
      "INFO - 17:04:23: deleting the raw counts dictionary of 29694 items\n",
      "INFO - 17:04:23: sample=6e-05 downsamples 1198 most-common words\n",
      "INFO - 17:04:23: Word2Vec lifecycle event {'msg': 'downsampling leaves estimated 199427.65110464947 word corpus (45.5%% of prior 438016)', 'datetime': '2024-02-06T17:04:23.296452', 'gensim': '4.3.0', 'python': '3.11.5 | packaged by Anaconda, Inc. | (main, Sep 11 2023, 13:26:23) [MSC v.1916 64 bit (AMD64)]', 'platform': 'Windows-10-10.0.22621-SP0', 'event': 'prepare_vocab'}\n",
      "INFO - 17:04:23: estimated required memory for 3325 words and 300 dimensions: 9642500 bytes\n",
      "INFO - 17:04:23: resetting layer weights\n",
      "INFO - 17:04:23: Word2Vec lifecycle event {'update': False, 'trim_rule': 'None', 'datetime': '2024-02-06T17:04:23.328305', 'gensim': '4.3.0', 'python': '3.11.5 | packaged by Anaconda, Inc. | (main, Sep 11 2023, 13:26:23) [MSC v.1916 64 bit (AMD64)]', 'platform': 'Windows-10-10.0.22621-SP0', 'event': 'build_vocab'}\n"
     ]
    },
    {
     "name": "stdout",
     "output_type": "stream",
     "text": [
      "Time to build vocab: 0.03 mins\n"
     ]
    }
   ],
   "source": [
    "t = time()\n",
    "\n",
    "w2v_model.build_vocab(sentences, progress_per=10000)\n",
    "\n",
    "print('Time to build vocab: {} mins'.format(round((time() - t) / 60, 2)))"
   ]
  },
  {
   "cell_type": "markdown",
   "metadata": {},
   "source": [
    "### Training of the model:\n",
    "Parameters of the training:\n",
    "\n",
    "total_examples = int - Count of sentences;\n",
    "\n",
    "epochs = int - Number of iterations (epochs) over the corpus - [10, 20, 30]"
   ]
  },
  {
   "cell_type": "code",
   "execution_count": 91,
   "metadata": {
    "tags": []
   },
   "outputs": [
    {
     "name": "stderr",
     "output_type": "stream",
     "text": [
      "INFO - 17:04:44: Word2Vec lifecycle event {'msg': 'training model with 3 workers on 3325 vocabulary and 300 features, using sg=0 hs=0 sample=6e-05 negative=20 window=2 shrink_windows=True', 'datetime': '2024-02-06T17:04:44.341384', 'gensim': '4.3.0', 'python': '3.11.5 | packaged by Anaconda, Inc. | (main, Sep 11 2023, 13:26:23) [MSC v.1916 64 bit (AMD64)]', 'platform': 'Windows-10-10.0.22621-SP0', 'event': 'train'}\n",
      "INFO - 17:04:45: EPOCH 0 - PROGRESS: at 31.40% examples, 62346 words/s, in_qsize 0, out_qsize 1\n",
      "INFO - 17:04:46: EPOCH 0 - PROGRESS: at 84.29% examples, 82424 words/s, in_qsize 5, out_qsize 0\n",
      "INFO - 17:04:46: EPOCH 0: training on 523538 raw words (199289 effective words) took 2.1s, 95501 effective words/s\n",
      "INFO - 17:04:47: EPOCH 1 - PROGRESS: at 51.81% examples, 102140 words/s, in_qsize 5, out_qsize 0\n",
      "INFO - 17:04:48: EPOCH 1: training on 523538 raw words (199607 effective words) took 1.6s, 127598 effective words/s\n",
      "INFO - 17:04:49: EPOCH 2 - PROGRESS: at 53.79% examples, 103167 words/s, in_qsize 4, out_qsize 2\n",
      "INFO - 17:04:49: EPOCH 2: training on 523538 raw words (199461 effective words) took 1.5s, 134872 effective words/s\n",
      "INFO - 17:04:50: EPOCH 3 - PROGRESS: at 45.83% examples, 80354 words/s, in_qsize 4, out_qsize 0\n",
      "INFO - 17:04:51: EPOCH 3: training on 523538 raw words (199434 effective words) took 1.8s, 110161 effective words/s\n",
      "INFO - 17:04:52: EPOCH 4 - PROGRESS: at 61.41% examples, 117159 words/s, in_qsize 1, out_qsize 1\n",
      "INFO - 17:04:53: EPOCH 4: training on 523538 raw words (199102 effective words) took 1.7s, 120532 effective words/s\n",
      "INFO - 17:04:54: EPOCH 5 - PROGRESS: at 49.79% examples, 94380 words/s, in_qsize 5, out_qsize 1\n",
      "INFO - 17:04:54: EPOCH 5: training on 523538 raw words (199283 effective words) took 1.6s, 123530 effective words/s\n",
      "INFO - 17:04:55: EPOCH 6 - PROGRESS: at 49.84% examples, 81288 words/s, in_qsize 5, out_qsize 0\n",
      "INFO - 17:04:56: EPOCH 6: training on 523538 raw words (199104 effective words) took 1.8s, 110591 effective words/s\n",
      "INFO - 17:04:57: EPOCH 7 - PROGRESS: at 57.55% examples, 112501 words/s, in_qsize 4, out_qsize 0\n",
      "INFO - 17:04:58: EPOCH 7: training on 523538 raw words (199603 effective words) took 1.6s, 122736 effective words/s\n",
      "INFO - 17:04:59: EPOCH 8 - PROGRESS: at 39.39% examples, 77624 words/s, in_qsize 5, out_qsize 1\n",
      "INFO - 17:05:00: EPOCH 8: training on 523538 raw words (199190 effective words) took 1.8s, 110011 effective words/s\n",
      "INFO - 17:05:01: EPOCH 9 - PROGRESS: at 53.71% examples, 79658 words/s, in_qsize 4, out_qsize 0\n",
      "INFO - 17:05:01: EPOCH 9: training on 523538 raw words (199397 effective words) took 1.9s, 104561 effective words/s\n",
      "INFO - 17:05:03: EPOCH 10 - PROGRESS: at 53.71% examples, 103364 words/s, in_qsize 6, out_qsize 0\n",
      "INFO - 17:05:03: EPOCH 10: training on 523538 raw words (199085 effective words) took 1.5s, 128891 effective words/s\n",
      "INFO - 17:05:04: EPOCH 11 - PROGRESS: at 57.55% examples, 109074 words/s, in_qsize 5, out_qsize 0\n",
      "INFO - 17:05:05: EPOCH 11: training on 523538 raw words (199631 effective words) took 1.6s, 127945 effective words/s\n",
      "INFO - 17:05:06: EPOCH 12 - PROGRESS: at 53.71% examples, 102292 words/s, in_qsize 5, out_qsize 1\n",
      "INFO - 17:05:07: EPOCH 12: training on 523538 raw words (199635 effective words) took 1.9s, 106546 effective words/s\n",
      "INFO - 17:05:08: EPOCH 13 - PROGRESS: at 59.46% examples, 109742 words/s, in_qsize 5, out_qsize 0\n",
      "INFO - 17:05:08: EPOCH 13: training on 523538 raw words (199767 effective words) took 1.8s, 113536 effective words/s\n",
      "INFO - 17:05:09: EPOCH 14 - PROGRESS: at 53.71% examples, 97113 words/s, in_qsize 4, out_qsize 0\n",
      "INFO - 17:05:10: EPOCH 14: training on 523538 raw words (199769 effective words) took 1.8s, 113612 effective words/s\n",
      "INFO - 17:05:11: EPOCH 15 - PROGRESS: at 41.71% examples, 82387 words/s, in_qsize 5, out_qsize 1\n",
      "INFO - 17:05:12: EPOCH 15: training on 523538 raw words (199457 effective words) took 2.0s, 101057 effective words/s\n",
      "INFO - 17:05:13: EPOCH 16 - PROGRESS: at 47.73% examples, 94357 words/s, in_qsize 4, out_qsize 1\n",
      "INFO - 17:05:14: EPOCH 16: training on 523538 raw words (199891 effective words) took 1.7s, 118353 effective words/s\n",
      "INFO - 17:05:15: EPOCH 17 - PROGRESS: at 53.71% examples, 100982 words/s, in_qsize 5, out_qsize 1\n",
      "INFO - 17:05:15: EPOCH 17: training on 523538 raw words (199507 effective words) took 1.5s, 129337 effective words/s\n",
      "INFO - 17:05:16: EPOCH 18 - PROGRESS: at 53.71% examples, 103603 words/s, in_qsize 6, out_qsize 0\n",
      "INFO - 17:05:17: EPOCH 18: training on 523538 raw words (199407 effective words) took 1.5s, 128902 effective words/s\n",
      "INFO - 17:05:18: EPOCH 19 - PROGRESS: at 35.35% examples, 67737 words/s, in_qsize 6, out_qsize 0\n",
      "INFO - 17:05:19: EPOCH 19: training on 523538 raw words (199496 effective words) took 1.9s, 106011 effective words/s\n",
      "INFO - 17:05:20: EPOCH 20 - PROGRESS: at 55.69% examples, 105161 words/s, in_qsize 5, out_qsize 0\n",
      "INFO - 17:05:20: EPOCH 20: training on 523538 raw words (199020 effective words) took 1.6s, 126069 effective words/s\n",
      "INFO - 17:05:21: EPOCH 21 - PROGRESS: at 53.71% examples, 105143 words/s, in_qsize 4, out_qsize 1\n",
      "INFO - 17:05:22: EPOCH 21: training on 523538 raw words (199197 effective words) took 1.5s, 129842 effective words/s\n",
      "INFO - 17:05:23: EPOCH 22 - PROGRESS: at 31.40% examples, 61646 words/s, in_qsize 5, out_qsize 1\n",
      "INFO - 17:05:24: EPOCH 22: training on 523538 raw words (199371 effective words) took 2.0s, 101584 effective words/s\n",
      "INFO - 17:05:25: EPOCH 23 - PROGRESS: at 55.57% examples, 102963 words/s, in_qsize 5, out_qsize 0\n",
      "INFO - 17:05:25: EPOCH 23: training on 523538 raw words (199289 effective words) took 1.6s, 126042 effective words/s\n",
      "INFO - 17:05:26: EPOCH 24 - PROGRESS: at 49.86% examples, 98336 words/s, in_qsize 6, out_qsize 0\n",
      "INFO - 17:05:27: EPOCH 24: training on 523538 raw words (199658 effective words) took 1.6s, 127840 effective words/s\n",
      "INFO - 17:05:28: EPOCH 25 - PROGRESS: at 29.46% examples, 58943 words/s, in_qsize 5, out_qsize 1\n",
      "INFO - 17:05:29: EPOCH 25: training on 523538 raw words (199805 effective words) took 1.9s, 106220 effective words/s\n",
      "INFO - 17:05:30: EPOCH 26 - PROGRESS: at 53.71% examples, 103331 words/s, in_qsize 5, out_qsize 0\n",
      "INFO - 17:05:30: EPOCH 26: training on 523538 raw words (199380 effective words) took 1.5s, 130347 effective words/s\n",
      "INFO - 17:05:32: EPOCH 27 - PROGRESS: at 55.69% examples, 104979 words/s, in_qsize 6, out_qsize 0\n",
      "INFO - 17:05:32: EPOCH 27: training on 523538 raw words (199658 effective words) took 1.6s, 128663 effective words/s\n",
      "INFO - 17:05:33: EPOCH 28 - PROGRESS: at 35.36% examples, 68856 words/s, in_qsize 4, out_qsize 2\n",
      "INFO - 17:05:34: EPOCH 28: training on 523538 raw words (199671 effective words) took 1.8s, 109381 effective words/s\n",
      "INFO - 17:05:35: EPOCH 29 - PROGRESS: at 57.55% examples, 104226 words/s, in_qsize 6, out_qsize 0\n",
      "INFO - 17:05:35: EPOCH 29: training on 523538 raw words (199877 effective words) took 1.6s, 128604 effective words/s\n",
      "INFO - 17:05:35: Word2Vec lifecycle event {'msg': 'training on 15706140 raw words (5984041 effective words) took 51.6s, 115895 effective words/s', 'datetime': '2024-02-06T17:05:35.977154', 'gensim': '4.3.0', 'python': '3.11.5 | packaged by Anaconda, Inc. | (main, Sep 11 2023, 13:26:23) [MSC v.1916 64 bit (AMD64)]', 'platform': 'Windows-10-10.0.22621-SP0', 'event': 'train'}\n"
     ]
    },
    {
     "name": "stdout",
     "output_type": "stream",
     "text": [
      "Time to train the model: 0.86 mins\n",
      "CPU times: total: 32 s\n",
      "Wall time: 51.6 s\n"
     ]
    }
   ],
   "source": [
    "%%time\n",
    "t = time()\n",
    "\n",
    "w2v_model.train(sentences, total_examples=w2v_model.corpus_count, epochs=30, report_delay=1)\n",
    "\n",
    "print('Time to train the model: {} mins'.format(round((time() - t) / 60, 2)))"
   ]
  },
  {
   "cell_type": "code",
   "execution_count": 92,
   "metadata": {
    "tags": []
   },
   "outputs": [
    {
     "name": "stderr",
     "output_type": "stream",
     "text": [
      "C:\\Users\\bhupe\\AppData\\Local\\Temp\\ipykernel_23860\\1624602193.py:3: DeprecationWarning: Call to deprecated `init_sims` (Gensim 4.0.0 implemented internal optimizations that make calls to init_sims() unnecessary. init_sims() is now obsoleted and will be completely removed in future versions. See https://github.com/RaRe-Technologies/gensim/wiki/Migrating-from-Gensim-3.x-to-4).\n",
      "  w2v_model.init_sims(replace=True)\n",
      "WARNING - 17:06:46: destructive init_sims(replace=True) deprecated & no longer required for space-efficiency\n"
     ]
    }
   ],
   "source": [
    "# calling init_sims(), which will make the model much more memory-efficient:\n",
    "\n",
    "w2v_model.init_sims(replace=True)"
   ]
  },
  {
   "cell_type": "markdown",
   "metadata": {},
   "source": [
    "#### Exploring the model\n",
    "Most similar to:\n",
    "Here, we will ask our model to find the word most similar to some of the most iconic characters of the Simpsons!"
   ]
  },
  {
   "cell_type": "code",
   "execution_count": 93,
   "metadata": {
    "tags": []
   },
   "outputs": [
    {
     "data": {
      "text/plain": [
       "[('frost', 0.6421639919281006),\n",
       " ('strength', 0.6224149465560913),\n",
       " ('jewel', 0.6170170307159424),\n",
       " ('que', 0.6050398349761963),\n",
       " ('fantastic', 0.6038108468055725),\n",
       " ('product', 0.5898723006248474),\n",
       " ('farewell', 0.5880190134048462),\n",
       " ('se', 0.5854038596153259),\n",
       " ('en', 0.5797123908996582),\n",
       " ('europe', 0.5784621238708496)]"
      ]
     },
     "execution_count": 93,
     "metadata": {},
     "output_type": "execute_result"
    }
   ],
   "source": [
    "w2v_model.wv.most_similar(positive=[\"jack\"])"
   ]
  },
  {
   "cell_type": "code",
   "execution_count": 94,
   "metadata": {
    "tags": []
   },
   "outputs": [
    {
     "data": {
      "text/plain": [
       "[('council', 0.7148386836051941),\n",
       " ('select', 0.7135277986526489),\n",
       " ('congratulation', 0.7118523120880127),\n",
       " ('united_states', 0.6953551769256592),\n",
       " ('fellow', 0.690620481967926),\n",
       " ('committee', 0.6851746439933777),\n",
       " ('robert', 0.6807447671890259),\n",
       " ('recent', 0.679288387298584),\n",
       " ('threat', 0.6781118512153625),\n",
       " ('easily', 0.6757340431213379)]"
      ]
     },
     "execution_count": 94,
     "metadata": {},
     "output_type": "execute_result"
    }
   ],
   "source": [
    "w2v_model.wv.most_similar(positive=[\"homer_simpson\"])"
   ]
  },
  {
   "cell_type": "markdown",
   "metadata": {},
   "source": [
    "## Similarities:\n",
    "Here, we will see how similar are two words to each other :"
   ]
  },
  {
   "cell_type": "code",
   "execution_count": 95,
   "metadata": {
    "tags": []
   },
   "outputs": [
    {
     "data": {
      "text/plain": [
       "0.48876774"
      ]
     },
     "execution_count": 95,
     "metadata": {},
     "output_type": "execute_result"
    }
   ],
   "source": [
    "w2v_model.wv.similarity(\"homer\", 'tavern')"
   ]
  },
  {
   "cell_type": "code",
   "execution_count": 96,
   "metadata": {
    "tags": []
   },
   "outputs": [
    {
     "data": {
      "text/plain": [
       "0.64885294"
      ]
     },
     "execution_count": 96,
     "metadata": {},
     "output_type": "execute_result"
    }
   ],
   "source": [
    "w2v_model.wv.similarity('maggie', 'baby')"
   ]
  },
  {
   "cell_type": "markdown",
   "metadata": {},
   "source": [
    "## Odd-One-Out:\n",
    "Here, we ask our model to give us the word that does not belong to the list!\n",
    "\n",
    "Between Jimbo, Milhouse, and Kearney, who is the one who is not a bully?"
   ]
  },
  {
   "cell_type": "code",
   "execution_count": 97,
   "metadata": {
    "tags": []
   },
   "outputs": [
    {
     "name": "stderr",
     "output_type": "stream",
     "text": [
      "WARNING - 17:07:15: vectors for words {'kearney'} are not present in the model, ignoring these words\n"
     ]
    },
    {
     "data": {
      "text/plain": [
       "'jimbo'"
      ]
     },
     "execution_count": 97,
     "metadata": {},
     "output_type": "execute_result"
    }
   ],
   "source": [
    "w2v_model.wv.doesnt_match(['jimbo', 'milhouse', 'kearney'])"
   ]
  },
  {
   "cell_type": "code",
   "execution_count": 98,
   "metadata": {
    "tags": []
   },
   "outputs": [
    {
     "data": {
      "text/plain": [
       "'nelson'"
      ]
     },
     "execution_count": 98,
     "metadata": {},
     "output_type": "execute_result"
    }
   ],
   "source": [
    "w2v_model.wv.doesnt_match([\"nelson\", \"bart\", \"milhouse\"])"
   ]
  },
  {
   "cell_type": "code",
   "execution_count": 99,
   "metadata": {
    "tags": []
   },
   "outputs": [
    {
     "data": {
      "text/plain": [
       "'homer'"
      ]
     },
     "execution_count": 99,
     "metadata": {},
     "output_type": "execute_result"
    }
   ],
   "source": [
    "# how is the relationship between Homer and his two sister-in-laws?\n",
    "\n",
    "w2v_model.wv.doesnt_match(['homer', 'patty', 'selma'])"
   ]
  },
  {
   "cell_type": "code",
   "execution_count": 100,
   "metadata": {
    "tags": []
   },
   "outputs": [
    {
     "data": {
      "text/plain": [
       "[('lisa', 0.8186137080192566),\n",
       " ('hearing', 0.7537573575973511),\n",
       " ('mom_dad', 0.7378601431846619),\n",
       " ('mom', 0.7193290591239929),\n",
       " ('convince', 0.7187528014183044),\n",
       " ('pay_attention', 0.7048956155776978),\n",
       " ('substitute', 0.7046256065368652),\n",
       " ('homework', 0.6993526220321655),\n",
       " ('concerned', 0.693973183631897),\n",
       " ('strangle', 0.6922091841697693)]"
      ]
     },
     "execution_count": 100,
     "metadata": {},
     "output_type": "execute_result"
    }
   ],
   "source": [
    "w2v_model.wv.most_similar(positive=[\"bart\"])"
   ]
  },
  {
   "cell_type": "markdown",
   "metadata": {},
   "source": [
    "## Analogy difference:\n",
    "\n",
    "Which word is to woman as homer is to marge?"
   ]
  },
  {
   "cell_type": "code",
   "execution_count": 108,
   "metadata": {
    "tags": []
   },
   "outputs": [
    {
     "data": {
      "text/plain": [
       "[('depressed', 0.5631575584411621),\n",
       " ('attract', 0.5622260570526123),\n",
       " ('hideous', 0.5444519519805908)]"
      ]
     },
     "execution_count": 108,
     "metadata": {},
     "output_type": "execute_result"
    }
   ],
   "source": [
    "w2v_model.wv.most_similar(positive=[\"woman\", \"homer\"], negative=[\"marge\"], topn=3)"
   ]
  },
  {
   "cell_type": "markdown",
   "metadata": {},
   "source": [
    "\"man\" comes at the first position, that looks about right!"
   ]
  },
  {
   "cell_type": "markdown",
   "metadata": {},
   "source": [
    "Which word is to woman as bart is to man?"
   ]
  },
  {
   "cell_type": "code",
   "execution_count": 107,
   "metadata": {
    "tags": []
   },
   "outputs": [
    {
     "data": {
      "text/plain": [
       "[('pregnant', 0.6801989078521729),\n",
       " ('lisa', 0.6670233011245728),\n",
       " ('anyhoo', 0.6448866128921509)]"
      ]
     },
     "execution_count": 107,
     "metadata": {},
     "output_type": "execute_result"
    }
   ],
   "source": [
    "w2v_model.wv.most_similar(positive=[\"woman\", \"bart\"], negative=[\"man\"], topn=3)"
   ]
  },
  {
   "cell_type": "code",
   "execution_count": null,
   "metadata": {},
   "outputs": [],
   "source": []
  }
 ],
 "metadata": {
  "kernelspec": {
   "display_name": "Python 3 (ipykernel)",
   "language": "python",
   "name": "python3"
  },
  "language_info": {
   "codemirror_mode": {
    "name": "ipython",
    "version": 3
   },
   "file_extension": ".py",
   "mimetype": "text/x-python",
   "name": "python",
   "nbconvert_exporter": "python",
   "pygments_lexer": "ipython3",
   "version": "3.12.4"
  }
 },
 "nbformat": 4,
 "nbformat_minor": 4
}
