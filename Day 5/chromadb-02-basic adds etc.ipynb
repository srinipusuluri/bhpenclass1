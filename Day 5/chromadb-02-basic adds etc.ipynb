{
 "cells": [
  {
   "cell_type": "code",
   "execution_count": 1,
   "id": "d001a76f-604f-4f5b-98ec-cddf800d6f29",
   "metadata": {},
   "outputs": [],
   "source": [
    "#pip uninstall chromadb"
   ]
  },
  {
   "cell_type": "code",
   "execution_count": 2,
   "id": "5a5ea2b5-858d-432d-bb0a-c7cd7c677234",
   "metadata": {},
   "outputs": [],
   "source": [
    "#!pip install --upgrade chromadb --user"
   ]
  },
  {
   "cell_type": "markdown",
   "id": "0daabbbd-903e-45d7-abf4-cb555d7da052",
   "metadata": {},
   "source": [
    "#### ChromDB\n",
    "- Creating, inspecting, and deleting Collections"
   ]
  },
  {
   "cell_type": "code",
   "execution_count": 3,
   "id": "64ad8f6d-3188-42e7-a62c-3c09d654637e",
   "metadata": {},
   "outputs": [],
   "source": [
    "import chromadb\n",
    "from chromadb.config import Settings"
   ]
  },
  {
   "cell_type": "markdown",
   "id": "78c56bd1-5f78-46c1-96e2-68b63c52e7c5",
   "metadata": {},
   "source": [
    "In the ChromaDB client, the `allow_reset` parameter allows the user to reset \n",
    "the in-memory state or database during the client's lifecycle.\n",
    "\n",
    "When `allow_reset = True`, the following behaviors are enabled:\n",
    " - It allows clearing all stored embeddings and metadata, effectively resetting ChromaDB.\n",
    " - Useful for testing, temporary data handling, or freeing up resources.\n",
    " - In production, it is recommended to set this to `False` to avoid unintended data loss."
   ]
  },
  {
   "cell_type": "code",
   "execution_count": 4,
   "id": "2d2f92f3-79a1-40ab-89fb-a2f9b0a51649",
   "metadata": {},
   "outputs": [],
   "source": [
    "# Create a ChromaDB client\n",
    "chroma_client = chromadb.Client(Settings(allow_reset = True))"
   ]
  },
  {
   "cell_type": "markdown",
   "id": "138cff64-cdee-464e-8de6-76edd346c9bc",
   "metadata": {},
   "source": [
    "- persist_directory='./chroma'\n",
    "- chroma_db_impl   =None"
   ]
  },
  {
   "cell_type": "code",
   "execution_count": 5,
   "id": "bf5e6aba-8524-4bc4-90eb-fc34f4441189",
   "metadata": {},
   "outputs": [
    {
     "data": {
      "text/plain": [
       "[]"
      ]
     },
     "execution_count": 5,
     "metadata": {},
     "output_type": "execute_result"
    }
   ],
   "source": [
    "# list all collections\n",
    "chroma_client.list_collections()"
   ]
  },
  {
   "cell_type": "code",
   "execution_count": 7,
   "id": "e63829c5-3ddb-4823-8c7f-1214cd781a05",
   "metadata": {},
   "outputs": [],
   "source": [
    "# get a collection or create if it doesn't exist already\n",
    "collection = chroma_client.get_or_create_collection(\"first_coll\")"
   ]
  },
  {
   "cell_type": "code",
   "execution_count": 8,
   "id": "b70d8b94-77ab-49f7-b2fc-8647be8181fd",
   "metadata": {},
   "outputs": [
    {
     "data": {
      "text/plain": [
       "Collection(id=dc543bbf-9879-4c2f-b5e5-0297de7f1e82, name=first_coll)"
      ]
     },
     "execution_count": 8,
     "metadata": {},
     "output_type": "execute_result"
    }
   ],
   "source": [
    "# get an existing collection\n",
    "collection = chroma_client.get_collection(\"first_coll\")\n",
    "collection"
   ]
  },
  {
   "cell_type": "code",
   "execution_count": 9,
   "id": "3b0b6ecc-e810-48d1-8995-4281d7cbf208",
   "metadata": {},
   "outputs": [],
   "source": [
    "# delete a collection\n",
    "chroma_client.delete_collection(\"first_coll\")"
   ]
  },
  {
   "cell_type": "code",
   "execution_count": 10,
   "id": "132775d2-984c-4b8e-9e84-d9beba2f7e29",
   "metadata": {},
   "outputs": [
    {
     "data": {
      "text/plain": [
       "[Collection(id=c3373916-6303-4adc-9cbd-c27455c1a3e6, name=first_coll2)]"
      ]
     },
     "execution_count": 10,
     "metadata": {},
     "output_type": "execute_result"
    }
   ],
   "source": [
    "# get a collection or create if it doesn't exist already\n",
    "collection = chroma_client.get_or_create_collection(\"first_coll\")\n",
    "\n",
    "# change the name or metadata on a collection\n",
    "collection.modify(name=\"first_coll2\")\n",
    "\n",
    "# list all collections\n",
    "chroma_client.list_collections()"
   ]
  },
  {
   "cell_type": "code",
   "execution_count": 11,
   "id": "976e4ff9-35e8-4973-ae31-e9fae36eaa25",
   "metadata": {},
   "outputs": [
    {
     "data": {
      "text/plain": [
       "0"
      ]
     },
     "execution_count": 11,
     "metadata": {},
     "output_type": "execute_result"
    }
   ],
   "source": [
    "# get the number of items in a collection\n",
    "collection.count()"
   ]
  },
  {
   "cell_type": "code",
   "execution_count": 13,
   "id": "a826acb7-61f8-4e9b-8c25-5c7bedd9a434",
   "metadata": {},
   "outputs": [
    {
     "data": {
      "text/plain": [
       "{'ids': [],\n",
       " 'embeddings': None,\n",
       " 'metadatas': [],\n",
       " 'documents': [],\n",
       " 'uris': None,\n",
       " 'data': None,\n",
       " 'included': ['metadatas', 'documents']}"
      ]
     },
     "execution_count": 13,
     "metadata": {},
     "output_type": "execute_result"
    }
   ],
   "source": [
    "# get items from a collection\n",
    "collection.get()"
   ]
  },
  {
   "cell_type": "code",
   "execution_count": 14,
   "id": "084bc9c6-9f94-4544-980c-0b8963b689cd",
   "metadata": {},
   "outputs": [],
   "source": [
    "# add new items to a collection\n",
    "# either one at a time\n",
    "collection.add(\n",
    "    embeddings = [1.5, 2.9, 3.4],\n",
    "    metadatas  = {\"uri\": \"img9.png\", \n",
    "                  \"style\": \"style1\"},\n",
    "    documents  =\"doc1000101\",\n",
    "    ids        =\"ur99\",\n",
    ")"
   ]
  },
  {
   "cell_type": "code",
   "execution_count": 16,
   "id": "6c36259e-551b-4337-9303-61c880e52d64",
   "metadata": {},
   "outputs": [
    {
     "data": {
      "text/plain": [
       "{'ids': ['ur99'],\n",
       " 'embeddings': None,\n",
       " 'metadatas': [{'style': 'style1', 'uri': 'img9.png'}],\n",
       " 'documents': ['doc1000101'],\n",
       " 'uris': None,\n",
       " 'data': None,\n",
       " 'included': ['metadatas', 'documents']}"
      ]
     },
     "execution_count": 16,
     "metadata": {},
     "output_type": "execute_result"
    }
   ],
   "source": [
    "# get items from a collection\n",
    "collection.get()"
   ]
  },
  {
   "cell_type": "code",
   "execution_count": 17,
   "id": "ae0fe124-65e4-4334-a44c-301fe02f59d8",
   "metadata": {},
   "outputs": [],
   "source": [
    "# or many, up to 100k+!\n",
    "collection.add(\n",
    "    embeddings= [[1.5, 2.9, 3.4], \n",
    "                 [9.8, 2.3, 2.9]],\n",
    "    metadatas = [{\"style\": \"style1\"}, \n",
    "                 {\"style\": \"style2\"}],\n",
    "    ids       = [\"uri9\", \n",
    "                 \"uri10\"],\n",
    ")"
   ]
  },
  {
   "cell_type": "markdown",
   "id": "d84a3bb3-aa40-4efc-99f5-4cc8c237b9a0",
   "metadata": {},
   "source": [
    "#### Example 02"
   ]
  },
  {
   "cell_type": "code",
   "execution_count": 18,
   "id": "6d80f617-7dcc-46c6-97b4-d989d83ce02f",
   "metadata": {},
   "outputs": [],
   "source": [
    "collection = chroma_client.create_collection(name=\"my_collection\")"
   ]
  },
  {
   "cell_type": "code",
   "execution_count": 19,
   "id": "e35713f9-9c5b-4be4-8ca9-7033f48d34d6",
   "metadata": {},
   "outputs": [],
   "source": [
    "collection.add(\n",
    "    documents = [\"This is a document\", \n",
    "                 \"This is another document\"],\n",
    "    metadatas = [{\"source\": \"my_source\"}, \n",
    "                 {\"source\": \"my_source\"}],\n",
    "    ids       = [\"id1\", \"id2\"]\n",
    ")"
   ]
  },
  {
   "cell_type": "code",
   "execution_count": 20,
   "id": "7c741cd8-3294-47cc-a33b-5b2ea6db9363",
   "metadata": {},
   "outputs": [
    {
     "data": {
      "text/plain": [
       "[Collection(id=27de7824-408d-451f-8879-e9493557e5c1, name=my_collection),\n",
       " Collection(id=c3373916-6303-4adc-9cbd-c27455c1a3e6, name=first_coll2)]"
      ]
     },
     "execution_count": 20,
     "metadata": {},
     "output_type": "execute_result"
    }
   ],
   "source": [
    "# list all collections\n",
    "chroma_client.list_collections()"
   ]
  },
  {
   "cell_type": "code",
   "execution_count": null,
   "id": "603e5c2f-43e9-4f82-a40b-a29465dcc002",
   "metadata": {},
   "outputs": [],
   "source": []
  }
 ],
 "metadata": {
  "kernelspec": {
   "display_name": "Python 3 (ipykernel)",
   "language": "python",
   "name": "python3"
  },
  "language_info": {
   "codemirror_mode": {
    "name": "ipython",
    "version": 3
   },
   "file_extension": ".py",
   "mimetype": "text/x-python",
   "name": "python",
   "nbconvert_exporter": "python",
   "pygments_lexer": "ipython3",
   "version": "3.12.4"
  }
 },
 "nbformat": 4,
 "nbformat_minor": 5
}
